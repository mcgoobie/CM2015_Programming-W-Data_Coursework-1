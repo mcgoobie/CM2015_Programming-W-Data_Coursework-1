{
 "cells": [
  {
   "cell_type": "markdown",
   "id": "0aa60628",
   "metadata": {},
   "source": [
    "\n",
    "# The Nvidia GeForce RTX 3080 : How the world's most anticipated graphics card become a nightmare to get for customers\n"
   ]
  },
  {
   "cell_type": "markdown",
   "id": "48763ee4",
   "metadata": {},
   "source": [
    "\n",
    "\n",
    "## (1) The background, aim and objective of this research\n"
   ]
  },
  {
   "cell_type": "markdown",
   "id": "5beb13ad",
   "metadata": {},
   "source": [
    "\n",
    "### (1.1) Background\n"
   ]
  },
  {
   "cell_type": "markdown",
   "id": "7fdf87cd",
   "metadata": {},
   "source": [
    "As somewhat of a nerd that loves both software and hardware in the IT industry. PC building can be considered as somewhat of a hobby of mine. Back in May 2020, Nvidia announced the launch of their Ampere line of Graphics Cards, with the RTX 3080 reportedly having a <b>50% increase in performance over Nvidia's last-gen flagship</b>, the RTX 2080Ti, while being about 30% cheaper (<b>699 USD</b> vs <b>999 USD</b>), giving consumers better value at a much higher performance-per-dollar.\n",
    "\n",
    "However, as great as these Graphics Cards were on paper, the launch quickly devolved into what was known <i>as the worst of all time</i> due to a multitude of issues that plagued both the availability and pricing of these cards. Leading them to be <b>scalped/sold for more than 2 times</b> their cost price.\n",
    " \n",
    "Therefore, in this research piece, I would like to document and provide some backstory on how the family of cards that was supposed to go down as one of the best Nvidia has made in history, became known as one of its worst.\n",
    " \n",
    " \n",
    "\n"
   ]
  },
  {
   "cell_type": "markdown",
   "id": "5164776a",
   "metadata": {},
   "source": [
    "### (1.2) Aims and Objectives"
   ]
  },
  {
   "cell_type": "markdown",
   "id": "88f5d362",
   "metadata": {},
   "source": [
    " Within this project, my objectivces are to help the reader understand,\n",
    " \n",
    " - Pros of the Ampere Family of Graphics Cards,\n",
    "     - Pricing\n",
    "     - Performance\n",
    "     - Benchmarks\n",
    "     - Value\n",
    "     \n",
    " - Reasons why the run of these Graphics Cards were terrible,\n",
    " \n",
    "     - Scalping\n",
    "     - Chip Shortages\n",
    "     - Crypto Currency\n",
    "     - Covid-19 Pandemic\n",
    "     \n",
    " - How the situation has improved\n",
    " \n",
    " \n",
    " Within this project, my aim is to,\n",
    " \n",
    " __1. Give some analytics and statistics of this family of Graphics Cards__\n",
    " \n",
    " __2. Webscrape the pricing of these cards over time since its launch__\n",
    " \n",
    " __3. Clean and tranform the data so that it is more coherent and suitable for my uses__\n",
    " \n",
    " __4. Plot the data in a way I would be able to view the trends of its pricing and other metrics__\n",
    " \n",
    " And some questions I would like to find answers for,\n",
    " \n",
    " __1. Find out the reason why was the Ampere GPU family so sought after__\n",
    " \n",
    " __2. What were the tangible performance gains to upgrading from an older model TO Ampere__\n",
    "\n",
    " __3. How exactly did the launch of the Ampere GPU family wrong?__\n",
    " \n",
    " __4. Was Ethereum mining really a factor of the inflated GPU pricing?__"
   ]
  },
  {
   "cell_type": "markdown",
   "id": "60882bc8",
   "metadata": {},
   "source": [
    "## (2) The Datasets used"
   ]
  },
  {
   "cell_type": "markdown",
   "id": "e83429ce",
   "metadata": {},
   "source": [
    "### (2.1) Sources of the data I am using"
   ]
  },
  {
   "cell_type": "markdown",
   "id": "55e5ece9",
   "metadata": {},
   "source": [
    "<a href=\"https://www.techpowerup.com/gpu-specs/\">GPU Database</a>, I'm using TechPowerUps' GPU database to retrieve and scrape for the data that I need, I had initially intended to use Nvidia's own website, but their HTML elements were very messy and I was having trouble sorting through for the data I needed.\n",
    "\n",
    "<a href=\"https://www.3dmark.com/search?_ga=2.11827260.905198756.1670502383-1994712384.1670502383\">In-game Benchmarks</a>, I'm using 3DMark to fetch theoretical ingame performance as I do not own all these graphics cards to get actual performance numbers.\n",
    "\n",
    "<a href=\"https://benchmarks.ul.com/\">Benchmarks by UL Solutions</a>, this is another website I used to pull benchmark results of all the graphics cards I will be doing a comparison on.\n",
    "\n",
    "<a href=\"https://finance.yahoo.com/quote/ETH-USD/\">Ethereum Pricing</a>, I'm using spefically ethereum in my research as BitCoin has moved to mining with ASICs prior to the launch of the Graphics card family I'm focusing on and ethereum only moved to using ASICs earlier this year with the Bitmain Antminer E9 in July 2022. Using the <a href=\"https://pypi.org/project/yfinance/\">yfinance</a> python package, i was able to download the market data from Yahoo!s finance API.\n",
    "\n",
    "<a href=\"https://www.tomshardware.com/news/gpu-pricing-index\">GPU Pricing Index</a>, I found this website while searching for the pricing of graphics cards and this source has done a diligent job in tracking and updating the prices of graphics cards from the period of March 2020 till the present."
   ]
  },
  {
   "cell_type": "markdown",
   "id": "66402da4",
   "metadata": {},
   "source": [
    "### (2.2) Limitations of the data I am using"
   ]
  },
  {
   "cell_type": "markdown",
   "id": "fb631dd0",
   "metadata": {},
   "source": [
    "### New Launches have happened\n",
    "\n",
    "Although I am comparing the performance of the Ampere, Pascal and Maxwell2.0 families of cards, the 40 Series (Ada Lovelace) has since launched, but at the current time of me writing this, it is a very new family that just launched back in Oct 2022. Thus, i have omitted any comparisons to that family as i feel that the comparison will be unfair as streneous testing and reviews for that family is still not as extensive as the previous generations."
   ]
  },
  {
   "cell_type": "markdown",
   "id": "440c61c2",
   "metadata": {},
   "source": [
    "### 3DMark uses JavaScript to render pages\n",
    "\n",
    "I considered different sources to extract results of synthetic game performance of the different graphics cards. Initially, I was planning to make use of <a href=\"https://www.3dmark.com/search?_ga=2.11827260.905198756.1670502383-1994712384.1670502383\">3DMark's</a> benchmarking software results to compare the average graphics score of the graphics cards in my list. However, I found that 3DMark renders its pages using JavaScript and required me to make use of AJAX requests to scrape its headers.\n",
    "\n",
    "However, I was not satisfied with my code as it was too messy and thus i looked for a better solution. Other benchmarking sites such as <a href=\"https://gpu.userbenchmark.com/\">user benchmark</a> and <a href=\"https://www.tomshardware.com/reviews/gpu-hierarchy,4388.html\">Tom's Hardware</a>. However, the best alternative i found was <a href=\"https://benchmarks.ul.com/\">Benchmarks by UL Solutions</a>, who also happen to be the developers of 3DMark. This site featured a list of the median results submitted by all their users accross the globe, which is updated daily. Thhus leading me to use this instead."
   ]
  },
  {
   "cell_type": "markdown",
   "id": "63a9b68e",
   "metadata": {},
   "source": [
    "### Past pricing of graphics cards are no longer available\n",
    "\n",
    "As this is research into a very niche topic, there isn't any proper dataset collecting and tracking the prices of graphics cards. Initially, I had planned to use <a href=\"https://pcpartpicker.com/\">PCPartPicker</a> as it features a price tracking that lists the pricing of PC components. However, the site only tracks the official price (MSRP) of the graphics cards in my comparison and this is not an accurate reflection of the pricing situation that consumers were facing. Thus, this led me to finding another source, eventually ending up with <a href=\"https://www.tomshardware.com/news/gpu-pricing-index\">Tom's Hardware GPU Pricing Index</a>."
   ]
  },
  {
   "cell_type": "markdown",
   "id": "c98dba8f",
   "metadata": {},
   "source": [
    "### I do not own these cards for testing\n",
    "\n",
    "In an ideal scenario, to do up a proper list of comparisons between different Graphics Cards, I would need to own and test them in a suite of different games, using a computer with the exact some components each time, with the only part changing being the Graphics Card. However, I do not own them and cannot provide a 100% accurate analysis of their individual performance. Hence, my usage of synthetic benchmark results instead, as these are scores submitted by users accross the world and although I do not know their system specifications, I can filter the results I want to at least share the same CPU, removing any possible bottleneck there."
   ]
  },
  {
   "cell_type": "markdown",
   "id": "b3c53342",
   "metadata": {},
   "source": [
    "### Why did i choose Ethereum over the other Cryptocurrencies\n",
    "\n",
    "While I am aware that there exists many other currencies in the Crypto market, I have chosen to use Ethereum instead of other coins like LUNA, DOGE, SHIBA, LITECoin etc. The main reason being that Ethereum is the 2nd highest coin in price on the market and unlike BitCoin, did not use ASICs to mine prior to late 2022. If I had opted to look at more cryptocurrencies in my analysis, my research objective would have lost some of its original purpose, now being a crypto price analysis instead."
   ]
  },
  {
   "cell_type": "markdown",
   "id": "6b14a1ba",
   "metadata": {},
   "source": [
    "### Plotly, interactivity but with some limitations\n",
    "\n",
    "Plotly is a library for plotting interative graphs using embedded HTML/JavaScript to render them. However, unlike matplotlib, they cannot be displayed normally in static environments such as .PDF files/GitHub previews. Thus, I had to include an alternative plotly graph as a static .png image as well."
   ]
  },
  {
   "cell_type": "markdown",
   "id": "906590a0",
   "metadata": {},
   "source": [
    "## (3) Requirements"
   ]
  },
  {
   "cell_type": "markdown",
   "id": "8ab5f7a1",
   "metadata": {},
   "source": [
    "### (3.1) Importing relevant libraries"
   ]
  },
  {
   "cell_type": "code",
   "execution_count": 1,
   "id": "a244f71b",
   "metadata": {},
   "outputs": [],
   "source": [
    "import kaleido\n",
    "import pandas as pd\n",
    "import numpy as np\n",
    "from bs4 import BeautifulSoup\n",
    "import requests\n",
    "import re\n",
    "import json\n",
    "import matplotlib.pyplot as plt\n",
    "from wordcloud import WordCloud\n",
    "from wordcloud import STOPWORDS\n",
    "import os\n",
    "\n",
    "import plotly\n",
    "import plotly.express as px\n",
    "import plotly.graph_objects as go\n",
    "from plotly.subplots import make_subplots\n",
    "import yfinance\n",
    "\n",
    "from re import sub\n",
    "from decimal import Decimal\n",
    "from itertools import islice"
   ]
  },
  {
   "cell_type": "markdown",
   "id": "640cef4d",
   "metadata": {},
   "source": [
    "### (3.2) Scraping of Data and writing to JSON"
   ]
  },
  {
   "cell_type": "markdown",
   "id": "7c985c28",
   "metadata": {},
   "source": [
    "<h3>Constructing the BeautifulSoup Obj</h3>"
   ]
  },
  {
   "cell_type": "code",
   "execution_count": 3,
   "id": "de35eb13",
   "metadata": {},
   "outputs": [],
   "source": [
    "# Setting up BeautifulSoup to fetch data i need\n",
    "def get_soup(URL, jar=None):\n",
    "    request_headers = {\n",
    "        \"Upgrade-Insecure-Requests\": \"1\",\n",
    "        \"User-Agent\": \"Mozilla/5.0 (Macintosh; Intel Mac OS X 10.9; rv:50.0) Gecko/20100101 Firefox/50.0\",\n",
    "        \"Accept\": \"text/html,application/xhtml+xml,application/xml;q=0.9,/;q=0.8\",\n",
    "        \"Accept-Language\": \"en-US,en;q=0.5\",\n",
    "        \"Accept-Encoding\": \"gzip, deflate, br\"\n",
    "\n",
    "    }\n",
    "\n",
    "    if jar:\n",
    "        r = requests.get(URL, cookies=jar, headers=request_headers)\n",
    "    else:\n",
    "        r = requests.get(URL, headers=request_headers)\n",
    "        jar = requests.cookies.RequestsCookieJar()\n",
    "    data = r.text\n",
    "    soup = BeautifulSoup(data, \"html.parser\")\n",
    "    return soup, jar"
   ]
  },
  {
   "cell_type": "code",
   "execution_count": 4,
   "id": "cc794d54",
   "metadata": {},
   "outputs": [
    {
     "name": "stdout",
     "output_type": "stream",
     "text": [
      "Soup is ready for consumption. Check the link above to be sure! \n"
     ]
    }
   ],
   "source": [
    "# Test bs4 req to check if link works\n",
    "soup, jar = get_soup(\"https://www.techpowerup.com/gpu-specs/geforce-rtx-3080.c3621\")\n",
    "\n",
    "# Check if the BeautifulSoup obj has an attribute within\n",
    "if hasattr(soup, 'attr_name'):\n",
    "    print(\"Soup is ready for consumption. Check the link above to be sure! \")"
   ]
  },
  {
   "cell_type": "markdown",
   "id": "1264a09a",
   "metadata": {},
   "source": [
    "<h3>Functions to help me scrape the data i need</h3>"
   ]
  },
  {
   "cell_type": "code",
   "execution_count": 5,
   "id": "4ffc0ec5",
   "metadata": {},
   "outputs": [],
   "source": [
    "def fetch_card_specs(soup, class_type, class_data):\n",
    "    t_results = soup.find_all(\"dt\", class_type)\n",
    "    d_results = soup.find_all(\"dd\", class_data)\n",
    "    card_specs = {}\n",
    "    for field, data in zip(t_results, d_results):\n",
    "        card_specs[field.text] = data.text\n",
    "    \n",
    "    return card_specs\n",
    "\n",
    "# This was done seperately from the base card specs as the HTML i scrapped this from\n",
    "# used a reusable container with no explicit classname or id, leading me to use regex\n",
    "def fetch_physical_specs(soup, card_dict):\n",
    "    # Regex checks for matching label name and fetches the attribute after it\n",
    "    base_clock  = soup.find('dt', text = re.compile('^Base\\sClock')).findNext('dd').contents[0]\n",
    "    card_dict[\"Base Clock\"] = base_clock\n",
    "    \n",
    "    \n",
    "    boost_clock  = soup.find('dt', text = re.compile('^Boost\\sClock')).findNext('dd').contents[0]\n",
    "    card_dict[\"Boost Clock\"] = boost_clock\n",
    "    \n",
    "    \n",
    "    amt_cores = soup.find('dt', text = re.compile('^CUDA')).findNext('dd').contents[0]\n",
    "    card_dict[\"CUDA Cores\"] = amt_cores\n",
    "    \n",
    "    bandwidth = soup.find('dt', text = re.compile('^Bandwidth')).findNext('dd').contents[0]\n",
    "    card_dict[\"Memory Bandwidth\"] = bandwidth.strip() # String contained whitespaces so i removed them using .strip()\n",
    "    \n",
    "    \n",
    "    # Checks if card gen supports ray tracing     \n",
    "    ray_tracing = True\n",
    "    rt_cores = soup.find('dt', text = re.compile('^RT\\sCores'))\n",
    "    if rt_cores is None:\n",
    "        ray_tracing = False\n",
    "        card_dict[\"Ray Tracing Capable(?)\"] = ray_tracing\n",
    "    else:\n",
    "        card_dict[\"Ray Tracing Capable(?)\"] = ray_tracing\n",
    "    \n",
    "    \n",
    "    total_draw = soup.find('dt', text = re.compile('^TDP')).findNext('dd').contents[0]\n",
    "    card_dict[\"TDP\"] = total_draw\n",
    "    \n",
    "    \n",
    "    launch_price = soup.find('dt', text = re.compile('^Launch\\sPrice')).findNext('dd').contents[0]\n",
    "    card_dict[\"Launch Price (USD)\"] = launch_price\n",
    "\n",
    "    \n",
    "def write_to_JSON(data):\n",
    "    file_path = \"Cards.json\"\n",
    "    with open(file_path, \"a\", encoding=\"utf-8\") as f:\n",
    "        if os.stat(file_path).st_size == 0:\n",
    "            json.dump(data, f, ensure_ascii=False)\n",
    "            f.write(\"\\n\")\n",
    "        else:\n",
    "            print(\"File contains old data. Re-Using as is\")"
   ]
  },
  {
   "cell_type": "markdown",
   "id": "39e681fe",
   "metadata": {},
   "source": [
    "## (4) What cards are we comparing to the Ampere Flagship?  "
   ]
  },
  {
   "cell_type": "code",
   "execution_count": 6,
   "id": "979cd175",
   "metadata": {},
   "outputs": [],
   "source": [
    "# List of dictinaries that will be written to JSON\n",
    "card_list = {}"
   ]
  },
  {
   "cell_type": "code",
   "execution_count": 7,
   "id": "9d9678cb",
   "metadata": {},
   "outputs": [
    {
     "data": {
      "text/html": [
       "<div>\n",
       "<style scoped>\n",
       "    .dataframe tbody tr th:only-of-type {\n",
       "        vertical-align: middle;\n",
       "    }\n",
       "\n",
       "    .dataframe tbody tr th {\n",
       "        vertical-align: top;\n",
       "    }\n",
       "\n",
       "    .dataframe thead th {\n",
       "        text-align: right;\n",
       "    }\n",
       "</style>\n",
       "<table border=\"1\" class=\"dataframe\">\n",
       "  <thead>\n",
       "    <tr style=\"text-align: right;\">\n",
       "      <th></th>\n",
       "      <th>Nvidia Geforce RTX 3080</th>\n",
       "    </tr>\n",
       "  </thead>\n",
       "  <tbody>\n",
       "    <tr>\n",
       "      <th>Graphics Processor</th>\n",
       "      <td>GA102</td>\n",
       "    </tr>\n",
       "    <tr>\n",
       "      <th>Cores</th>\n",
       "      <td>8704</td>\n",
       "    </tr>\n",
       "    <tr>\n",
       "      <th>TMUs</th>\n",
       "      <td>272</td>\n",
       "    </tr>\n",
       "    <tr>\n",
       "      <th>ROPs</th>\n",
       "      <td>96</td>\n",
       "    </tr>\n",
       "    <tr>\n",
       "      <th>Memory Size</th>\n",
       "      <td>10 GB</td>\n",
       "    </tr>\n",
       "    <tr>\n",
       "      <th>Memory Type</th>\n",
       "      <td>GDDR6X</td>\n",
       "    </tr>\n",
       "    <tr>\n",
       "      <th>Bus Width</th>\n",
       "      <td>320 bit</td>\n",
       "    </tr>\n",
       "    <tr>\n",
       "      <th>Base Clock</th>\n",
       "      <td>1440 MHz</td>\n",
       "    </tr>\n",
       "    <tr>\n",
       "      <th>Boost Clock</th>\n",
       "      <td>1710 MHz</td>\n",
       "    </tr>\n",
       "    <tr>\n",
       "      <th>CUDA Cores</th>\n",
       "      <td>8.6</td>\n",
       "    </tr>\n",
       "    <tr>\n",
       "      <th>Memory Bandwidth</th>\n",
       "      <td>760.3 GB/s</td>\n",
       "    </tr>\n",
       "    <tr>\n",
       "      <th>Ray Tracing Capable(?)</th>\n",
       "      <td>True</td>\n",
       "    </tr>\n",
       "    <tr>\n",
       "      <th>TDP</th>\n",
       "      <td>320 W</td>\n",
       "    </tr>\n",
       "    <tr>\n",
       "      <th>Launch Price (USD)</th>\n",
       "      <td>699 USD</td>\n",
       "    </tr>\n",
       "  </tbody>\n",
       "</table>\n",
       "</div>"
      ],
      "text/plain": [
       "                       Nvidia Geforce RTX 3080\n",
       "Graphics Processor                       GA102\n",
       "Cores                                     8704\n",
       "TMUs                                       272\n",
       "ROPs                                        96\n",
       "Memory Size                              10 GB\n",
       "Memory Type                             GDDR6X\n",
       "Bus Width                              320 bit\n",
       "Base Clock                            1440 MHz\n",
       "Boost Clock                           1710 MHz\n",
       "CUDA Cores                                 8.6\n",
       "Memory Bandwidth                    760.3 GB/s\n",
       "Ray Tracing Capable(?)                    True\n",
       "TDP                                      320 W\n",
       "Launch Price (USD)                     699 USD"
      ]
     },
     "execution_count": 7,
     "metadata": {},
     "output_type": "execute_result"
    }
   ],
   "source": [
    "# RTX 3080 Card Specifications\n",
    "soup, jar = get_soup(\"https://www.techpowerup.com/gpu-specs/geforce-rtx-3080.c3621\")\n",
    "\n",
    "# Fetch Card Specs\n",
    "rtx_3080 = fetch_card_specs(soup, {\"class\": \"gpudb-specs-large__title\"}, {\"class\": \"gpudb-specs-large__value\"})\n",
    "\n",
    "# Fetch Card Clock Speeds, tenser/RT cores and TDP\n",
    "fetch_physical_specs(soup, rtx_3080)\n",
    "\n",
    "# Construct DataFrame using dictionary keys as column names\n",
    "df = pd.DataFrame.from_dict(rtx_3080, orient='index', columns=['Nvidia Geforce RTX 3080'])\n",
    "\n",
    "# Append to a list and dump all the data into JSON\n",
    "card_list[\"Nvidia Geforce RTX 3080\"] = rtx_3080\n",
    "\n",
    "df"
   ]
  },
  {
   "cell_type": "code",
   "execution_count": 8,
   "id": "c444324b",
   "metadata": {},
   "outputs": [
    {
     "data": {
      "text/html": [
       "<div>\n",
       "<style scoped>\n",
       "    .dataframe tbody tr th:only-of-type {\n",
       "        vertical-align: middle;\n",
       "    }\n",
       "\n",
       "    .dataframe tbody tr th {\n",
       "        vertical-align: top;\n",
       "    }\n",
       "\n",
       "    .dataframe thead th {\n",
       "        text-align: right;\n",
       "    }\n",
       "</style>\n",
       "<table border=\"1\" class=\"dataframe\">\n",
       "  <thead>\n",
       "    <tr style=\"text-align: right;\">\n",
       "      <th></th>\n",
       "      <th>Nvidia Geforce RTX 2080</th>\n",
       "    </tr>\n",
       "  </thead>\n",
       "  <tbody>\n",
       "    <tr>\n",
       "      <th>Graphics Processor</th>\n",
       "      <td>TU104</td>\n",
       "    </tr>\n",
       "    <tr>\n",
       "      <th>Cores</th>\n",
       "      <td>2944</td>\n",
       "    </tr>\n",
       "    <tr>\n",
       "      <th>TMUs</th>\n",
       "      <td>184</td>\n",
       "    </tr>\n",
       "    <tr>\n",
       "      <th>ROPs</th>\n",
       "      <td>64</td>\n",
       "    </tr>\n",
       "    <tr>\n",
       "      <th>Memory Size</th>\n",
       "      <td>8 GB</td>\n",
       "    </tr>\n",
       "    <tr>\n",
       "      <th>Memory Type</th>\n",
       "      <td>GDDR6</td>\n",
       "    </tr>\n",
       "    <tr>\n",
       "      <th>Bus Width</th>\n",
       "      <td>256 bit</td>\n",
       "    </tr>\n",
       "    <tr>\n",
       "      <th>Base Clock</th>\n",
       "      <td>1515 MHz</td>\n",
       "    </tr>\n",
       "    <tr>\n",
       "      <th>Boost Clock</th>\n",
       "      <td>1710 MHz</td>\n",
       "    </tr>\n",
       "    <tr>\n",
       "      <th>CUDA Cores</th>\n",
       "      <td>7.5</td>\n",
       "    </tr>\n",
       "    <tr>\n",
       "      <th>Memory Bandwidth</th>\n",
       "      <td>448.0 GB/s</td>\n",
       "    </tr>\n",
       "    <tr>\n",
       "      <th>Ray Tracing Capable(?)</th>\n",
       "      <td>True</td>\n",
       "    </tr>\n",
       "    <tr>\n",
       "      <th>TDP</th>\n",
       "      <td>215 W</td>\n",
       "    </tr>\n",
       "    <tr>\n",
       "      <th>Launch Price (USD)</th>\n",
       "      <td>699 USD</td>\n",
       "    </tr>\n",
       "  </tbody>\n",
       "</table>\n",
       "</div>"
      ],
      "text/plain": [
       "                       Nvidia Geforce RTX 2080\n",
       "Graphics Processor                       TU104\n",
       "Cores                                     2944\n",
       "TMUs                                       184\n",
       "ROPs                                        64\n",
       "Memory Size                               8 GB\n",
       "Memory Type                              GDDR6\n",
       "Bus Width                              256 bit\n",
       "Base Clock                            1515 MHz\n",
       "Boost Clock                           1710 MHz\n",
       "CUDA Cores                                 7.5\n",
       "Memory Bandwidth                    448.0 GB/s\n",
       "Ray Tracing Capable(?)                    True\n",
       "TDP                                      215 W\n",
       "Launch Price (USD)                     699 USD"
      ]
     },
     "execution_count": 8,
     "metadata": {},
     "output_type": "execute_result"
    }
   ],
   "source": [
    "# RTX 2080 Card Specifications\n",
    "soup, jar = get_soup(\"https://www.techpowerup.com/gpu-specs/geforce-rtx-2080.c3224\")\n",
    "\n",
    "# Fetch Card Specs\n",
    "rtx_2080 = fetch_card_specs(soup, {\"class\": \"gpudb-specs-large__title\"}, {\"class\": \"gpudb-specs-large__value\"})\n",
    "\n",
    "# Fetch Card Clock Speeds\n",
    "fetch_physical_specs(soup, rtx_2080)\n",
    "\n",
    "# Construct DataFrame using dictionary keys as column names\n",
    "df = pd.DataFrame.from_dict(rtx_2080, orient='index', columns=['Nvidia Geforce RTX 2080'])\n",
    "\n",
    "# Append to a list and dump all the data into JSON\n",
    "card_list[\"Nvidia Geforce RTX 2080\"] = rtx_2080\n",
    "\n",
    "df"
   ]
  },
  {
   "cell_type": "code",
   "execution_count": 9,
   "id": "839739ef",
   "metadata": {},
   "outputs": [
    {
     "data": {
      "text/html": [
       "<div>\n",
       "<style scoped>\n",
       "    .dataframe tbody tr th:only-of-type {\n",
       "        vertical-align: middle;\n",
       "    }\n",
       "\n",
       "    .dataframe tbody tr th {\n",
       "        vertical-align: top;\n",
       "    }\n",
       "\n",
       "    .dataframe thead th {\n",
       "        text-align: right;\n",
       "    }\n",
       "</style>\n",
       "<table border=\"1\" class=\"dataframe\">\n",
       "  <thead>\n",
       "    <tr style=\"text-align: right;\">\n",
       "      <th></th>\n",
       "      <th>Nvidia Geforce GTX 1080</th>\n",
       "    </tr>\n",
       "  </thead>\n",
       "  <tbody>\n",
       "    <tr>\n",
       "      <th>Graphics Processor</th>\n",
       "      <td>GP104</td>\n",
       "    </tr>\n",
       "    <tr>\n",
       "      <th>Cores</th>\n",
       "      <td>2560</td>\n",
       "    </tr>\n",
       "    <tr>\n",
       "      <th>TMUs</th>\n",
       "      <td>160</td>\n",
       "    </tr>\n",
       "    <tr>\n",
       "      <th>ROPs</th>\n",
       "      <td>64</td>\n",
       "    </tr>\n",
       "    <tr>\n",
       "      <th>Memory Size</th>\n",
       "      <td>8 GB</td>\n",
       "    </tr>\n",
       "    <tr>\n",
       "      <th>Memory Type</th>\n",
       "      <td>GDDR5X</td>\n",
       "    </tr>\n",
       "    <tr>\n",
       "      <th>Bus Width</th>\n",
       "      <td>256 bit</td>\n",
       "    </tr>\n",
       "    <tr>\n",
       "      <th>Base Clock</th>\n",
       "      <td>1607 MHz</td>\n",
       "    </tr>\n",
       "    <tr>\n",
       "      <th>Boost Clock</th>\n",
       "      <td>1733 MHz</td>\n",
       "    </tr>\n",
       "    <tr>\n",
       "      <th>CUDA Cores</th>\n",
       "      <td>6.1</td>\n",
       "    </tr>\n",
       "    <tr>\n",
       "      <th>Memory Bandwidth</th>\n",
       "      <td>320.3 GB/s</td>\n",
       "    </tr>\n",
       "    <tr>\n",
       "      <th>Ray Tracing Capable(?)</th>\n",
       "      <td>False</td>\n",
       "    </tr>\n",
       "    <tr>\n",
       "      <th>TDP</th>\n",
       "      <td>180 W</td>\n",
       "    </tr>\n",
       "    <tr>\n",
       "      <th>Launch Price (USD)</th>\n",
       "      <td>599 USD</td>\n",
       "    </tr>\n",
       "  </tbody>\n",
       "</table>\n",
       "</div>"
      ],
      "text/plain": [
       "                       Nvidia Geforce GTX 1080\n",
       "Graphics Processor                       GP104\n",
       "Cores                                     2560\n",
       "TMUs                                       160\n",
       "ROPs                                        64\n",
       "Memory Size                               8 GB\n",
       "Memory Type                             GDDR5X\n",
       "Bus Width                              256 bit\n",
       "Base Clock                            1607 MHz\n",
       "Boost Clock                           1733 MHz\n",
       "CUDA Cores                                 6.1\n",
       "Memory Bandwidth                    320.3 GB/s\n",
       "Ray Tracing Capable(?)                   False\n",
       "TDP                                      180 W\n",
       "Launch Price (USD)                     599 USD"
      ]
     },
     "execution_count": 9,
     "metadata": {},
     "output_type": "execute_result"
    }
   ],
   "source": [
    "# GTX 1080 Card Specifications\n",
    "soup, jar = get_soup(\"https://www.techpowerup.com/gpu-specs/geforce-gtx-1080.c2839\")\n",
    "\n",
    "# Fetch Card Specs\n",
    "gtx_1080 = fetch_card_specs(soup, {\"class\": \"gpudb-specs-large__title\"}, {\"class\": \"gpudb-specs-large__value\"})\n",
    "\n",
    "# Fetch Card Clock Speeds\n",
    "fetch_physical_specs(soup, gtx_1080)\n",
    "\n",
    "# Construct DataFrame using dictionary keys as column names\n",
    "df = pd.DataFrame.from_dict(gtx_1080, orient='index', columns=['Nvidia Geforce GTX 1080'])\n",
    "\n",
    "# Append to a list and dump all the data into JSON\n",
    "card_list[\"Nvidia Geforce GTX 1080\"] = gtx_1080\n",
    "\n",
    "df"
   ]
  },
  {
   "cell_type": "code",
   "execution_count": 10,
   "id": "d0805f25",
   "metadata": {},
   "outputs": [
    {
     "data": {
      "text/html": [
       "<div>\n",
       "<style scoped>\n",
       "    .dataframe tbody tr th:only-of-type {\n",
       "        vertical-align: middle;\n",
       "    }\n",
       "\n",
       "    .dataframe tbody tr th {\n",
       "        vertical-align: top;\n",
       "    }\n",
       "\n",
       "    .dataframe thead th {\n",
       "        text-align: right;\n",
       "    }\n",
       "</style>\n",
       "<table border=\"1\" class=\"dataframe\">\n",
       "  <thead>\n",
       "    <tr style=\"text-align: right;\">\n",
       "      <th></th>\n",
       "      <th>Nvidia Geforce GTX 980</th>\n",
       "    </tr>\n",
       "  </thead>\n",
       "  <tbody>\n",
       "    <tr>\n",
       "      <th>Graphics Processor</th>\n",
       "      <td>GM204</td>\n",
       "    </tr>\n",
       "    <tr>\n",
       "      <th>Cores</th>\n",
       "      <td>2048</td>\n",
       "    </tr>\n",
       "    <tr>\n",
       "      <th>TMUs</th>\n",
       "      <td>128</td>\n",
       "    </tr>\n",
       "    <tr>\n",
       "      <th>ROPs</th>\n",
       "      <td>64</td>\n",
       "    </tr>\n",
       "    <tr>\n",
       "      <th>Memory Size</th>\n",
       "      <td>4 GB</td>\n",
       "    </tr>\n",
       "    <tr>\n",
       "      <th>Memory Type</th>\n",
       "      <td>GDDR5</td>\n",
       "    </tr>\n",
       "    <tr>\n",
       "      <th>Bus Width</th>\n",
       "      <td>256 bit</td>\n",
       "    </tr>\n",
       "    <tr>\n",
       "      <th>Base Clock</th>\n",
       "      <td>1127 MHz</td>\n",
       "    </tr>\n",
       "    <tr>\n",
       "      <th>Boost Clock</th>\n",
       "      <td>1216 MHz</td>\n",
       "    </tr>\n",
       "    <tr>\n",
       "      <th>CUDA Cores</th>\n",
       "      <td>5.2</td>\n",
       "    </tr>\n",
       "    <tr>\n",
       "      <th>Memory Bandwidth</th>\n",
       "      <td>224.4 GB/s</td>\n",
       "    </tr>\n",
       "    <tr>\n",
       "      <th>Ray Tracing Capable(?)</th>\n",
       "      <td>False</td>\n",
       "    </tr>\n",
       "    <tr>\n",
       "      <th>TDP</th>\n",
       "      <td>165 W</td>\n",
       "    </tr>\n",
       "    <tr>\n",
       "      <th>Launch Price (USD)</th>\n",
       "      <td>549 USD</td>\n",
       "    </tr>\n",
       "  </tbody>\n",
       "</table>\n",
       "</div>"
      ],
      "text/plain": [
       "                       Nvidia Geforce GTX 980\n",
       "Graphics Processor                      GM204\n",
       "Cores                                    2048\n",
       "TMUs                                      128\n",
       "ROPs                                       64\n",
       "Memory Size                              4 GB\n",
       "Memory Type                             GDDR5\n",
       "Bus Width                             256 bit\n",
       "Base Clock                           1127 MHz\n",
       "Boost Clock                          1216 MHz\n",
       "CUDA Cores                                5.2\n",
       "Memory Bandwidth                   224.4 GB/s\n",
       "Ray Tracing Capable(?)                  False\n",
       "TDP                                     165 W\n",
       "Launch Price (USD)                    549 USD"
      ]
     },
     "execution_count": 10,
     "metadata": {},
     "output_type": "execute_result"
    }
   ],
   "source": [
    "# GTX 980 Card Specifications\n",
    "soup, jar = get_soup(\"https://www.techpowerup.com/gpu-specs/geforce-gtx-980.c2621\")\n",
    "# Fetch Card Specs\n",
    "gtx_980 = fetch_card_specs(soup, {\"class\": \"gpudb-specs-large__title\"}, {\"class\": \"gpudb-specs-large__value\"})\n",
    "# Fetch Card Clock Speeds\n",
    "fetch_physical_specs(soup, gtx_980)\n",
    "\n",
    "# Construct DataFrame using dictionary keys as column names\n",
    "df = pd.DataFrame.from_dict(gtx_980, orient='index', columns=['Nvidia Geforce GTX 980'])\n",
    "\n",
    "# Append to a list and dump all the data into JSON\n",
    "card_list[\"Nvidia Geforce GTX 980\"] = gtx_980\n",
    "\n",
    "df"
   ]
  },
  {
   "cell_type": "code",
   "execution_count": 11,
   "id": "1aa795dd",
   "metadata": {},
   "outputs": [
    {
     "name": "stdout",
     "output_type": "stream",
     "text": [
      "File contains old data. Re-Using as is\n"
     ]
    }
   ],
   "source": [
    "# Write to JSON file\n",
    "write_to_JSON(card_list)"
   ]
  },
  {
   "cell_type": "code",
   "execution_count": 12,
   "id": "2eba86cb",
   "metadata": {},
   "outputs": [
    {
     "data": {
      "text/html": [
       "<div>\n",
       "<style scoped>\n",
       "    .dataframe tbody tr th:only-of-type {\n",
       "        vertical-align: middle;\n",
       "    }\n",
       "\n",
       "    .dataframe tbody tr th {\n",
       "        vertical-align: top;\n",
       "    }\n",
       "\n",
       "    .dataframe thead th {\n",
       "        text-align: right;\n",
       "    }\n",
       "</style>\n",
       "<table border=\"1\" class=\"dataframe\">\n",
       "  <thead>\n",
       "    <tr style=\"text-align: right;\">\n",
       "      <th></th>\n",
       "      <th>Nvidia Geforce RTX 3080</th>\n",
       "      <th>Nvidia Geforce RTX 2080</th>\n",
       "      <th>Nvidia Geforce GTX 1080</th>\n",
       "      <th>Nvidia Geforce GTX 980</th>\n",
       "    </tr>\n",
       "  </thead>\n",
       "  <tbody>\n",
       "    <tr>\n",
       "      <th>Graphics Processor</th>\n",
       "      <td>GA102</td>\n",
       "      <td>TU104</td>\n",
       "      <td>GP104</td>\n",
       "      <td>GM204</td>\n",
       "    </tr>\n",
       "    <tr>\n",
       "      <th>Cores</th>\n",
       "      <td>8704</td>\n",
       "      <td>2944</td>\n",
       "      <td>2560</td>\n",
       "      <td>2048</td>\n",
       "    </tr>\n",
       "    <tr>\n",
       "      <th>TMUs</th>\n",
       "      <td>272</td>\n",
       "      <td>184</td>\n",
       "      <td>160</td>\n",
       "      <td>128</td>\n",
       "    </tr>\n",
       "    <tr>\n",
       "      <th>ROPs</th>\n",
       "      <td>96</td>\n",
       "      <td>64</td>\n",
       "      <td>64</td>\n",
       "      <td>64</td>\n",
       "    </tr>\n",
       "    <tr>\n",
       "      <th>Memory Size</th>\n",
       "      <td>10 GB</td>\n",
       "      <td>8 GB</td>\n",
       "      <td>8 GB</td>\n",
       "      <td>4 GB</td>\n",
       "    </tr>\n",
       "    <tr>\n",
       "      <th>Memory Type</th>\n",
       "      <td>GDDR6X</td>\n",
       "      <td>GDDR6</td>\n",
       "      <td>GDDR5X</td>\n",
       "      <td>GDDR5</td>\n",
       "    </tr>\n",
       "    <tr>\n",
       "      <th>Bus Width</th>\n",
       "      <td>320 bit</td>\n",
       "      <td>256 bit</td>\n",
       "      <td>256 bit</td>\n",
       "      <td>256 bit</td>\n",
       "    </tr>\n",
       "    <tr>\n",
       "      <th>Base Clock</th>\n",
       "      <td>1440 MHz</td>\n",
       "      <td>1515 MHz</td>\n",
       "      <td>1607 MHz</td>\n",
       "      <td>1127 MHz</td>\n",
       "    </tr>\n",
       "    <tr>\n",
       "      <th>Boost Clock</th>\n",
       "      <td>1710 MHz</td>\n",
       "      <td>1710 MHz</td>\n",
       "      <td>1733 MHz</td>\n",
       "      <td>1216 MHz</td>\n",
       "    </tr>\n",
       "    <tr>\n",
       "      <th>CUDA Cores</th>\n",
       "      <td>8.6</td>\n",
       "      <td>7.5</td>\n",
       "      <td>6.1</td>\n",
       "      <td>5.2</td>\n",
       "    </tr>\n",
       "    <tr>\n",
       "      <th>Memory Bandwidth</th>\n",
       "      <td>760.3 GB/s</td>\n",
       "      <td>448.0 GB/s</td>\n",
       "      <td>320.3 GB/s</td>\n",
       "      <td>224.4 GB/s</td>\n",
       "    </tr>\n",
       "    <tr>\n",
       "      <th>Ray Tracing Capable(?)</th>\n",
       "      <td>True</td>\n",
       "      <td>True</td>\n",
       "      <td>False</td>\n",
       "      <td>False</td>\n",
       "    </tr>\n",
       "    <tr>\n",
       "      <th>TDP</th>\n",
       "      <td>320 W</td>\n",
       "      <td>215 W</td>\n",
       "      <td>180 W</td>\n",
       "      <td>165 W</td>\n",
       "    </tr>\n",
       "    <tr>\n",
       "      <th>Launch Price (USD)</th>\n",
       "      <td>699 USD</td>\n",
       "      <td>699 USD</td>\n",
       "      <td>599 USD</td>\n",
       "      <td>549 USD</td>\n",
       "    </tr>\n",
       "  </tbody>\n",
       "</table>\n",
       "</div>"
      ],
      "text/plain": [
       "                       Nvidia Geforce RTX 3080 Nvidia Geforce RTX 2080  \\\n",
       "Graphics Processor                       GA102                   TU104   \n",
       "Cores                                     8704                    2944   \n",
       "TMUs                                       272                     184   \n",
       "ROPs                                        96                      64   \n",
       "Memory Size                              10 GB                    8 GB   \n",
       "Memory Type                             GDDR6X                   GDDR6   \n",
       "Bus Width                              320 bit                 256 bit   \n",
       "Base Clock                            1440 MHz                1515 MHz   \n",
       "Boost Clock                           1710 MHz                1710 MHz   \n",
       "CUDA Cores                                 8.6                     7.5   \n",
       "Memory Bandwidth                    760.3 GB/s              448.0 GB/s   \n",
       "Ray Tracing Capable(?)                    True                    True   \n",
       "TDP                                      320 W                   215 W   \n",
       "Launch Price (USD)                     699 USD                 699 USD   \n",
       "\n",
       "                       Nvidia Geforce GTX 1080 Nvidia Geforce GTX 980  \n",
       "Graphics Processor                       GP104                  GM204  \n",
       "Cores                                     2560                   2048  \n",
       "TMUs                                       160                    128  \n",
       "ROPs                                        64                     64  \n",
       "Memory Size                               8 GB                   4 GB  \n",
       "Memory Type                             GDDR5X                  GDDR5  \n",
       "Bus Width                              256 bit                256 bit  \n",
       "Base Clock                            1607 MHz               1127 MHz  \n",
       "Boost Clock                           1733 MHz               1216 MHz  \n",
       "CUDA Cores                                 6.1                    5.2  \n",
       "Memory Bandwidth                    320.3 GB/s             224.4 GB/s  \n",
       "Ray Tracing Capable(?)                   False                  False  \n",
       "TDP                                      180 W                  165 W  \n",
       "Launch Price (USD)                     599 USD                549 USD  "
      ]
     },
     "execution_count": 12,
     "metadata": {},
     "output_type": "execute_result"
    }
   ],
   "source": [
    "file = open('Cards.json')\n",
    "dataframe = json.load(file)\n",
    "cards_data = pd.DataFrame.from_dict(dataframe)\n",
    "cards_data"
   ]
  },
  {
   "cell_type": "markdown",
   "id": "a0f2097e",
   "metadata": {},
   "source": [
    "### The Specifications and what they mean"
   ]
  },
  {
   "cell_type": "markdown",
   "id": "2ddc66d4",
   "metadata": {},
   "source": [
    "### Memory Size and Type"
   ]
  },
  {
   "cell_type": "code",
   "execution_count": 13,
   "id": "7ea3f554",
   "metadata": {},
   "outputs": [
    {
     "data": {
      "text/html": [
       "<div>\n",
       "<style scoped>\n",
       "    .dataframe tbody tr th:only-of-type {\n",
       "        vertical-align: middle;\n",
       "    }\n",
       "\n",
       "    .dataframe tbody tr th {\n",
       "        vertical-align: top;\n",
       "    }\n",
       "\n",
       "    .dataframe thead th {\n",
       "        text-align: right;\n",
       "    }\n",
       "</style>\n",
       "<table border=\"1\" class=\"dataframe\">\n",
       "  <thead>\n",
       "    <tr style=\"text-align: right;\">\n",
       "      <th></th>\n",
       "      <th>Nvidia Geforce RTX 3080</th>\n",
       "      <th>Nvidia Geforce RTX 2080</th>\n",
       "      <th>Nvidia Geforce GTX 1080</th>\n",
       "      <th>Nvidia Geforce GTX 980</th>\n",
       "    </tr>\n",
       "  </thead>\n",
       "  <tbody>\n",
       "    <tr>\n",
       "      <th>Memory Size</th>\n",
       "      <td>10 GB</td>\n",
       "      <td>8 GB</td>\n",
       "      <td>8 GB</td>\n",
       "      <td>4 GB</td>\n",
       "    </tr>\n",
       "    <tr>\n",
       "      <th>Memory Type</th>\n",
       "      <td>GDDR6X</td>\n",
       "      <td>GDDR6</td>\n",
       "      <td>GDDR5X</td>\n",
       "      <td>GDDR5</td>\n",
       "    </tr>\n",
       "    <tr>\n",
       "      <th>Memory Bandwidth</th>\n",
       "      <td>760.3 GB/s</td>\n",
       "      <td>448.0 GB/s</td>\n",
       "      <td>320.3 GB/s</td>\n",
       "      <td>224.4 GB/s</td>\n",
       "    </tr>\n",
       "  </tbody>\n",
       "</table>\n",
       "</div>"
      ],
      "text/plain": [
       "                 Nvidia Geforce RTX 3080 Nvidia Geforce RTX 2080  \\\n",
       "Memory Size                        10 GB                    8 GB   \n",
       "Memory Type                       GDDR6X                   GDDR6   \n",
       "Memory Bandwidth              760.3 GB/s              448.0 GB/s   \n",
       "\n",
       "                 Nvidia Geforce GTX 1080 Nvidia Geforce GTX 980  \n",
       "Memory Size                         8 GB                   4 GB  \n",
       "Memory Type                       GDDR5X                  GDDR5  \n",
       "Memory Bandwidth              320.3 GB/s             224.4 GB/s  "
      ]
     },
     "execution_count": 13,
     "metadata": {},
     "output_type": "execute_result"
    }
   ],
   "source": [
    "mem_data = cards_data.loc[[\"Memory Size\", \"Memory Type\", \"Memory Bandwidth\"]]\n",
    "mem_data"
   ]
  },
  {
   "cell_type": "markdown",
   "id": "004e8711",
   "metadata": {},
   "source": [
    "As can be seen in the table above the RTX 3080 features 10 GB of GDDR6X memory, 1 specification above the older GDDR6, with an additional 2 GB to boot."
   ]
  },
  {
   "cell_type": "markdown",
   "id": "f95e69ea",
   "metadata": {},
   "source": [
    "### Memory Bandwidth"
   ]
  },
  {
   "cell_type": "code",
   "execution_count": 14,
   "id": "925f4b48",
   "metadata": {
    "scrolled": false
   },
   "outputs": [
    {
     "data": {
      "image/png": "[encoded data removed]",
      "text/plain": [
       "<Figure size 432x288 with 1 Axes>"
      ]
     },
     "metadata": {
      "needs_background": "light"
     },
     "output_type": "display_data"
    },
    {
     "data": {
      "text/html": [
       "<div>\n",
       "<style scoped>\n",
       "    .dataframe tbody tr th:only-of-type {\n",
       "        vertical-align: middle;\n",
       "    }\n",
       "\n",
       "    .dataframe tbody tr th {\n",
       "        vertical-align: top;\n",
       "    }\n",
       "\n",
       "    .dataframe thead th {\n",
       "        text-align: right;\n",
       "    }\n",
       "</style>\n",
       "<table border=\"1\" class=\"dataframe\">\n",
       "  <thead>\n",
       "    <tr style=\"text-align: right;\">\n",
       "      <th></th>\n",
       "      <th>Uplift in (%)</th>\n",
       "    </tr>\n",
       "  </thead>\n",
       "  <tbody>\n",
       "    <tr>\n",
       "      <th>20 - 30 Series GPU</th>\n",
       "      <td>70.0</td>\n",
       "    </tr>\n",
       "    <tr>\n",
       "      <th>10 - 20 Series GPU</th>\n",
       "      <td>40.0</td>\n",
       "    </tr>\n",
       "    <tr>\n",
       "      <th>09 - 10 Series GPU</th>\n",
       "      <td>43.0</td>\n",
       "    </tr>\n",
       "  </tbody>\n",
       "</table>\n",
       "</div>"
      ],
      "text/plain": [
       "                    Uplift in (%)\n",
       "20 - 30 Series GPU           70.0\n",
       "10 - 20 Series GPU           40.0\n",
       "09 - 10 Series GPU           43.0"
      ]
     },
     "execution_count": 14,
     "metadata": {},
     "output_type": "execute_result"
    }
   ],
   "source": [
    "def plot_bandwidth(mem_data):\n",
    "    t_bandwidth = []\n",
    "    for bw_str in mem_data.loc[\"Memory Bandwidth\"]:\n",
    "        # Strip 'GB/s' from data to use in plotting of graph      \n",
    "        bandwidth = re.sub(r'[^0-9.]', '', bw_str)\n",
    "        bandwidth = round(float(bandwidth), 0)\n",
    "        t_bandwidth.append(bandwidth)\n",
    "        \n",
    "    x_col = ['20 - 30 Series', '10 - 20 Series', '09 - 10 Series']\n",
    "    l_bar = [t_bandwidth[1], t_bandwidth[2], t_bandwidth[3]]\n",
    "    r_bar = [t_bandwidth[0], t_bandwidth[1], t_bandwidth[2]]\n",
    "    \n",
    "    x_axis = np.arange(len(x_col))\n",
    "  \n",
    "    plt.bar(x_axis - 0.2, l_bar, 0.4, label = 'Old')\n",
    "    plt.bar(x_axis + 0.2, r_bar, 0.4, label = 'New')\n",
    "\n",
    "    plt.xticks(x_axis, x_col)\n",
    "    \n",
    "    plt.xlabel(\"Series Performance Jump\")\n",
    "    plt.ylabel(\"Total Memory Bandwidth\")\n",
    "    plt.title(\"The Performance Jump between each generation of Graphics Cards\")\n",
    "    plt.legend()\n",
    "    plt.show()\n",
    "    \n",
    "    return t_bandwidth\n",
    "\n",
    "    \n",
    "def bandwidth_percent_incr(t_bandwidth):\n",
    "    bandwidth_comp = []\n",
    "    for i in range(len(t_bandwidth)):\n",
    "        if(i + 1 < len(t_bandwidth)):\n",
    "            percentage_diff = (float(t_bandwidth[i]) / float(t_bandwidth[i + 1])) - 1\n",
    "            bandwidth_comp.append(round(percentage_diff, 2) * 100)\n",
    "            \n",
    "    return bandwidth_comp\n",
    "    \n",
    "    \n",
    "t_bandwidth = plot_bandwidth(mem_data)\n",
    "bw_percentage = bandwidth_percent_incr(t_bandwidth)\n",
    "\n",
    "df = pd.DataFrame(bw_percentage, index = ['20 - 30 Series GPU','10 - 20 Series GPU',\n",
    "                                          '09 - 10 Series GPU'], columns = ['Uplift in (%)'])\n",
    "df"
   ]
  },
  {
   "cell_type": "markdown",
   "id": "aa444908",
   "metadata": {},
   "source": [
    "From the Bar chart above, this is a visual representation of the gigantic uplift in the available bandwidth up to an amount of 70%, compared to the usual 40% seen in the previous architectures.\n",
    "\n",
    "Memory Bandwidth is important for a graphics card as it can be considered the speed of your video RAM (VRAM). Higher bandwidth allows for faster and higher quality drawn images displayed by the GPU."
   ]
  },
  {
   "cell_type": "markdown",
   "id": "f531cb27",
   "metadata": {},
   "source": [
    "### Texture Mapping Unit"
   ]
  },
  {
   "cell_type": "code",
   "execution_count": 15,
   "id": "666b2b19",
   "metadata": {},
   "outputs": [
    {
     "data": {
      "text/html": [
       "<div>\n",
       "<style scoped>\n",
       "    .dataframe tbody tr th:only-of-type {\n",
       "        vertical-align: middle;\n",
       "    }\n",
       "\n",
       "    .dataframe tbody tr th {\n",
       "        vertical-align: top;\n",
       "    }\n",
       "\n",
       "    .dataframe thead th {\n",
       "        text-align: right;\n",
       "    }\n",
       "</style>\n",
       "<table border=\"1\" class=\"dataframe\">\n",
       "  <thead>\n",
       "    <tr style=\"text-align: right;\">\n",
       "      <th></th>\n",
       "      <th>Nvidia Geforce RTX 3080</th>\n",
       "      <th>Nvidia Geforce RTX 2080</th>\n",
       "      <th>Nvidia Geforce GTX 1080</th>\n",
       "      <th>Nvidia Geforce GTX 980</th>\n",
       "    </tr>\n",
       "  </thead>\n",
       "  <tbody>\n",
       "    <tr>\n",
       "      <th>TMUs</th>\n",
       "      <td>272</td>\n",
       "      <td>184</td>\n",
       "      <td>160</td>\n",
       "      <td>128</td>\n",
       "    </tr>\n",
       "  </tbody>\n",
       "</table>\n",
       "</div>"
      ],
      "text/plain": [
       "     Nvidia Geforce RTX 3080 Nvidia Geforce RTX 2080 Nvidia Geforce GTX 1080  \\\n",
       "TMUs                     272                     184                     160   \n",
       "\n",
       "     Nvidia Geforce GTX 980  \n",
       "TMUs                    128  "
      ]
     },
     "execution_count": 15,
     "metadata": {},
     "output_type": "execute_result"
    }
   ],
   "source": [
    "tmu_data = cards_data.loc[[\"TMUs\"]]\n",
    "tmu_data"
   ]
  },
  {
   "cell_type": "markdown",
   "id": "71565309",
   "metadata": {},
   "source": [
    "Texture Mapping Units are able to resize, rotate and distort a bitmap image and are used in 3D as a texture. It is implemented as a discrete stage in the graphics pipeline and can be used to help achieve surface lighting effects and also used to render 3D scenes as they can be mapped to pieces of geometry in a scene and produce textured pixels."
   ]
  },
  {
   "cell_type": "code",
   "execution_count": 16,
   "id": "0b8944bf",
   "metadata": {},
   "outputs": [
    {
     "data": {
      "image/png": "[encoded data removed]",
      "text/plain": [
       "<Figure size 432x288 with 1 Axes>"
      ]
     },
     "metadata": {
      "needs_background": "light"
     },
     "output_type": "display_data"
    },
    {
     "data": {
      "text/html": [
       "<div>\n",
       "<style scoped>\n",
       "    .dataframe tbody tr th:only-of-type {\n",
       "        vertical-align: middle;\n",
       "    }\n",
       "\n",
       "    .dataframe tbody tr th {\n",
       "        vertical-align: top;\n",
       "    }\n",
       "\n",
       "    .dataframe thead th {\n",
       "        text-align: right;\n",
       "    }\n",
       "</style>\n",
       "<table border=\"1\" class=\"dataframe\">\n",
       "  <thead>\n",
       "    <tr style=\"text-align: right;\">\n",
       "      <th></th>\n",
       "      <th>Uplift in (%)</th>\n",
       "    </tr>\n",
       "  </thead>\n",
       "  <tbody>\n",
       "    <tr>\n",
       "      <th>20 - 30 Series GPU</th>\n",
       "      <td>48.0</td>\n",
       "    </tr>\n",
       "    <tr>\n",
       "      <th>10 - 20 Series GPU</th>\n",
       "      <td>15.0</td>\n",
       "    </tr>\n",
       "    <tr>\n",
       "      <th>09 - 10 Series GPU</th>\n",
       "      <td>25.0</td>\n",
       "    </tr>\n",
       "  </tbody>\n",
       "</table>\n",
       "</div>"
      ],
      "text/plain": [
       "                    Uplift in (%)\n",
       "20 - 30 Series GPU           48.0\n",
       "10 - 20 Series GPU           15.0\n",
       "09 - 10 Series GPU           25.0"
      ]
     },
     "execution_count": 16,
     "metadata": {},
     "output_type": "execute_result"
    }
   ],
   "source": [
    "def plot_tmu(tmu_data):\n",
    "    t_tmus = []\n",
    "    for tmu in tmu_data.loc[\"TMUs\"]:\n",
    "        t_tmus.append(round(float(tmu), 0))\n",
    "        \n",
    "    x_col = ['20 - 30 Series', '10 - 20 Series', '09 - 10 Series']\n",
    "    l_bar = [t_tmus[1], t_tmus[2], t_tmus[3]]\n",
    "    r_bar = [t_tmus[0], t_tmus[1], t_tmus[2]]\n",
    "    \n",
    "    x_axis = np.arange(len(x_col))\n",
    "  \n",
    "    plt.bar(x_axis - 0.2, l_bar, 0.4, label = 'Old')\n",
    "    plt.bar(x_axis + 0.2, r_bar, 0.4, label = 'New')\n",
    "\n",
    "    plt.xticks(x_axis, x_col)\n",
    "    \n",
    "    plt.xlabel(\"Series Performance Jump\")\n",
    "    plt.ylabel(\"Total Texture Mapping Units\")\n",
    "    plt.title(\"The Performance Jump between each generation of Graphics Cards\")\n",
    "    plt.legend()\n",
    "    plt.show()\n",
    "    \n",
    "    return t_tmus\n",
    "\n",
    "    \n",
    "def tmu_percent_incr(t_tmus):\n",
    "    tmu_comp = []\n",
    "    for i in range(len(t_tmus)):\n",
    "        if(i + 1 < len(t_tmus)):\n",
    "            percentage_diff = (float(t_tmus[i]) / float(t_tmus[i + 1])) - 1\n",
    "            tmu_comp.append(round(percentage_diff, 2) * 100)\n",
    "            \n",
    "    return tmu_comp\n",
    "    \n",
    "    \n",
    "t_tmus = plot_tmu(tmu_data)\n",
    "tmu_percentage =tmu_percent_incr(t_tmus)\n",
    "\n",
    "df = pd.DataFrame(tmu_percentage, index = ['20 - 30 Series GPU','10 - 20 Series GPU',\n",
    "                                          '09 - 10 Series GPU'], columns = ['Uplift in (%)'])\n",
    "df"
   ]
  },
  {
   "cell_type": "markdown",
   "id": "530d66f3",
   "metadata": {},
   "source": [
    "As can be seen in the table above, when it came to the uplift in amount of texture mapping units in the GPU, compared to the 15 - 25% uplift seen accross the GPU families between the 09 series to 20 series. The jump between the 20 series and 30 series saw a 48% uplift, which is almost an extra 50% in TMUs."
   ]
  },
  {
   "cell_type": "markdown",
   "id": "38a5c790",
   "metadata": {},
   "source": [
    "### Synthetic Benchmarks : Simulating ingame performance figures\n",
    "\n",
    "As much as I would like to have talked about the physical specs of the Graphics Cards, as a consumer we are more likely to care about the actual performances of the Graphics Cards accross generations. As I do not own all these cards and cannot do my own testing, I have opted to try and scrap the 3DMark results of different owners across the world, to get an average performance number for comparison.\n",
    "\n",
    "3DMark is a synthetic benchmarking software that gamers used to stress test their systems and also compete in trying to get high scores in the hall of fame for their overclocks.\n",
    "\n",
    "I will be fetching the top 20 results from each card and getting the mean of them to get a better look at what is the theoretical performance uplift upgrading from each family.\n",
    "\n",
    "How 3DMark works is it will run 2 graphics test and a CPU test to determine a score, based on your hardware stability and performance. Since I am only interested in the graphics score, that will be the number i will take a look at, instead of the overall score of users' submitted results."
   ]
  },
  {
   "cell_type": "code",
   "execution_count": 17,
   "id": "784be64c",
   "metadata": {},
   "outputs": [],
   "source": [
    "def fetch_avg_gpu_score(soup):\n",
    "    graphics_score = soup.find_all(\"span\", {\"class\":\"result-pimp-badge-score-item\"})\n",
    "    \n",
    "    for g in graphics_score:\n",
    "        return g.text\n",
    "    \n",
    "def plot_score(score_data):\n",
    "    g_scores = []\n",
    "    for score in score_data:\n",
    "        g_scores.append(float(score))\n",
    "        \n",
    "    x_col = ['RTX 3080', 'RTX 2080', 'GTX 1080', 'GTX 980']\n",
    "    \n",
    "    x_axis = np.arange(len(x_col))\n",
    "  \n",
    "    plt.bar(x_axis, g_scores, 0.2, label = 'Card Scores')\n",
    "\n",
    "    plt.xticks(x_axis, x_col)\n",
    "    \n",
    "    plt.xlabel(\"Cards\")\n",
    "    plt.ylabel(\"Score Results\")\n",
    "    plt.title(\"The Average 3DMark Graphics Score\")\n",
    "    plt.legend()\n",
    "    plt.show()\n",
    "    \n",
    "    return g_scores\n",
    "    \n",
    "def score_percent_incr(g_scores):\n",
    "    scores_comp = []\n",
    "    for i in range(len(g_scores)):\n",
    "        if(i + 1 < len(g_scores)):\n",
    "            percentage_diff = (float(g_scores[i]) / float(g_scores[i + 1])) - 1\n",
    "            scores_comp.append(round(percentage_diff, 2) * 100)\n",
    "            \n",
    "    return scores_comp"
   ]
  },
  {
   "cell_type": "code",
   "execution_count": 18,
   "id": "1b711dd6",
   "metadata": {},
   "outputs": [
    {
     "data": {
      "image/png": "[encoded data removed]",
      "text/plain": [
       "<Figure size 432x288 with 1 Axes>"
      ]
     },
     "metadata": {
      "needs_background": "light"
     },
     "output_type": "display_data"
    },
    {
     "data": {
      "text/html": [
       "<div>\n",
       "<style scoped>\n",
       "    .dataframe tbody tr th:only-of-type {\n",
       "        vertical-align: middle;\n",
       "    }\n",
       "\n",
       "    .dataframe tbody tr th {\n",
       "        vertical-align: top;\n",
       "    }\n",
       "\n",
       "    .dataframe thead th {\n",
       "        text-align: right;\n",
       "    }\n",
       "</style>\n",
       "<table border=\"1\" class=\"dataframe\">\n",
       "  <thead>\n",
       "    <tr style=\"text-align: right;\">\n",
       "      <th></th>\n",
       "      <th>Uplift in (%)</th>\n",
       "    </tr>\n",
       "  </thead>\n",
       "  <tbody>\n",
       "    <tr>\n",
       "      <th>20 - 30 Series GPU</th>\n",
       "      <td>60.0</td>\n",
       "    </tr>\n",
       "    <tr>\n",
       "      <th>10 - 20 Series GPU</th>\n",
       "      <td>46.0</td>\n",
       "    </tr>\n",
       "    <tr>\n",
       "      <th>09 - 10 Series GPU</th>\n",
       "      <td>73.0</td>\n",
       "    </tr>\n",
       "  </tbody>\n",
       "</table>\n",
       "</div>"
      ],
      "text/plain": [
       "                    Uplift in (%)\n",
       "20 - 30 Series GPU           60.0\n",
       "10 - 20 Series GPU           46.0\n",
       "09 - 10 Series GPU           73.0"
      ]
     },
     "execution_count": 18,
     "metadata": {},
     "output_type": "execute_result"
    }
   ],
   "source": [
    "# fetch all the benchmark scores for each card, stored the params in an array for reusablility\n",
    "card_params = ['RTX+3080','RTX+2080','GTX+1080','GTX+980']\n",
    "card_scores = []\n",
    "\n",
    "for card in card_params:\n",
    "    url = f\"https://benchmarks.ul.com/hardware/gpu/NVIDIA+GeForce+{card}+review\"\n",
    "    soup, jar = get_soup(url)\n",
    "    score = fetch_avg_gpu_score(soup)\n",
    "    card_scores.append(score)\n",
    "    \n",
    "g_scores = plot_score(card_scores)\n",
    "scores_percentage = score_percent_incr(g_scores)\n",
    "df = pd.DataFrame(scores_percentage, index = ['20 - 30 Series GPU','10 - 20 Series GPU',\n",
    "                                          '09 - 10 Series GPU'], columns = ['Uplift in (%)'])\n",
    "df"
   ]
  },
  {
   "cell_type": "markdown",
   "id": "786283bc",
   "metadata": {},
   "source": [
    "Interestingly, when viewing the uplift in graphics scores accross the different families, the jump between the 9 series to the 10 series saw a higher uplift at 73% improvement over the 20 series to 30 series jump of 60% in performance. However, looking at its immediate predecessors, the improvement seen was still 24% better than the previous families' by about 14%."
   ]
  },
  {
   "cell_type": "markdown",
   "id": "c2429f91",
   "metadata": {},
   "source": [
    "### Final Comparisons : The Customer's Wallet\n",
    "\n",
    "The final comparison I would like to make regarding these graphics cards, is likely the biggest contributing factor to wheter or not a customer will decide to buy it - <b>the price.</b> As can be seen from the table below,"
   ]
  },
  {
   "cell_type": "code",
   "execution_count": 19,
   "id": "038b6eb8",
   "metadata": {},
   "outputs": [
    {
     "data": {
      "text/html": [
       "<div>\n",
       "<style scoped>\n",
       "    .dataframe tbody tr th:only-of-type {\n",
       "        vertical-align: middle;\n",
       "    }\n",
       "\n",
       "    .dataframe tbody tr th {\n",
       "        vertical-align: top;\n",
       "    }\n",
       "\n",
       "    .dataframe thead th {\n",
       "        text-align: right;\n",
       "    }\n",
       "</style>\n",
       "<table border=\"1\" class=\"dataframe\">\n",
       "  <thead>\n",
       "    <tr style=\"text-align: right;\">\n",
       "      <th></th>\n",
       "      <th>Nvidia Geforce RTX 3080</th>\n",
       "      <th>Nvidia Geforce RTX 2080</th>\n",
       "      <th>Nvidia Geforce GTX 1080</th>\n",
       "      <th>Nvidia Geforce GTX 980</th>\n",
       "    </tr>\n",
       "  </thead>\n",
       "  <tbody>\n",
       "    <tr>\n",
       "      <th>Launch Price (USD)</th>\n",
       "      <td>699 USD</td>\n",
       "      <td>699 USD</td>\n",
       "      <td>599 USD</td>\n",
       "      <td>549 USD</td>\n",
       "    </tr>\n",
       "  </tbody>\n",
       "</table>\n",
       "</div>"
      ],
      "text/plain": [
       "                   Nvidia Geforce RTX 3080 Nvidia Geforce RTX 2080  \\\n",
       "Launch Price (USD)                 699 USD                 699 USD   \n",
       "\n",
       "                   Nvidia Geforce GTX 1080 Nvidia Geforce GTX 980  \n",
       "Launch Price (USD)                 599 USD                549 USD  "
      ]
     },
     "execution_count": 19,
     "metadata": {},
     "output_type": "execute_result"
    }
   ],
   "source": [
    "card_pricing = cards_data.loc[[\"Launch Price (USD)\"]]\n",
    "card_pricing"
   ]
  },
  {
   "cell_type": "markdown",
   "id": "203cb5d8",
   "metadata": {},
   "source": [
    "The first thing I noticed was that the between the RTX 3080 and RTX 2080, the launch prices were exactly the same whereas before that, the price difference between the GTX 980 and GTX 1080 was <b>50 USD extra</b> and the price difference between the RTX 2080 and GTX 1080 was an eye-watering <b><i>100 USD.</i></b>"
   ]
  },
  {
   "cell_type": "markdown",
   "id": "b880f8d1",
   "metadata": {},
   "source": [
    "This made a key selling point of the RTX 3080 as the card that offered a <b>up to 70% increase in overall specs/performance accross the board at 0 extra cost.</b>"
   ]
  },
  {
   "cell_type": "markdown",
   "id": "74c1fbb7",
   "metadata": {},
   "source": [
    "### Why Ampere was expected to shake the market\n",
    "\n",
    "As can be seen from our performance and pricing analysis of the past few models of Nvidia's flagship cards, we can see that the RTX 3080 was repeatedly making strides in improvements in its specifications and performance over its predeccesors. When coupled with the fact that this was all supposed to be available at a __0% cost increase__ over the pervious flagship, the RTX 2080, this made the RTX 3080 just too good a card to pass up on."
   ]
  },
  {
   "cell_type": "markdown",
   "id": "22cbcc5e",
   "metadata": {},
   "source": [
    "## (5) Analysing the launch of 30 Series"
   ]
  },
  {
   "cell_type": "markdown",
   "id": "2873a08f",
   "metadata": {},
   "source": [
    "To help with my analysis of what could have been factors that affected this launch, I have decided to look into what I feel were causes that compounded and formed the terrible reception the consumers had to Nvidia's 30 Series of graphics cards.\n",
    "\n",
    "The two factors I will be looking at are,\n",
    " - Scalping at launch,\n",
    " - Crypto-Currency\n",
    " \n",
    " \n",
    "Instead of quoting several articles for my research, I will be scraping them to find what was the author's take regarding the launch of these cards, whether the experience was good or bad, what was the takeaways of the launch etc.\n",
    "\n",
    "For Crypto-Currecy, I will be looking at the Ethereum in particular, as graphics cards were the primary way of generating Ether and the more a miner had, the higher chance they had of creating a block of transaction to be added to the blockchain."
   ]
  },
  {
   "cell_type": "code",
   "execution_count": 20,
   "id": "5003c7c2",
   "metadata": {},
   "outputs": [
    {
     "data": {
      "image/png": "[encoded data removed]",
      "text/plain": [
       "<Figure size 432x288 with 1 Axes>"
      ]
     },
     "metadata": {
      "needs_background": "light"
     },
     "output_type": "display_data"
    }
   ],
   "source": [
    "def scrape_article(soup):\n",
    "    text = \"\"\n",
    "    para = soup.find_all(\"p\")\n",
    "    for p in para:\n",
    "        text += p.text\n",
    "    \n",
    "    return text\n",
    "    \n",
    "soup, jar = get_soup(\"https://www.pcmag.com/news/how-a-bot-bought-dozens-of-rtx-3080-units-before-consumers-could-grab-them\")\n",
    "article = scrape_article(soup)\n",
    "\n",
    "stop_words = [\"NVIDIA\", \"RTX\", \"PCMag\", \"may\", \"buy\", \"able\", \"say\", \"said\", \"member\", \"one\"] + list(STOPWORDS)\n",
    "\n",
    "# Create and generate a word cloud image:\n",
    "wordcloud = WordCloud(stopwords=stop_words).generate(article)\n",
    "\n",
    "# Display the generated image:\n",
    "plt.imshow(wordcloud, interpolation='bilinear')\n",
    "plt.axis(\"off\")\n",
    "plt.show()"
   ]
  },
  {
   "cell_type": "markdown",
   "id": "dc2e8b08",
   "metadata": {},
   "source": [
    "I added some custom stop words in addition to the default list. I felt like the brand and model of the card did not contribute to helping me analyse what happened during the product launch and neither did the name of the website. As for the other stop words I added, they were verbs and adjectives that were not picked up by the default list.\n",
    "\n",
    "Some observations I noticed,\n",
    " - Bounce Alert,\n",
    "     - Bounce alert was meant to be a sneaker bot that suscribed users could make use of to secure bids for collectors' sneakers. However, when people heard about how sought after these cards were, this bot was used to make automated transactions to purchase an excess of cards for resale.\n",
    " - Reseller,\n",
    "     - It seems that during the launch of the 30 series graphics cards, there were alot of resellers that had managed to buy an excess amount of cards which they then sold at a inflated price for a profit.\n",
    "\n",
    "From this generated word cloud, some assumptions we can make were that a bot called Bounce Alert was involved in the launch and the cards were being resaled, likely for a higher price over MSRP (Manufacturer's Suggested Retail Price)."
   ]
  },
  {
   "cell_type": "code",
   "execution_count": 21,
   "id": "d1c188d9",
   "metadata": {},
   "outputs": [
    {
     "data": {
      "image/png": "[encoded data removed]",
      "text/plain": [
       "<Figure size 432x288 with 1 Axes>"
      ]
     },
     "metadata": {
      "needs_background": "light"
     },
     "output_type": "display_data"
    }
   ],
   "source": [
    "soup1, jar = get_soup(\"https://www.digitaltrends.com/computing/catastrophic-gpu-shortage-a-chronological-history/\")\n",
    "article = scrape_article(soup)\n",
    "\n",
    "stop_words = [\"NVIDIA\", \"RTX\", \"many\", \"now\", \"buy\", \"used\", \"yesterday\", \"seems\", \"went\", \"ysterday\", \"one\", \"store\"] + list(STOPWORDS)\n",
    "\n",
    "# Create and generate a word cloud image:\n",
    "wordcloud = WordCloud(stopwords=stop_words, max_words = 50).generate(article)\n",
    "\n",
    "# Display the generated image:\n",
    "plt.imshow(wordcloud, interpolation='bilinear')\n",
    "plt.axis(\"off\")\n",
    "plt.show()"
   ]
  },
  {
   "cell_type": "markdown",
   "id": "fa8ed75a",
   "metadata": {},
   "source": [
    "As this was a much wordier article, i limited the words shown in this cloud to 50, to better visualize what were the specific words that appeared the most and help me understand the consenseus of the article.\n",
    "\n",
    "Some observations noticed,\n",
    " - Scalpers.\n",
    "    - There were many scalpers out during the launch of Nvidia's 30 series, with them looking to make some profit by reselling cards to actual buyers.\n",
    " - Bot\n",
    "     - Once again, bots were mentioned during the launch of the cards, likely being similar to the previous article covered.\n",
    "    \n",
    "Some assumptions that can be made from this word cloud, scalpers made use of this opportunity to sell the cards online on sites such as eBay, which they managed to secure through the use of bots such as Bounce."
   ]
  },
  {
   "cell_type": "markdown",
   "id": "f1a74330",
   "metadata": {},
   "source": [
    "### What happened to the launch of Ampere?\n",
    "\n",
    "Despite how great the RTX 3080 was, it seems that the launch was plagued by multiple issue. But the biggest one that I can see from the wordclouds I have taken a look at were - __scalpers__.\n",
    "\n",
    "When the launch of such an anticipated product is unavailable worldwide and customers only chance at getting it was through scalpers, this left a bad taste in many customers, leaving them unhappy with the whole situation and as we are about to find out, the situation would only get worse."
   ]
  },
  {
   "cell_type": "markdown",
   "id": "dd2cb154",
   "metadata": {},
   "source": [
    "## (6) Did the second boom of Crypto-Currency affect the price of these cards?"
   ]
  },
  {
   "cell_type": "markdown",
   "id": "09eb24f2",
   "metadata": {},
   "source": [
    "### Ethereum : Did Ethereum affect the price of Nvidia's 30 series card?"
   ]
  },
  {
   "cell_type": "markdown",
   "id": "ab54ffa7",
   "metadata": {},
   "source": [
    "From our analysis, we can see that the launch of the 30 series cards from Nvidia was plagued by scalpers and the pricing was all over the place.\n",
    "\n",
    "Another event that took place was the second boom of cryptocurrency, with BitCoin peaking at 65K USD in November 2022 and Ethereum peaking at 4.9K.\n",
    "\n",
    "As it is more efficient to mine BitCoin with ASICs then it was with graphics cards, I will be taking a look at the overall pricing index of ETH between Sept 2020, when the launch of 30 series cards were, till Sept 2022, where prices for the cards have normalized."
   ]
  },
  {
   "cell_type": "markdown",
   "id": "4b0837ce",
   "metadata": {},
   "source": [
    "For my analysis of ETH's pricing over this period, I opted to use the python package called yfinance to plot the data and construct it using plotly, as it is more interactive than matplotlib, especially since the data I am showing is over the course of 2 years."
   ]
  },
  {
   "cell_type": "code",
   "execution_count": 22,
   "id": "b6318fb0",
   "metadata": {},
   "outputs": [],
   "source": [
    "ETH = yfinance.Ticker(\"ETH-USD\")\n",
    "# Plot data between time period of start Sept 2020 till end Sept 2022\n",
    "hist = ETH.history(start=\"2020-09-01\", end=\"2022-10-01\")"
   ]
  },
  {
   "cell_type": "code",
   "execution_count": 23,
   "id": "d7393371",
   "metadata": {},
   "outputs": [
    {
     "data": {
      "text/html": [
       "<div>\n",
       "<style scoped>\n",
       "    .dataframe tbody tr th:only-of-type {\n",
       "        vertical-align: middle;\n",
       "    }\n",
       "\n",
       "    .dataframe tbody tr th {\n",
       "        vertical-align: top;\n",
       "    }\n",
       "\n",
       "    .dataframe thead th {\n",
       "        text-align: right;\n",
       "    }\n",
       "</style>\n",
       "<table border=\"1\" class=\"dataframe\">\n",
       "  <thead>\n",
       "    <tr style=\"text-align: right;\">\n",
       "      <th></th>\n",
       "      <th>Open</th>\n",
       "      <th>High</th>\n",
       "      <th>Low</th>\n",
       "      <th>Close</th>\n",
       "      <th>Volume</th>\n",
       "      <th>Dividends</th>\n",
       "      <th>Stock Splits</th>\n",
       "    </tr>\n",
       "    <tr>\n",
       "      <th>Date</th>\n",
       "      <th></th>\n",
       "      <th></th>\n",
       "      <th></th>\n",
       "      <th></th>\n",
       "      <th></th>\n",
       "      <th></th>\n",
       "      <th></th>\n",
       "    </tr>\n",
       "  </thead>\n",
       "  <tbody>\n",
       "    <tr>\n",
       "      <th>2022-09-26 00:00:00+00:00</th>\n",
       "      <td>1294.386108</td>\n",
       "      <td>1335.526367</td>\n",
       "      <td>1282.049316</td>\n",
       "      <td>1335.320190</td>\n",
       "      <td>16034549271</td>\n",
       "      <td>0.0</td>\n",
       "      <td>0.0</td>\n",
       "    </tr>\n",
       "    <tr>\n",
       "      <th>2022-09-27 00:00:00+00:00</th>\n",
       "      <td>1335.337036</td>\n",
       "      <td>1396.891479</td>\n",
       "      <td>1308.991455</td>\n",
       "      <td>1330.127686</td>\n",
       "      <td>17870598937</td>\n",
       "      <td>0.0</td>\n",
       "      <td>0.0</td>\n",
       "    </tr>\n",
       "    <tr>\n",
       "      <th>2022-09-28 00:00:00+00:00</th>\n",
       "      <td>1329.541382</td>\n",
       "      <td>1351.964478</td>\n",
       "      <td>1267.869263</td>\n",
       "      <td>1337.410889</td>\n",
       "      <td>18994979566</td>\n",
       "      <td>0.0</td>\n",
       "      <td>0.0</td>\n",
       "    </tr>\n",
       "    <tr>\n",
       "      <th>2022-09-29 00:00:00+00:00</th>\n",
       "      <td>1337.554443</td>\n",
       "      <td>1348.107666</td>\n",
       "      <td>1293.193359</td>\n",
       "      <td>1335.652344</td>\n",
       "      <td>13796915736</td>\n",
       "      <td>0.0</td>\n",
       "      <td>0.0</td>\n",
       "    </tr>\n",
       "    <tr>\n",
       "      <th>2022-09-30 00:00:00+00:00</th>\n",
       "      <td>1335.646484</td>\n",
       "      <td>1368.743408</td>\n",
       "      <td>1320.383179</td>\n",
       "      <td>1327.978638</td>\n",
       "      <td>14250100093</td>\n",
       "      <td>0.0</td>\n",
       "      <td>0.0</td>\n",
       "    </tr>\n",
       "  </tbody>\n",
       "</table>\n",
       "</div>"
      ],
      "text/plain": [
       "                                  Open         High          Low        Close  \\\n",
       "Date                                                                            \n",
       "2022-09-26 00:00:00+00:00  1294.386108  1335.526367  1282.049316  1335.320190   \n",
       "2022-09-27 00:00:00+00:00  1335.337036  1396.891479  1308.991455  1330.127686   \n",
       "2022-09-28 00:00:00+00:00  1329.541382  1351.964478  1267.869263  1337.410889   \n",
       "2022-09-29 00:00:00+00:00  1337.554443  1348.107666  1293.193359  1335.652344   \n",
       "2022-09-30 00:00:00+00:00  1335.646484  1368.743408  1320.383179  1327.978638   \n",
       "\n",
       "                                Volume  Dividends  Stock Splits  \n",
       "Date                                                             \n",
       "2022-09-26 00:00:00+00:00  16034549271        0.0           0.0  \n",
       "2022-09-27 00:00:00+00:00  17870598937        0.0           0.0  \n",
       "2022-09-28 00:00:00+00:00  18994979566        0.0           0.0  \n",
       "2022-09-29 00:00:00+00:00  13796915736        0.0           0.0  \n",
       "2022-09-30 00:00:00+00:00  14250100093        0.0           0.0  "
      ]
     },
     "execution_count": 23,
     "metadata": {},
     "output_type": "execute_result"
    }
   ],
   "source": [
    "hist.tail()"
   ]
  },
  {
   "cell_type": "markdown",
   "id": "7228150e",
   "metadata": {},
   "source": [
    "As can be seen above, this is an example of the data being pulled using the yfinance package, it fetches the Open, High/Low and Closing prices of 'ETH-USD', as well as the volume of being traded.\n",
    "\n",
    "Using this data, I will be plotting a graph that looks as close as possible to what you would see on something like Binance."
   ]
  },
  {
   "cell_type": "code",
   "execution_count": 46,
   "id": "d6e97d7a",
   "metadata": {
    "scrolled": false
   },
   "outputs": [
    {
     "data": {
      "image/png": "[encoded data removed]"
     },
     "metadata": {},
     "output_type": "display_data"
    }
   ],
   "source": [
    "# Allow for additional secondary y-axis\n",
    "sub_chart = make_subplots(specs=[[{\"secondary_y\":True}]])\n",
    "\n",
    "# Candlestick chart to plot the price ups/downs for ETH over the specified period\n",
    "sub_chart.add_trace(go.Candlestick(x = hist.index,\n",
    "                                   open = hist['Open'],\n",
    "                                   high = hist['High'],\n",
    "                                   low = hist['Low'],\n",
    "                                   close = hist['Close'],\n",
    "                                   name = \"Price\"\n",
    "                                  ))\n",
    "\n",
    "sub_chart.add_trace(go.Bar(x = hist.index, y = hist['Volume'], name = \"Volume\"), secondary_y = True)\n",
    "\n",
    "# The volume of ETH being traded peaked at almost 85bil,\n",
    "# thus i am setting a limit on the y-axis to not overshadow the price of the currency\n",
    "sub_chart.update_yaxes(range=[0, 300000000000], secondary_y = True)\n",
    "# Remove the secondary Y-axis value for less confusion (Amount can still be seen when hovered)\n",
    "sub_chart.update_yaxes(visible=False, secondary_y = True)\n",
    "\n",
    "sub_chart.add_trace(go.Scatter(x=hist.index, y = hist['Close'].rolling(20).mean(), name = \"20D Moving Avg.\", marker = {'color': 'blue'}))\n",
    "\n",
    "sub_chart.show(renderer='png', width=1200, height=600)"
   ]
  },
  {
   "cell_type": "markdown",
   "id": "e91f3b75",
   "metadata": {},
   "source": [
    "### Some Observations into ETH"
   ]
  },
  {
   "cell_type": "markdown",
   "id": "1ad6b043",
   "metadata": {},
   "source": [
    "Price of ETH started to rise upwards towards the end of the year 2020, with the average price in ETH nearly doubling from an average price of <b>388.70 USD</b> on the 1st Nov 2020 to <b>653.20 USD</b> on the 1st of Jan. On 19 May 2021, there was a record high of __84.5 bil__ currency exchanged.\n",
    "\n",
    "<b>Price Analysis</b>\n",
    "- 11 May 2021 : Closing Price of __$4168.70__ with __52.6 bil__ currency exchanged.\n",
    "\n",
    "- 8 November 2021 : Closing Price of __$4812__ with __19.4 bil__ currency exchanged.\n",
    "\n",
    "- 3 April 2022 : Closing Price of __$3522.80__ with __15.3bil__ currency exchanged.\n",
    "\n",
    "Starting from April 2022, a rapid decline can be observed until the price of ETH has settled around __$1500__\n",
    "\n"
   ]
  },
  {
   "cell_type": "markdown",
   "id": "9f100891",
   "metadata": {},
   "source": [
    "### Final Observations regarding ETH\n",
    "\n",
    "It can be seen that the year of 2021, especially from July onwards was a very good time for ETH, with its price doubling from __\\$1990.90__ on 21 July to __\\$4812__ on 8 November. This is an increase of __$2822__ per coin, more than double its initial amount, almost __2.5x to be exact.__"
   ]
  },
  {
   "cell_type": "markdown",
   "id": "46b3d339",
   "metadata": {},
   "source": [
    "## (7) How was GPU Pricing affected?"
   ]
  },
  {
   "cell_type": "markdown",
   "id": "a4d8d1f6",
   "metadata": {},
   "source": [
    "So from my research I can see that the launch of the graphics cards were flooded with scalpers selling them for much higher than their market value and late November of 2021 saw some of the highest prices ETH has ever been.\n",
    "\n",
    "I would like to see how this affected the actual cost of the RTX 3080, as it was a card that is supposed to be $699 USD and I am interested to see how inflated the price became thanks to the factors i mentioned.\n",
    "\n",
    "For this price comparison, I will be looking at Tom's Hardware's collection of overall GPU pricing they collected over each month and retrieve the RTX 3080's average pricing on eBay for comparison."
   ]
  },
  {
   "cell_type": "markdown",
   "id": "f772558a",
   "metadata": {},
   "source": [
    "### Things to mention beforehand\n",
    "\n",
    "As this is an article being regularly updated, there were some changes made to the way it was written over time. As such, I had to make some considerations on how the data could be represented. Some of the changes made to the overall article are,\n",
    "\n",
    "- (Page 29 - 21) : From Feb 18 2021 - Mar 18 2021, card pricing was analyed off eBay and represented in a .png of a graph\n",
    "\n",
    "- (Page 27) : This page is a one-off written by them collating 3 months of data into graphs analyzing the eBay market over this 90 day period.\n",
    "\n",
    "- (Page 16 - 26) : From Mar 20 2021 - 23 Sept 2021, card pricing was analysed off eBay on a bi-weekly basis\n",
    "\n",
    "- (Page 15) : This page is a hybrid, where i suspect they kept their old format of a bi-weekly analysis, but also started the transition to a monthly analysis.\n",
    "\n",
    "- (Page 1 - 14) : Oct 2021 - Nov 2022/Present : Price analysis is done off eBay on a monthly basis"
   ]
  },
  {
   "cell_type": "markdown",
   "id": "b96cc1bc",
   "metadata": {},
   "source": [
    "As such, I have decided to scrape pages 1 - 26 and analyse the pricing of the RTX 3080 over this period. But I will be splitting it into 2 portions.\n",
    "\n",
    "- The bi-weekly analysis between March 20 - Oct 15 2021,\n",
    "\n",
    "- The monthly analysis between Sept 2021 - Nov 2022.\n",
    "\n",
    "<i style=\"color:red\">__Important thing to take note: This was written in mid-december. Since then, the pagination of the article may have changed.__</i>"
   ]
  },
  {
   "cell_type": "code",
   "execution_count": 47,
   "id": "98ed730d",
   "metadata": {},
   "outputs": [],
   "source": [
    "def fetch_monthly_pricing(soup, page):\n",
    "    # Page 15 is special that it is a hybrid page containing bi-weekly and monthly analysis\n",
    "    if page == 15:\n",
    "        date, price = fetch_hybrid_pricing(soup)\n",
    "\n",
    "        return date, price\n",
    "    \n",
    "    else:\n",
    "        date = soup.find('h2', {'class':'current-page'})\n",
    "        # Of the text 'Month YYYY Ebay GPU Prices', keep 'Month YYYY' to use as dict key\n",
    "        if page <= 14:\n",
    "            date_char = date.text.split()\n",
    "            date = date_char[0] + \" \" + date_char[1]\n",
    "        else:\n",
    "            date_char = date.text.split()\n",
    "            date = date.text.strip()\n",
    "\n",
    "        rtx_price  = soup.find('a', text = re.compile('^GeForce\\sRTX\\s3080$')).findNext('td').contents[0]\n",
    "        rtx_price = rtx_price.text\n",
    "        # Convert price string,  for e.g '$2,235' to '2235' format \n",
    "        price = sub(r'[^\\d.]', '', rtx_price)\n",
    "\n",
    "        return date, price\n",
    "\n",
    "def fetch_hybrid_pricing(soup):\n",
    "    date_list = []\n",
    "    price_list = []\n",
    "    \n",
    "    date = soup.find('h2', {'class':'current-page'})\n",
    "    date_char = date.text.split()\n",
    "\n",
    "    # Fetch the bi-weekly date/price on pg 15 of article\n",
    "    rtx_price  = soup.find_all('a', text = re.compile('^GeForce\\sRTX\\s3080$'))[0]\n",
    "    biw_rtx_price = rtx_price.findNext('td').contents[0]\n",
    "    biw_date = date_char[0] + \" \" + date_char[1] + \" \" + date_char[2]\n",
    "    biw_price = sub(r'[^\\d.]', '', biw_rtx_price)\n",
    "    date_list.append(biw_date)\n",
    "    price_list.append(biw_price)\n",
    "    \n",
    "    # Fetch the monthly date/price on pg 15 of article\n",
    "    rtx_price  = soup.find_all('a', text = re.compile('^GeForce\\sRTX\\s3080$'))[1]\n",
    "    mthly_rtx_price = rtx_price.findNext('td').contents[0]\n",
    "    mthly_date = date_char[4] + \" \" + date_char[5]\n",
    "    mthly_price = sub(r'[^\\d.]', '', mthly_rtx_price)\n",
    "    date_list.append(mthly_date)\n",
    "    price_list.append(mthly_price)\n",
    "    \n",
    "    return date_list, price_list\n"
   ]
  },
  {
   "cell_type": "code",
   "execution_count": 48,
   "id": "f079f0cc",
   "metadata": {
    "scrolled": true
   },
   "outputs": [],
   "source": [
    "def scrape_price_url(page):\n",
    "    price_list = {}\n",
    "    url = f\"https://www.tomshardware.com/news/gpu-pricing-index/{page}\"\n",
    "    soup, jar = get_soup(url)\n",
    "    date, price = fetch_monthly_pricing(soup, page)\n",
    "    \n",
    "    return date, price\n",
    "    \n",
    "def fetch_3080_price_trend():    \n",
    "    file_path = \"3080_price.json\"\n",
    "    page = 1\n",
    "    price_list = {}\n",
    "    \n",
    "    with open(file_path, \"a\", encoding=\"utf-8\") as f:\n",
    "        if os.stat(file_path).st_size == 0:\n",
    "            print(\"Data does not exist in a .json file. Scrapping from tom's hardware and saving to .json. \")\n",
    "            # Scrape pages 1 - 26 in the article corresponding to RTX 3080 pricing\n",
    "            for page in reversed(range(1, 27)):\n",
    "                date, price = scrape_price_url(page)\n",
    "                # Page 15 is special that it is a hybrid page containing bi-weekly and monthly analysis\n",
    "                if page == 15:\n",
    "                    for d, p in zip(date, price):\n",
    "                        price_list[d] = p\n",
    "                else:\n",
    "                    price_list[date] = price\n",
    "                \n",
    "            json.dump(price_list, f)\n",
    "            \n",
    "            return price_list\n",
    "        else:\n",
    "            print(\"3080 Pricing was previously saved, loading data from .json file. \")\n",
    "            file = open(file_path)\n",
    "            price_list = json.load(file)\n",
    "            \n",
    "            return price_list\n"
   ]
  },
  {
   "cell_type": "code",
   "execution_count": 49,
   "id": "df066703",
   "metadata": {},
   "outputs": [
    {
     "name": "stdout",
     "output_type": "stream",
     "text": [
      "3080 Pricing was previously saved, loading data from .json file. \n"
     ]
    }
   ],
   "source": [
    "price_list = fetch_3080_price_trend()"
   ]
  },
  {
   "cell_type": "code",
   "execution_count": 51,
   "id": "fb65f7dc",
   "metadata": {},
   "outputs": [
    {
     "data": {
      "image/png": "[encoded data removed]"
     },
     "metadata": {},
     "output_type": "display_data"
    }
   ],
   "source": [
    "x_val = []\n",
    "for x_key in price_list.keys():\n",
    "    x_val.append(x_key)\n",
    "\n",
    "y_val = []\n",
    "for y_key in price_list.values():\n",
    "    y_val.append(y_key)\n",
    "\n",
    "fig = go.Figure(go.Scatter(\n",
    "                            x = x_val,\n",
    "                            y = y_val,\n",
    "                            mode = 'lines+markers'\n",
    "                           ))\n",
    "fig.update_layout(\n",
    "    title = {\n",
    "            'text': \"<b>Pricing trend of the RTX 3080 (March 2021 - Nov 2022)</b>\",\n",
    "            'y':0.9,\n",
    "            'x':0.5,\n",
    "            'xanchor': 'center',\n",
    "            'yanchor': 'top'},\n",
    "    xaxis_title = \"Time Period\",\n",
    "    yaxis_title = \"Pricing in USD ($)\",\n",
    "    autotypenumbers = 'convert types'\n",
    ")\n",
    "\n",
    "# fig.show()\n",
    "\n",
    "fig.show(renderer='png', width=1200, height=600)"
   ]
  },
  {
   "cell_type": "markdown",
   "id": "73f65329",
   "metadata": {},
   "source": [
    "As can be seen above, the pricing trend for the RTX 3080 was grossly inflated, being sold __as high as $2246 USD__ in late March - early April.\n",
    "\n",
    "If I were to split the chart into the bi-weekly and monthly analysis, it would look something like this,"
   ]
  },
  {
   "cell_type": "code",
   "execution_count": 29,
   "id": "2c1d55d6",
   "metadata": {},
   "outputs": [],
   "source": [
    "iterable = iter(price_list.items())\n",
    "\n",
    "biw_list = dict(islice(iterable, 12 // 1))\n",
    "mthly_list = dict(iterable)"
   ]
  },
  {
   "cell_type": "code",
   "execution_count": 30,
   "id": "f0e36753",
   "metadata": {},
   "outputs": [
    {
     "data": {
      "application/vnd.plotly.v1+json": {
       "config": {
        "plotlyServerURL": "https://plot.ly"
       },
       "data": [
        {
         "marker": {
          "color": "red"
         },
         "mode": "lines+markers",
         "name": "bi-weekly",
         "type": "scatter",
         "x": [
          "Mar 20 – Mar 30, 2021",
          "Mar 31 – Apr 13, 2021",
          "Apr 13–27, 2021",
          "Apr 28–May 12, 2021",
          "June 1–15, 2021",
          "June 24–July 8, 2021",
          "July 8–July 22, 2021",
          "July 26–August 9, 2021",
          "August 10–24, 2021",
          "August 25–September 8, 2021",
          "September 9–23, 2021",
          "October 1–15, 2021"
         ],
         "xaxis": "x",
         "y": [
          "2177",
          "2246",
          "2199",
          "2235",
          "1978",
          "1685",
          "1636",
          "1583",
          "1708",
          "1666",
          "1672",
          "1637"
         ],
         "yaxis": "y"
        },
        {
         "marker": {
          "color": "green"
         },
         "mode": "lines+markers",
         "name": "monthly",
         "type": "scatter",
         "x": [
          "September 2021",
          "October 2021",
          "November 2021",
          "December 2021",
          "January 2022",
          "February 2022",
          "March 2022",
          "April 2022",
          "May 2022",
          "June 2022",
          "July 2022",
          "August 2022",
          "September 2022",
          "October 2022",
          "November 2022"
         ],
         "xaxis": "x2",
         "y": [
          "1677",
          "1666",
          "1720",
          "1783",
          "1613",
          "1440",
          "1283",
          "1114",
          "899",
          "728",
          "696",
          "665",
          "585",
          "562",
          "594"
         ],
         "yaxis": "y2"
        }
       ],
       "layout": {
        "annotations": [
         {
          "font": {
           "size": 16
          },
          "showarrow": false,
          "text": "Bi-Weekly",
          "x": 0.225,
          "xanchor": "center",
          "xref": "paper",
          "y": 1,
          "yanchor": "bottom",
          "yref": "paper"
         },
         {
          "font": {
           "size": 16
          },
          "showarrow": false,
          "text": "Monthly",
          "x": 0.775,
          "xanchor": "center",
          "xref": "paper",
          "y": 1,
          "yanchor": "bottom",
          "yref": "paper"
         }
        ],
        "autotypenumbers": "convert types",
        "template": {
         "data": {
          "bar": [
           {
            "error_x": {
             "color": "#2a3f5f"
            },
            "error_y": {
             "color": "#2a3f5f"
            },
            "marker": {
             "line": {
              "color": "#E5ECF6",
              "width": 0.5
             },
             "pattern": {
              "fillmode": "overlay",
              "size": 10,
              "solidity": 0.2
             }
            },
            "type": "bar"
           }
          ],
          "barpolar": [
           {
            "marker": {
             "line": {
              "color": "#E5ECF6",
              "width": 0.5
             },
             "pattern": {
              "fillmode": "overlay",
              "size": 10,
              "solidity": 0.2
             }
            },
            "type": "barpolar"
           }
          ],
          "carpet": [
           {
            "aaxis": {
             "endlinecolor": "#2a3f5f",
             "gridcolor": "white",
             "linecolor": "white",
             "minorgridcolor": "white",
             "startlinecolor": "#2a3f5f"
            },
            "baxis": {
             "endlinecolor": "#2a3f5f",
             "gridcolor": "white",
             "linecolor": "white",
             "minorgridcolor": "white",
             "startlinecolor": "#2a3f5f"
            },
            "type": "carpet"
           }
          ],
          "choropleth": [
           {
            "colorbar": {
             "outlinewidth": 0,
             "ticks": ""
            },
            "type": "choropleth"
           }
          ],
          "contour": [
           {
            "colorbar": {
             "outlinewidth": 0,
             "ticks": ""
            },
            "colorscale": [
             [
              0,
              "#0d0887"
             ],
             [
              0.1111111111111111,
              "#46039f"
             ],
             [
              0.2222222222222222,
              "#7201a8"
             ],
             [
              0.3333333333333333,
              "#9c179e"
             ],
             [
              0.4444444444444444,
              "#bd3786"
             ],
             [
              0.5555555555555556,
              "#d8576b"
             ],
             [
              0.6666666666666666,
              "#ed7953"
             ],
             [
              0.7777777777777778,
              "#fb9f3a"
             ],
             [
              0.8888888888888888,
              "#fdca26"
             ],
             [
              1,
              "#f0f921"
             ]
            ],
            "type": "contour"
           }
          ],
          "contourcarpet": [
           {
            "colorbar": {
             "outlinewidth": 0,
             "ticks": ""
            },
            "type": "contourcarpet"
           }
          ],
          "heatmap": [
           {
            "colorbar": {
             "outlinewidth": 0,
             "ticks": ""
            },
            "colorscale": [
             [
              0,
              "#0d0887"
             ],
             [
              0.1111111111111111,
              "#46039f"
             ],
             [
              0.2222222222222222,
              "#7201a8"
             ],
             [
              0.3333333333333333,
              "#9c179e"
             ],
             [
              0.4444444444444444,
              "#bd3786"
             ],
             [
              0.5555555555555556,
              "#d8576b"
             ],
             [
              0.6666666666666666,
              "#ed7953"
             ],
             [
              0.7777777777777778,
              "#fb9f3a"
             ],
             [
              0.8888888888888888,
              "#fdca26"
             ],
             [
              1,
              "#f0f921"
             ]
            ],
            "type": "heatmap"
           }
          ],
          "heatmapgl": [
           {
            "colorbar": {
             "outlinewidth": 0,
             "ticks": ""
            },
            "colorscale": [
             [
              0,
              "#0d0887"
             ],
             [
              0.1111111111111111,
              "#46039f"
             ],
             [
              0.2222222222222222,
              "#7201a8"
             ],
             [
              0.3333333333333333,
              "#9c179e"
             ],
             [
              0.4444444444444444,
              "#bd3786"
             ],
             [
              0.5555555555555556,
              "#d8576b"
             ],
             [
              0.6666666666666666,
              "#ed7953"
             ],
             [
              0.7777777777777778,
              "#fb9f3a"
             ],
             [
              0.8888888888888888,
              "#fdca26"
             ],
             [
              1,
              "#f0f921"
             ]
            ],
            "type": "heatmapgl"
           }
          ],
          "histogram": [
           {
            "marker": {
             "pattern": {
              "fillmode": "overlay",
              "size": 10,
              "solidity": 0.2
             }
            },
            "type": "histogram"
           }
          ],
          "histogram2d": [
           {
            "colorbar": {
             "outlinewidth": 0,
             "ticks": ""
            },
            "colorscale": [
             [
              0,
              "#0d0887"
             ],
             [
              0.1111111111111111,
              "#46039f"
             ],
             [
              0.2222222222222222,
              "#7201a8"
             ],
             [
              0.3333333333333333,
              "#9c179e"
             ],
             [
              0.4444444444444444,
              "#bd3786"
             ],
             [
              0.5555555555555556,
              "#d8576b"
             ],
             [
              0.6666666666666666,
              "#ed7953"
             ],
             [
              0.7777777777777778,
              "#fb9f3a"
             ],
             [
              0.8888888888888888,
              "#fdca26"
             ],
             [
              1,
              "#f0f921"
             ]
            ],
            "type": "histogram2d"
           }
          ],
          "histogram2dcontour": [
           {
            "colorbar": {
             "outlinewidth": 0,
             "ticks": ""
            },
            "colorscale": [
             [
              0,
              "#0d0887"
             ],
             [
              0.1111111111111111,
              "#46039f"
             ],
             [
              0.2222222222222222,
              "#7201a8"
             ],
             [
              0.3333333333333333,
              "#9c179e"
             ],
             [
              0.4444444444444444,
              "#bd3786"
             ],
             [
              0.5555555555555556,
              "#d8576b"
             ],
             [
              0.6666666666666666,
              "#ed7953"
             ],
             [
              0.7777777777777778,
              "#fb9f3a"
             ],
             [
              0.8888888888888888,
              "#fdca26"
             ],
             [
              1,
              "#f0f921"
             ]
            ],
            "type": "histogram2dcontour"
           }
          ],
          "mesh3d": [
           {
            "colorbar": {
             "outlinewidth": 0,
             "ticks": ""
            },
            "type": "mesh3d"
           }
          ],
          "parcoords": [
           {
            "line": {
             "colorbar": {
              "outlinewidth": 0,
              "ticks": ""
             }
            },
            "type": "parcoords"
           }
          ],
          "pie": [
           {
            "automargin": true,
            "type": "pie"
           }
          ],
          "scatter": [
           {
            "fillpattern": {
             "fillmode": "overlay",
             "size": 10,
             "solidity": 0.2
            },
            "type": "scatter"
           }
          ],
          "scatter3d": [
           {
            "line": {
             "colorbar": {
              "outlinewidth": 0,
              "ticks": ""
             }
            },
            "marker": {
             "colorbar": {
              "outlinewidth": 0,
              "ticks": ""
             }
            },
            "type": "scatter3d"
           }
          ],
          "scattercarpet": [
           {
            "marker": {
             "colorbar": {
              "outlinewidth": 0,
              "ticks": ""
             }
            },
            "type": "scattercarpet"
           }
          ],
          "scattergeo": [
           {
            "marker": {
             "colorbar": {
              "outlinewidth": 0,
              "ticks": ""
             }
            },
            "type": "scattergeo"
           }
          ],
          "scattergl": [
           {
            "marker": {
             "colorbar": {
              "outlinewidth": 0,
              "ticks": ""
             }
            },
            "type": "scattergl"
           }
          ],
          "scattermapbox": [
           {
            "marker": {
             "colorbar": {
              "outlinewidth": 0,
              "ticks": ""
             }
            },
            "type": "scattermapbox"
           }
          ],
          "scatterpolar": [
           {
            "marker": {
             "colorbar": {
              "outlinewidth": 0,
              "ticks": ""
             }
            },
            "type": "scatterpolar"
           }
          ],
          "scatterpolargl": [
           {
            "marker": {
             "colorbar": {
              "outlinewidth": 0,
              "ticks": ""
             }
            },
            "type": "scatterpolargl"
           }
          ],
          "scatterternary": [
           {
            "marker": {
             "colorbar": {
              "outlinewidth": 0,
              "ticks": ""
             }
            },
            "type": "scatterternary"
           }
          ],
          "surface": [
           {
            "colorbar": {
             "outlinewidth": 0,
             "ticks": ""
            },
            "colorscale": [
             [
              0,
              "#0d0887"
             ],
             [
              0.1111111111111111,
              "#46039f"
             ],
             [
              0.2222222222222222,
              "#7201a8"
             ],
             [
              0.3333333333333333,
              "#9c179e"
             ],
             [
              0.4444444444444444,
              "#bd3786"
             ],
             [
              0.5555555555555556,
              "#d8576b"
             ],
             [
              0.6666666666666666,
              "#ed7953"
             ],
             [
              0.7777777777777778,
              "#fb9f3a"
             ],
             [
              0.8888888888888888,
              "#fdca26"
             ],
             [
              1,
              "#f0f921"
             ]
            ],
            "type": "surface"
           }
          ],
          "table": [
           {
            "cells": {
             "fill": {
              "color": "#EBF0F8"
             },
             "line": {
              "color": "white"
             }
            },
            "header": {
             "fill": {
              "color": "#C8D4E3"
             },
             "line": {
              "color": "white"
             }
            },
            "type": "table"
           }
          ]
         },
         "layout": {
          "annotationdefaults": {
           "arrowcolor": "#2a3f5f",
           "arrowhead": 0,
           "arrowwidth": 1
          },
          "autotypenumbers": "strict",
          "coloraxis": {
           "colorbar": {
            "outlinewidth": 0,
            "ticks": ""
           }
          },
          "colorscale": {
           "diverging": [
            [
             0,
             "#8e0152"
            ],
            [
             0.1,
             "#c51b7d"
            ],
            [
             0.2,
             "#de77ae"
            ],
            [
             0.3,
             "#f1b6da"
            ],
            [
             0.4,
             "#fde0ef"
            ],
            [
             0.5,
             "#f7f7f7"
            ],
            [
             0.6,
             "#e6f5d0"
            ],
            [
             0.7,
             "#b8e186"
            ],
            [
             0.8,
             "#7fbc41"
            ],
            [
             0.9,
             "#4d9221"
            ],
            [
             1,
             "#276419"
            ]
           ],
           "sequential": [
            [
             0,
             "#0d0887"
            ],
            [
             0.1111111111111111,
             "#46039f"
            ],
            [
             0.2222222222222222,
             "#7201a8"
            ],
            [
             0.3333333333333333,
             "#9c179e"
            ],
            [
             0.4444444444444444,
             "#bd3786"
            ],
            [
             0.5555555555555556,
             "#d8576b"
            ],
            [
             0.6666666666666666,
             "#ed7953"
            ],
            [
             0.7777777777777778,
             "#fb9f3a"
            ],
            [
             0.8888888888888888,
             "#fdca26"
            ],
            [
             1,
             "#f0f921"
            ]
           ],
           "sequentialminus": [
            [
             0,
             "#0d0887"
            ],
            [
             0.1111111111111111,
             "#46039f"
            ],
            [
             0.2222222222222222,
             "#7201a8"
            ],
            [
             0.3333333333333333,
             "#9c179e"
            ],
            [
             0.4444444444444444,
             "#bd3786"
            ],
            [
             0.5555555555555556,
             "#d8576b"
            ],
            [
             0.6666666666666666,
             "#ed7953"
            ],
            [
             0.7777777777777778,
             "#fb9f3a"
            ],
            [
             0.8888888888888888,
             "#fdca26"
            ],
            [
             1,
             "#f0f921"
            ]
           ]
          },
          "colorway": [
           "#636efa",
           "#EF553B",
           "#00cc96",
           "#ab63fa",
           "#FFA15A",
           "#19d3f3",
           "#FF6692",
           "#B6E880",
           "#FF97FF",
           "#FECB52"
          ],
          "font": {
           "color": "#2a3f5f"
          },
          "geo": {
           "bgcolor": "white",
           "lakecolor": "white",
           "landcolor": "#E5ECF6",
           "showlakes": true,
           "showland": true,
           "subunitcolor": "white"
          },
          "hoverlabel": {
           "align": "left"
          },
          "hovermode": "closest",
          "mapbox": {
           "style": "light"
          },
          "paper_bgcolor": "white",
          "plot_bgcolor": "#E5ECF6",
          "polar": {
           "angularaxis": {
            "gridcolor": "white",
            "linecolor": "white",
            "ticks": ""
           },
           "bgcolor": "#E5ECF6",
           "radialaxis": {
            "gridcolor": "white",
            "linecolor": "white",
            "ticks": ""
           }
          },
          "scene": {
           "xaxis": {
            "backgroundcolor": "#E5ECF6",
            "gridcolor": "white",
            "gridwidth": 2,
            "linecolor": "white",
            "showbackground": true,
            "ticks": "",
            "zerolinecolor": "white"
           },
           "yaxis": {
            "backgroundcolor": "#E5ECF6",
            "gridcolor": "white",
            "gridwidth": 2,
            "linecolor": "white",
            "showbackground": true,
            "ticks": "",
            "zerolinecolor": "white"
           },
           "zaxis": {
            "backgroundcolor": "#E5ECF6",
            "gridcolor": "white",
            "gridwidth": 2,
            "linecolor": "white",
            "showbackground": true,
            "ticks": "",
            "zerolinecolor": "white"
           }
          },
          "shapedefaults": {
           "line": {
            "color": "#2a3f5f"
           }
          },
          "ternary": {
           "aaxis": {
            "gridcolor": "white",
            "linecolor": "white",
            "ticks": ""
           },
           "baxis": {
            "gridcolor": "white",
            "linecolor": "white",
            "ticks": ""
           },
           "bgcolor": "#E5ECF6",
           "caxis": {
            "gridcolor": "white",
            "linecolor": "white",
            "ticks": ""
           }
          },
          "title": {
           "x": 0.05
          },
          "xaxis": {
           "automargin": true,
           "gridcolor": "white",
           "linecolor": "white",
           "ticks": "",
           "title": {
            "standoff": 15
           },
           "zerolinecolor": "white",
           "zerolinewidth": 2
          },
          "yaxis": {
           "automargin": true,
           "gridcolor": "white",
           "linecolor": "white",
           "ticks": "",
           "title": {
            "standoff": 15
           },
           "zerolinecolor": "white",
           "zerolinewidth": 2
          }
         }
        },
        "title": {
         "text": "<b>Split pricing trend of the RTX 3080 (March 2021 - Nov 2022)</b>",
         "x": 0.5,
         "xanchor": "center",
         "y": 0.9,
         "yanchor": "top"
        },
        "xaxis": {
         "anchor": "y",
         "domain": [
          0,
          0.45
         ]
        },
        "xaxis2": {
         "anchor": "y2",
         "domain": [
          0.55,
          1
         ]
        },
        "yaxis": {
         "anchor": "x",
         "domain": [
          0,
          1
         ],
         "title": {
          "text": "Pricing in USD ($)"
         }
        },
        "yaxis2": {
         "anchor": "x2",
         "domain": [
          0,
          1
         ],
         "matches": "y",
         "showticklabels": false
        }
       }
      },
      "text/html": [
       "<div>                            <div id=\"7facf365-db28-41a2-919f-8674eda37fb9\" class=\"plotly-graph-div\" style=\"height:525px; width:100%;\"></div>            <script type=\"text/javascript\">                require([\"plotly\"], function(Plotly) {                    window.PLOTLYENV=window.PLOTLYENV || {};                                    if (document.getElementById(\"7facf365-db28-41a2-919f-8674eda37fb9\")) {                    Plotly.newPlot(                        \"7facf365-db28-41a2-919f-8674eda37fb9\",                        [{\"marker\":{\"color\":\"red\"},\"mode\":\"lines+markers\",\"name\":\"bi-weekly\",\"x\":[\"Mar 20 \\u2013 Mar 30, 2021\",\"Mar 31 \\u2013 Apr 13, 2021\",\"Apr 13\\u201327, 2021\",\"Apr 28\\u2013May 12, 2021\",\"June 1\\u201315, 2021\",\"June 24\\u2013July 8, 2021\",\"July 8\\u2013July 22, 2021\",\"July 26\\u2013August 9, 2021\",\"August 10\\u201324, 2021\",\"August 25\\u2013September 8, 2021\",\"September 9\\u201323, 2021\",\"October 1\\u201315, 2021\"],\"y\":[\"2177\",\"2246\",\"2199\",\"2235\",\"1978\",\"1685\",\"1636\",\"1583\",\"1708\",\"1666\",\"1672\",\"1637\"],\"type\":\"scatter\",\"xaxis\":\"x\",\"yaxis\":\"y\"},{\"marker\":{\"color\":\"green\"},\"mode\":\"lines+markers\",\"name\":\"monthly\",\"x\":[\"September 2021\",\"October 2021\",\"November 2021\",\"December 2021\",\"January 2022\",\"February 2022\",\"March 2022\",\"April 2022\",\"May 2022\",\"June 2022\",\"July 2022\",\"August 2022\",\"September 2022\",\"October 2022\",\"November 2022\"],\"y\":[\"1677\",\"1666\",\"1720\",\"1783\",\"1613\",\"1440\",\"1283\",\"1114\",\"899\",\"728\",\"696\",\"665\",\"585\",\"562\",\"594\"],\"type\":\"scatter\",\"xaxis\":\"x2\",\"yaxis\":\"y2\"}],                        {\"template\":{\"data\":{\"histogram2dcontour\":[{\"type\":\"histogram2dcontour\",\"colorbar\":{\"outlinewidth\":0,\"ticks\":\"\"},\"colorscale\":[[0.0,\"#0d0887\"],[0.1111111111111111,\"#46039f\"],[0.2222222222222222,\"#7201a8\"],[0.3333333333333333,\"#9c179e\"],[0.4444444444444444,\"#bd3786\"],[0.5555555555555556,\"#d8576b\"],[0.6666666666666666,\"#ed7953\"],[0.7777777777777778,\"#fb9f3a\"],[0.8888888888888888,\"#fdca26\"],[1.0,\"#f0f921\"]]}],\"choropleth\":[{\"type\":\"choropleth\",\"colorbar\":{\"outlinewidth\":0,\"ticks\":\"\"}}],\"histogram2d\":[{\"type\":\"histogram2d\",\"colorbar\":{\"outlinewidth\":0,\"ticks\":\"\"},\"colorscale\":[[0.0,\"#0d0887\"],[0.1111111111111111,\"#46039f\"],[0.2222222222222222,\"#7201a8\"],[0.3333333333333333,\"#9c179e\"],[0.4444444444444444,\"#bd3786\"],[0.5555555555555556,\"#d8576b\"],[0.6666666666666666,\"#ed7953\"],[0.7777777777777778,\"#fb9f3a\"],[0.8888888888888888,\"#fdca26\"],[1.0,\"#f0f921\"]]}],\"heatmap\":[{\"type\":\"heatmap\",\"colorbar\":{\"outlinewidth\":0,\"ticks\":\"\"},\"colorscale\":[[0.0,\"#0d0887\"],[0.1111111111111111,\"#46039f\"],[0.2222222222222222,\"#7201a8\"],[0.3333333333333333,\"#9c179e\"],[0.4444444444444444,\"#bd3786\"],[0.5555555555555556,\"#d8576b\"],[0.6666666666666666,\"#ed7953\"],[0.7777777777777778,\"#fb9f3a\"],[0.8888888888888888,\"#fdca26\"],[1.0,\"#f0f921\"]]}],\"heatmapgl\":[{\"type\":\"heatmapgl\",\"colorbar\":{\"outlinewidth\":0,\"ticks\":\"\"},\"colorscale\":[[0.0,\"#0d0887\"],[0.1111111111111111,\"#46039f\"],[0.2222222222222222,\"#7201a8\"],[0.3333333333333333,\"#9c179e\"],[0.4444444444444444,\"#bd3786\"],[0.5555555555555556,\"#d8576b\"],[0.6666666666666666,\"#ed7953\"],[0.7777777777777778,\"#fb9f3a\"],[0.8888888888888888,\"#fdca26\"],[1.0,\"#f0f921\"]]}],\"contourcarpet\":[{\"type\":\"contourcarpet\",\"colorbar\":{\"outlinewidth\":0,\"ticks\":\"\"}}],\"contour\":[{\"type\":\"contour\",\"colorbar\":{\"outlinewidth\":0,\"ticks\":\"\"},\"colorscale\":[[0.0,\"#0d0887\"],[0.1111111111111111,\"#46039f\"],[0.2222222222222222,\"#7201a8\"],[0.3333333333333333,\"#9c179e\"],[0.4444444444444444,\"#bd3786\"],[0.5555555555555556,\"#d8576b\"],[0.6666666666666666,\"#ed7953\"],[0.7777777777777778,\"#fb9f3a\"],[0.8888888888888888,\"#fdca26\"],[1.0,\"#f0f921\"]]}],\"surface\":[{\"type\":\"surface\",\"colorbar\":{\"outlinewidth\":0,\"ticks\":\"\"},\"colorscale\":[[0.0,\"#0d0887\"],[0.1111111111111111,\"#46039f\"],[0.2222222222222222,\"#7201a8\"],[0.3333333333333333,\"#9c179e\"],[0.4444444444444444,\"#bd3786\"],[0.5555555555555556,\"#d8576b\"],[0.6666666666666666,\"#ed7953\"],[0.7777777777777778,\"#fb9f3a\"],[0.8888888888888888,\"#fdca26\"],[1.0,\"#f0f921\"]]}],\"mesh3d\":[{\"type\":\"mesh3d\",\"colorbar\":{\"outlinewidth\":0,\"ticks\":\"\"}}],\"scatter\":[{\"fillpattern\":{\"fillmode\":\"overlay\",\"size\":10,\"solidity\":0.2},\"type\":\"scatter\"}],\"parcoords\":[{\"type\":\"parcoords\",\"line\":{\"colorbar\":{\"outlinewidth\":0,\"ticks\":\"\"}}}],\"scatterpolargl\":[{\"type\":\"scatterpolargl\",\"marker\":{\"colorbar\":{\"outlinewidth\":0,\"ticks\":\"\"}}}],\"bar\":[{\"error_x\":{\"color\":\"#2a3f5f\"},\"error_y\":{\"color\":\"#2a3f5f\"},\"marker\":{\"line\":{\"color\":\"#E5ECF6\",\"width\":0.5},\"pattern\":{\"fillmode\":\"overlay\",\"size\":10,\"solidity\":0.2}},\"type\":\"bar\"}],\"scattergeo\":[{\"type\":\"scattergeo\",\"marker\":{\"colorbar\":{\"outlinewidth\":0,\"ticks\":\"\"}}}],\"scatterpolar\":[{\"type\":\"scatterpolar\",\"marker\":{\"colorbar\":{\"outlinewidth\":0,\"ticks\":\"\"}}}],\"histogram\":[{\"marker\":{\"pattern\":{\"fillmode\":\"overlay\",\"size\":10,\"solidity\":0.2}},\"type\":\"histogram\"}],\"scattergl\":[{\"type\":\"scattergl\",\"marker\":{\"colorbar\":{\"outlinewidth\":0,\"ticks\":\"\"}}}],\"scatter3d\":[{\"type\":\"scatter3d\",\"line\":{\"colorbar\":{\"outlinewidth\":0,\"ticks\":\"\"}},\"marker\":{\"colorbar\":{\"outlinewidth\":0,\"ticks\":\"\"}}}],\"scattermapbox\":[{\"type\":\"scattermapbox\",\"marker\":{\"colorbar\":{\"outlinewidth\":0,\"ticks\":\"\"}}}],\"scatterternary\":[{\"type\":\"scatterternary\",\"marker\":{\"colorbar\":{\"outlinewidth\":0,\"ticks\":\"\"}}}],\"scattercarpet\":[{\"type\":\"scattercarpet\",\"marker\":{\"colorbar\":{\"outlinewidth\":0,\"ticks\":\"\"}}}],\"carpet\":[{\"aaxis\":{\"endlinecolor\":\"#2a3f5f\",\"gridcolor\":\"white\",\"linecolor\":\"white\",\"minorgridcolor\":\"white\",\"startlinecolor\":\"#2a3f5f\"},\"baxis\":{\"endlinecolor\":\"#2a3f5f\",\"gridcolor\":\"white\",\"linecolor\":\"white\",\"minorgridcolor\":\"white\",\"startlinecolor\":\"#2a3f5f\"},\"type\":\"carpet\"}],\"table\":[{\"cells\":{\"fill\":{\"color\":\"#EBF0F8\"},\"line\":{\"color\":\"white\"}},\"header\":{\"fill\":{\"color\":\"#C8D4E3\"},\"line\":{\"color\":\"white\"}},\"type\":\"table\"}],\"barpolar\":[{\"marker\":{\"line\":{\"color\":\"#E5ECF6\",\"width\":0.5},\"pattern\":{\"fillmode\":\"overlay\",\"size\":10,\"solidity\":0.2}},\"type\":\"barpolar\"}],\"pie\":[{\"automargin\":true,\"type\":\"pie\"}]},\"layout\":{\"autotypenumbers\":\"strict\",\"colorway\":[\"#636efa\",\"#EF553B\",\"#00cc96\",\"#ab63fa\",\"#FFA15A\",\"#19d3f3\",\"#FF6692\",\"#B6E880\",\"#FF97FF\",\"#FECB52\"],\"font\":{\"color\":\"#2a3f5f\"},\"hovermode\":\"closest\",\"hoverlabel\":{\"align\":\"left\"},\"paper_bgcolor\":\"white\",\"plot_bgcolor\":\"#E5ECF6\",\"polar\":{\"bgcolor\":\"#E5ECF6\",\"angularaxis\":{\"gridcolor\":\"white\",\"linecolor\":\"white\",\"ticks\":\"\"},\"radialaxis\":{\"gridcolor\":\"white\",\"linecolor\":\"white\",\"ticks\":\"\"}},\"ternary\":{\"bgcolor\":\"#E5ECF6\",\"aaxis\":{\"gridcolor\":\"white\",\"linecolor\":\"white\",\"ticks\":\"\"},\"baxis\":{\"gridcolor\":\"white\",\"linecolor\":\"white\",\"ticks\":\"\"},\"caxis\":{\"gridcolor\":\"white\",\"linecolor\":\"white\",\"ticks\":\"\"}},\"coloraxis\":{\"colorbar\":{\"outlinewidth\":0,\"ticks\":\"\"}},\"colorscale\":{\"sequential\":[[0.0,\"#0d0887\"],[0.1111111111111111,\"#46039f\"],[0.2222222222222222,\"#7201a8\"],[0.3333333333333333,\"#9c179e\"],[0.4444444444444444,\"#bd3786\"],[0.5555555555555556,\"#d8576b\"],[0.6666666666666666,\"#ed7953\"],[0.7777777777777778,\"#fb9f3a\"],[0.8888888888888888,\"#fdca26\"],[1.0,\"#f0f921\"]],\"sequentialminus\":[[0.0,\"#0d0887\"],[0.1111111111111111,\"#46039f\"],[0.2222222222222222,\"#7201a8\"],[0.3333333333333333,\"#9c179e\"],[0.4444444444444444,\"#bd3786\"],[0.5555555555555556,\"#d8576b\"],[0.6666666666666666,\"#ed7953\"],[0.7777777777777778,\"#fb9f3a\"],[0.8888888888888888,\"#fdca26\"],[1.0,\"#f0f921\"]],\"diverging\":[[0,\"#8e0152\"],[0.1,\"#c51b7d\"],[0.2,\"#de77ae\"],[0.3,\"#f1b6da\"],[0.4,\"#fde0ef\"],[0.5,\"#f7f7f7\"],[0.6,\"#e6f5d0\"],[0.7,\"#b8e186\"],[0.8,\"#7fbc41\"],[0.9,\"#4d9221\"],[1,\"#276419\"]]},\"xaxis\":{\"gridcolor\":\"white\",\"linecolor\":\"white\",\"ticks\":\"\",\"title\":{\"standoff\":15},\"zerolinecolor\":\"white\",\"automargin\":true,\"zerolinewidth\":2},\"yaxis\":{\"gridcolor\":\"white\",\"linecolor\":\"white\",\"ticks\":\"\",\"title\":{\"standoff\":15},\"zerolinecolor\":\"white\",\"automargin\":true,\"zerolinewidth\":2},\"scene\":{\"xaxis\":{\"backgroundcolor\":\"#E5ECF6\",\"gridcolor\":\"white\",\"linecolor\":\"white\",\"showbackground\":true,\"ticks\":\"\",\"zerolinecolor\":\"white\",\"gridwidth\":2},\"yaxis\":{\"backgroundcolor\":\"#E5ECF6\",\"gridcolor\":\"white\",\"linecolor\":\"white\",\"showbackground\":true,\"ticks\":\"\",\"zerolinecolor\":\"white\",\"gridwidth\":2},\"zaxis\":{\"backgroundcolor\":\"#E5ECF6\",\"gridcolor\":\"white\",\"linecolor\":\"white\",\"showbackground\":true,\"ticks\":\"\",\"zerolinecolor\":\"white\",\"gridwidth\":2}},\"shapedefaults\":{\"line\":{\"color\":\"#2a3f5f\"}},\"annotationdefaults\":{\"arrowcolor\":\"#2a3f5f\",\"arrowhead\":0,\"arrowwidth\":1},\"geo\":{\"bgcolor\":\"white\",\"landcolor\":\"#E5ECF6\",\"subunitcolor\":\"white\",\"showland\":true,\"showlakes\":true,\"lakecolor\":\"white\"},\"title\":{\"x\":0.05},\"mapbox\":{\"style\":\"light\"}}},\"xaxis\":{\"anchor\":\"y\",\"domain\":[0.0,0.45]},\"yaxis\":{\"anchor\":\"x\",\"domain\":[0.0,1.0],\"title\":{\"text\":\"Pricing in USD ($)\"}},\"xaxis2\":{\"anchor\":\"y2\",\"domain\":[0.55,1.0]},\"yaxis2\":{\"anchor\":\"x2\",\"domain\":[0.0,1.0],\"matches\":\"y\",\"showticklabels\":false},\"annotations\":[{\"font\":{\"size\":16},\"showarrow\":false,\"text\":\"Bi-Weekly\",\"x\":0.225,\"xanchor\":\"center\",\"xref\":\"paper\",\"y\":1.0,\"yanchor\":\"bottom\",\"yref\":\"paper\"},{\"font\":{\"size\":16},\"showarrow\":false,\"text\":\"Monthly\",\"x\":0.775,\"xanchor\":\"center\",\"xref\":\"paper\",\"y\":1.0,\"yanchor\":\"bottom\",\"yref\":\"paper\"}],\"title\":{\"text\":\"<b>Split pricing trend of the RTX 3080 (March 2021 - Nov 2022)</b>\",\"y\":0.9,\"x\":0.5,\"xanchor\":\"center\",\"yanchor\":\"top\"},\"autotypenumbers\":\"convert types\"},                        {\"responsive\": true}                    ).then(function(){\n",
       "                            \n",
       "var gd = document.getElementById('7facf365-db28-41a2-919f-8674eda37fb9');\n",
       "var x = new MutationObserver(function (mutations, observer) {{\n",
       "        var display = window.getComputedStyle(gd).display;\n",
       "        if (!display || display === 'none') {{\n",
       "            console.log([gd, 'removed!']);\n",
       "            Plotly.purge(gd);\n",
       "            observer.disconnect();\n",
       "        }}\n",
       "}});\n",
       "\n",
       "// Listen for the removal of the full notebook cells\n",
       "var notebookContainer = gd.closest('#notebook-container');\n",
       "if (notebookContainer) {{\n",
       "    x.observe(notebookContainer, {childList: true});\n",
       "}}\n",
       "\n",
       "// Listen for the clearing of the current output cell\n",
       "var outputEl = gd.closest('.output');\n",
       "if (outputEl) {{\n",
       "    x.observe(outputEl, {childList: true});\n",
       "}}\n",
       "\n",
       "                        })                };                });            </script>        </div>"
      ]
     },
     "metadata": {},
     "output_type": "display_data"
    }
   ],
   "source": [
    "# Bi-Weekly Scatter PLot Data\n",
    "x1_val = []\n",
    "for x1_key in biw_list.keys():\n",
    "    x1_val.append(x1_key)\n",
    "\n",
    "y1_val = []\n",
    "for y1_key in biw_list.values():\n",
    "    y1_val.append(y1_key)\n",
    "\n",
    "# Monthly Scatter Plot Data\n",
    "x2_val = []\n",
    "for x2_key in mthly_list.keys():\n",
    "    x2_val.append(x2_key)\n",
    "\n",
    "y2_val = []\n",
    "for y2_key in mthly_list.values():\n",
    "    y2_val.append(y2_key)\n",
    "\n",
    "# Configure subplot to share y-axis to better emphasize the link between them\n",
    "fig = make_subplots(\n",
    "    rows=1, cols=2,\n",
    "    shared_yaxes = True,\n",
    "    subplot_titles = (\"Bi-Weekly\", \"Monthly\")\n",
    ")\n",
    "\n",
    "fig.add_trace(\n",
    "    go.Scatter(x=x1_val, y=y1_val, mode='lines+markers', name='bi-weekly', marker = {'color': 'red'}),\n",
    "    row=1, col=1\n",
    ")\n",
    "\n",
    "fig.add_trace(\n",
    "    go.Scatter(x=x2_val, y=y2_val, mode='lines+markers', name='monthly', marker = {'color': 'green'}),\n",
    "    row=1, col=2\n",
    ")\n",
    "\n",
    "fig.update_layout(\n",
    "    title={\n",
    "        'text': \"<b>Split pricing trend of the RTX 3080 (March 2021 - Nov 2022)</b>\",\n",
    "        'y': 0.9,\n",
    "        'x': 0.5,\n",
    "        'xanchor': 'center',\n",
    "        'yanchor': 'top'},\n",
    "    autotypenumbers='convert types'\n",
    ")\n",
    "\n",
    "fig.update_layout(\n",
    "    yaxis_title=\"Pricing in USD ($)\",\n",
    ")\n",
    "\n",
    "\n",
    "fig.show()\n"
   ]
  },
  {
   "cell_type": "markdown",
   "id": "c536989a",
   "metadata": {},
   "source": [
    "From the split line graphs above, additional observations that can be made from this is that,\n",
    "\n",
    "- Pricing between 28 April 2021 - 8 July 2021 saw a steep drop, falling by __\\$550 USD__.\n",
    "\n",
    "- Pricing between December 2021 - June 2022 saw the highest drop. falling by __\\$1055 USD__, at an average rate of __\\$150.70__ USD a month.\n",
    "\n",
    "- The most recent pricing collected on November 2022 was __\\$594 USD__, well below its \\$699 USD MSRP."
   ]
  },
  {
   "cell_type": "markdown",
   "id": "01bfd21e",
   "metadata": {},
   "source": [
    "To check if the pricing of ETH affected the price of the RTX 3080, I will be charting the 20-day moving average along with each of the pricing charts above to check if there is any relationship between the two."
   ]
  },
  {
   "cell_type": "code",
   "execution_count": 31,
   "id": "3db4a5bd",
   "metadata": {},
   "outputs": [
    {
     "data": {
      "application/vnd.plotly.v1+json": {
       "config": {
        "plotlyServerURL": "https://plot.ly"
       },
       "data": [
        {
         "name": "20D Moving Avg.",
         "type": "scatter",
         "x": [
          "2021-03-01T00:00:00+00:00",
          "2021-03-02T00:00:00+00:00",
          "2021-03-03T00:00:00+00:00",
          "2021-03-04T00:00:00+00:00",
          "2021-03-05T00:00:00+00:00",
          "2021-03-06T00:00:00+00:00",
          "2021-03-07T00:00:00+00:00",
          "2021-03-08T00:00:00+00:00",
          "2021-03-09T00:00:00+00:00",
          "2021-03-10T00:00:00+00:00",
          "2021-03-11T00:00:00+00:00",
          "2021-03-12T00:00:00+00:00",
          "2021-03-13T00:00:00+00:00",
          "2021-03-14T00:00:00+00:00",
          "2021-03-15T00:00:00+00:00",
          "2021-03-16T00:00:00+00:00",
          "2021-03-17T00:00:00+00:00",
          "2021-03-18T00:00:00+00:00",
          "2021-03-19T00:00:00+00:00",
          "2021-03-20T00:00:00+00:00",
          "2021-03-21T00:00:00+00:00",
          "2021-03-22T00:00:00+00:00",
          "2021-03-23T00:00:00+00:00",
          "2021-03-24T00:00:00+00:00",
          "2021-03-25T00:00:00+00:00",
          "2021-03-26T00:00:00+00:00",
          "2021-03-27T00:00:00+00:00",
          "2021-03-28T00:00:00+00:00",
          "2021-03-29T00:00:00+00:00",
          "2021-03-30T00:00:00+00:00",
          "2021-03-31T00:00:00+00:00",
          "2021-04-01T00:00:00+00:00",
          "2021-04-02T00:00:00+00:00",
          "2021-04-03T00:00:00+00:00",
          "2021-04-04T00:00:00+00:00",
          "2021-04-05T00:00:00+00:00",
          "2021-04-06T00:00:00+00:00",
          "2021-04-07T00:00:00+00:00",
          "2021-04-08T00:00:00+00:00",
          "2021-04-09T00:00:00+00:00",
          "2021-04-10T00:00:00+00:00",
          "2021-04-11T00:00:00+00:00",
          "2021-04-12T00:00:00+00:00",
          "2021-04-13T00:00:00+00:00",
          "2021-04-14T00:00:00+00:00",
          "2021-04-15T00:00:00+00:00",
          "2021-04-16T00:00:00+00:00",
          "2021-04-17T00:00:00+00:00",
          "2021-04-18T00:00:00+00:00",
          "2021-04-19T00:00:00+00:00",
          "2021-04-20T00:00:00+00:00",
          "2021-04-21T00:00:00+00:00",
          "2021-04-22T00:00:00+00:00",
          "2021-04-23T00:00:00+00:00",
          "2021-04-24T00:00:00+00:00",
          "2021-04-25T00:00:00+00:00",
          "2021-04-26T00:00:00+00:00",
          "2021-04-27T00:00:00+00:00",
          "2021-04-28T00:00:00+00:00",
          "2021-04-29T00:00:00+00:00",
          "2021-04-30T00:00:00+00:00",
          "2021-05-01T00:00:00+00:00",
          "2021-05-02T00:00:00+00:00",
          "2021-05-03T00:00:00+00:00",
          "2021-05-04T00:00:00+00:00",
          "2021-05-05T00:00:00+00:00",
          "2021-05-06T00:00:00+00:00",
          "2021-05-07T00:00:00+00:00",
          "2021-05-08T00:00:00+00:00",
          "2021-05-09T00:00:00+00:00",
          "2021-05-10T00:00:00+00:00",
          "2021-05-11T00:00:00+00:00",
          "2021-05-12T00:00:00+00:00",
          "2021-05-13T00:00:00+00:00",
          "2021-05-14T00:00:00+00:00",
          "2021-05-15T00:00:00+00:00",
          "2021-05-16T00:00:00+00:00",
          "2021-05-17T00:00:00+00:00",
          "2021-05-18T00:00:00+00:00",
          "2021-05-19T00:00:00+00:00",
          "2021-05-20T00:00:00+00:00",
          "2021-05-21T00:00:00+00:00",
          "2021-05-22T00:00:00+00:00",
          "2021-05-23T00:00:00+00:00",
          "2021-05-24T00:00:00+00:00",
          "2021-05-25T00:00:00+00:00",
          "2021-05-26T00:00:00+00:00",
          "2021-05-27T00:00:00+00:00",
          "2021-05-28T00:00:00+00:00",
          "2021-05-29T00:00:00+00:00",
          "2021-05-30T00:00:00+00:00",
          "2021-05-31T00:00:00+00:00",
          "2021-06-01T00:00:00+00:00",
          "2021-06-02T00:00:00+00:00",
          "2021-06-03T00:00:00+00:00",
          "2021-06-04T00:00:00+00:00",
          "2021-06-05T00:00:00+00:00",
          "2021-06-06T00:00:00+00:00",
          "2021-06-07T00:00:00+00:00",
          "2021-06-08T00:00:00+00:00",
          "2021-06-09T00:00:00+00:00",
          "2021-06-10T00:00:00+00:00",
          "2021-06-11T00:00:00+00:00",
          "2021-06-12T00:00:00+00:00",
          "2021-06-13T00:00:00+00:00",
          "2021-06-14T00:00:00+00:00",
          "2021-06-15T00:00:00+00:00",
          "2021-06-16T00:00:00+00:00",
          "2021-06-17T00:00:00+00:00",
          "2021-06-18T00:00:00+00:00",
          "2021-06-19T00:00:00+00:00",
          "2021-06-20T00:00:00+00:00",
          "2021-06-21T00:00:00+00:00",
          "2021-06-22T00:00:00+00:00",
          "2021-06-23T00:00:00+00:00",
          "2021-06-24T00:00:00+00:00",
          "2021-06-25T00:00:00+00:00",
          "2021-06-26T00:00:00+00:00",
          "2021-06-27T00:00:00+00:00",
          "2021-06-28T00:00:00+00:00",
          "2021-06-29T00:00:00+00:00",
          "2021-06-30T00:00:00+00:00",
          "2021-07-01T00:00:00+00:00",
          "2021-07-02T00:00:00+00:00",
          "2021-07-03T00:00:00+00:00",
          "2021-07-04T00:00:00+00:00",
          "2021-07-05T00:00:00+00:00",
          "2021-07-06T00:00:00+00:00",
          "2021-07-07T00:00:00+00:00",
          "2021-07-08T00:00:00+00:00",
          "2021-07-09T00:00:00+00:00",
          "2021-07-10T00:00:00+00:00",
          "2021-07-11T00:00:00+00:00",
          "2021-07-12T00:00:00+00:00",
          "2021-07-13T00:00:00+00:00",
          "2021-07-14T00:00:00+00:00",
          "2021-07-15T00:00:00+00:00",
          "2021-07-16T00:00:00+00:00",
          "2021-07-17T00:00:00+00:00",
          "2021-07-18T00:00:00+00:00",
          "2021-07-19T00:00:00+00:00",
          "2021-07-20T00:00:00+00:00",
          "2021-07-21T00:00:00+00:00",
          "2021-07-22T00:00:00+00:00",
          "2021-07-23T00:00:00+00:00",
          "2021-07-24T00:00:00+00:00",
          "2021-07-25T00:00:00+00:00",
          "2021-07-26T00:00:00+00:00",
          "2021-07-27T00:00:00+00:00",
          "2021-07-28T00:00:00+00:00",
          "2021-07-29T00:00:00+00:00",
          "2021-07-30T00:00:00+00:00",
          "2021-07-31T00:00:00+00:00",
          "2021-08-01T00:00:00+00:00",
          "2021-08-02T00:00:00+00:00",
          "2021-08-03T00:00:00+00:00",
          "2021-08-04T00:00:00+00:00",
          "2021-08-05T00:00:00+00:00",
          "2021-08-06T00:00:00+00:00",
          "2021-08-07T00:00:00+00:00",
          "2021-08-08T00:00:00+00:00",
          "2021-08-09T00:00:00+00:00",
          "2021-08-10T00:00:00+00:00",
          "2021-08-11T00:00:00+00:00",
          "2021-08-12T00:00:00+00:00",
          "2021-08-13T00:00:00+00:00",
          "2021-08-14T00:00:00+00:00",
          "2021-08-15T00:00:00+00:00",
          "2021-08-16T00:00:00+00:00",
          "2021-08-17T00:00:00+00:00",
          "2021-08-18T00:00:00+00:00",
          "2021-08-19T00:00:00+00:00",
          "2021-08-20T00:00:00+00:00",
          "2021-08-21T00:00:00+00:00",
          "2021-08-22T00:00:00+00:00",
          "2021-08-23T00:00:00+00:00",
          "2021-08-24T00:00:00+00:00",
          "2021-08-25T00:00:00+00:00",
          "2021-08-26T00:00:00+00:00",
          "2021-08-27T00:00:00+00:00",
          "2021-08-28T00:00:00+00:00",
          "2021-08-29T00:00:00+00:00",
          "2021-08-30T00:00:00+00:00",
          "2021-08-31T00:00:00+00:00",
          "2021-09-01T00:00:00+00:00",
          "2021-09-02T00:00:00+00:00",
          "2021-09-03T00:00:00+00:00",
          "2021-09-04T00:00:00+00:00",
          "2021-09-05T00:00:00+00:00",
          "2021-09-06T00:00:00+00:00",
          "2021-09-07T00:00:00+00:00",
          "2021-09-08T00:00:00+00:00",
          "2021-09-09T00:00:00+00:00",
          "2021-09-10T00:00:00+00:00",
          "2021-09-11T00:00:00+00:00",
          "2021-09-12T00:00:00+00:00",
          "2021-09-13T00:00:00+00:00",
          "2021-09-14T00:00:00+00:00",
          "2021-09-15T00:00:00+00:00",
          "2021-09-16T00:00:00+00:00",
          "2021-09-17T00:00:00+00:00",
          "2021-09-18T00:00:00+00:00",
          "2021-09-19T00:00:00+00:00",
          "2021-09-20T00:00:00+00:00",
          "2021-09-21T00:00:00+00:00",
          "2021-09-22T00:00:00+00:00",
          "2021-09-23T00:00:00+00:00",
          "2021-09-24T00:00:00+00:00",
          "2021-09-25T00:00:00+00:00",
          "2021-09-26T00:00:00+00:00",
          "2021-09-27T00:00:00+00:00",
          "2021-09-28T00:00:00+00:00",
          "2021-09-29T00:00:00+00:00",
          "2021-09-30T00:00:00+00:00",
          "2021-10-01T00:00:00+00:00",
          "2021-10-02T00:00:00+00:00",
          "2021-10-03T00:00:00+00:00",
          "2021-10-04T00:00:00+00:00",
          "2021-10-05T00:00:00+00:00",
          "2021-10-06T00:00:00+00:00",
          "2021-10-07T00:00:00+00:00",
          "2021-10-08T00:00:00+00:00",
          "2021-10-09T00:00:00+00:00",
          "2021-10-10T00:00:00+00:00",
          "2021-10-11T00:00:00+00:00",
          "2021-10-12T00:00:00+00:00",
          "2021-10-13T00:00:00+00:00",
          "2021-10-14T00:00:00+00:00"
         ],
         "xaxis": "x",
         "y": [
          null,
          null,
          null,
          null,
          null,
          null,
          null,
          null,
          null,
          null,
          null,
          null,
          null,
          null,
          null,
          null,
          null,
          null,
          null,
          1740.0490844726562,
          1751.2245544433595,
          1761.1608154296875,
          1766.3006652832032,
          1768.8756225585937,
          1771.979833984375,
          1774.3848571777344,
          1774.0518981933594,
          1766.88330078125,
          1764.465106201172,
          1766.8084777832032,
          1771.4168334960937,
          1781.675555419922,
          1792.6025634765624,
          1801.2954711914062,
          1816.3664978027343,
          1831.4122680664063,
          1846.1587463378905,
          1855.5698547363281,
          1869.117333984375,
          1882.091046142578,
          1899.4773010253907,
          1922.7934509277343,
          1945.8286071777343,
          1981.1173217773437,
          2023.1046081542968,
          2063.918316650391,
          2099.6909118652343,
          2132.3678649902345,
          2153.2404663085936,
          2169.2482177734373,
          2189.8406616210937,
          2209.214404296875,
          2222.2298828125,
          2238.988067626953,
          2244.913214111328,
          2255.3218322753905,
          2276.1269714355467,
          2310.7163696289062,
          2343.606689453125,
          2377.8450927734375,
          2409.7083374023437,
          2449.1201293945314,
          2489.7552734375,
          2546.3501953125,
          2587.276416015625,
          2637.459765625,
          2690.406457519531,
          2747.398156738281,
          2830.673693847656,
          2918.806494140625,
          2999.91064453125,
          3090.108117675781,
          3159.2237915039063,
          3226.801904296875,
          3320.173486328125,
          3386.276611328125,
          3438.92783203125,
          3469.9044555664063,
          3501.5889526367187,
          3486.7790649414064,
          3487.3334228515623,
          3461.5698486328124,
          3428.7523193359375,
          3362.677001953125,
          3332.175085449219,
          3291.3673706054688,
          3261.2582885742186,
          3223.8462646484377,
          3149.709191894531,
          3067.2426635742186,
          2989.1432373046873,
          2916.4554443359375,
          2858.8389282226562,
          2808.3877563476562,
          2747.1912109375,
          2699.694860839844,
          2651.8484008789064,
          2623.483154296875,
          2583.992810058594,
          2586.8307861328126,
          2578.029431152344,
          2580.0742919921877,
          2582.9774536132813,
          2596.1226806640625,
          2589.3627075195313,
          2580.925817871094,
          2567.0377197265625,
          2548.596472167969,
          2546.2012573242187,
          2543.81220703125,
          2533.221887207031,
          2509.7928466796875,
          2472.539306640625,
          2430.9805603027344,
          2387.711053466797,
          2352.7241149902343,
          2311.856134033203,
          2267.5634582519533,
          2236.9950317382813,
          2215.1059692382814,
          2192.7310302734377,
          2182.8824829101563,
          2170.87431640625,
          2159.7521118164063,
          2145.6382446289062,
          2134.8298950195312,
          2114.2121826171874,
          2112.0629760742186,
          2109.2209716796874,
          2103.635632324219,
          2102.045300292969,
          2095.297253417969,
          2107.858117675781,
          2115.946667480469,
          2113.4640502929688,
          2113.7578002929686,
          2118.6557189941404,
          2121.2129028320314,
          2117.2094299316404,
          2108.0041625976564,
          2090.8305786132814,
          2066.4787353515626,
          2060.347003173828,
          2054.105126953125,
          2049.0382446289063,
          2042.4129760742187,
          2042.0525390625,
          2037.4869018554687,
          2036.6454833984376,
          2045.471435546875,
          2057.1846557617187,
          2074.962548828125,
          2094.7898071289064,
          2121.046356201172,
          2154.5498229980467,
          2179.9507385253905,
          2220.62294921875,
          2267.970245361328,
          2317.576068115234,
          2380.660400390625,
          2440.4822021484374,
          2509.499475097656,
          2567.0354919433594,
          2623.9876098632812,
          2669.9194946289062,
          2726.569140625,
          2780.2726196289063,
          2834.1294921875,
          2877.038293457031,
          2912.9533203125,
          2944.9099731445312,
          2980.6970092773436,
          3018.2332763671875,
          3051.444873046875,
          3083.0429809570314,
          3123.8883666992188,
          3146.2801879882813,
          3166.1595092773437,
          3176.628698730469,
          3182.2968017578123,
          3193.8303344726564,
          3196.7876586914062,
          3200.9218139648438,
          3214.39619140625,
          3253.9668823242187,
          3277.405798339844,
          3311.1643676757812,
          3340.0305786132812,
          3379.8117797851564,
          3425.4884521484373,
          3445.803674316406,
          3461.534326171875,
          3468.5545654296875,
          3467.8256591796876,
          3469.2337890625,
          3473.7776489257812,
          3479.430419921875,
          3489.6431396484377,
          3515.391003417969,
          3530.4257080078123,
          3538.1324829101563,
          3548.383264160156,
          3553.6369506835936,
          3529.8999877929687,
          3476.3801391601564,
          3440.7240356445313,
          3401.469482421875,
          3353.6615234375,
          3302.3331298828125,
          3259.0274291992187,
          3234.414660644531,
          3199.9137329101563,
          3171.203894042969,
          3160.712548828125,
          3162.5744506835936,
          3161.65244140625,
          3168.294787597656,
          3165.8407592773438,
          3161.002551269531,
          3161.4659057617187,
          3170.937707519531,
          3177.524755859375,
          3189.8381958007812,
          3213.1811645507814,
          3252.2273071289064,
          3272.9625732421873,
          3295.496472167969,
          3338.213720703125
         ],
         "yaxis": "y"
        },
        {
         "name": "RTX 3080 Price (Bi-Weekly)",
         "type": "scatter",
         "x": [
          "Mar 20 – Mar 30, 2021",
          "Mar 31 – Apr 13, 2021",
          "Apr 13–27, 2021",
          "Apr 28–May 12, 2021",
          "June 1–15, 2021",
          "June 24–July 8, 2021",
          "July 8–July 22, 2021",
          "July 26–August 9, 2021",
          "August 10–24, 2021",
          "August 25–September 8, 2021",
          "September 9–23, 2021",
          "October 1–15, 2021"
         ],
         "xaxis": "x2",
         "y": [
          "2177",
          "2246",
          "2199",
          "2235",
          "1978",
          "1685",
          "1636",
          "1583",
          "1708",
          "1666",
          "1672",
          "1637"
         ],
         "yaxis": "y2"
        }
       ],
       "layout": {
        "autotypenumbers": "convert types",
        "template": {
         "data": {
          "bar": [
           {
            "error_x": {
             "color": "#2a3f5f"
            },
            "error_y": {
             "color": "#2a3f5f"
            },
            "marker": {
             "line": {
              "color": "#E5ECF6",
              "width": 0.5
             },
             "pattern": {
              "fillmode": "overlay",
              "size": 10,
              "solidity": 0.2
             }
            },
            "type": "bar"
           }
          ],
          "barpolar": [
           {
            "marker": {
             "line": {
              "color": "#E5ECF6",
              "width": 0.5
             },
             "pattern": {
              "fillmode": "overlay",
              "size": 10,
              "solidity": 0.2
             }
            },
            "type": "barpolar"
           }
          ],
          "carpet": [
           {
            "aaxis": {
             "endlinecolor": "#2a3f5f",
             "gridcolor": "white",
             "linecolor": "white",
             "minorgridcolor": "white",
             "startlinecolor": "#2a3f5f"
            },
            "baxis": {
             "endlinecolor": "#2a3f5f",
             "gridcolor": "white",
             "linecolor": "white",
             "minorgridcolor": "white",
             "startlinecolor": "#2a3f5f"
            },
            "type": "carpet"
           }
          ],
          "choropleth": [
           {
            "colorbar": {
             "outlinewidth": 0,
             "ticks": ""
            },
            "type": "choropleth"
           }
          ],
          "contour": [
           {
            "colorbar": {
             "outlinewidth": 0,
             "ticks": ""
            },
            "colorscale": [
             [
              0,
              "#0d0887"
             ],
             [
              0.1111111111111111,
              "#46039f"
             ],
             [
              0.2222222222222222,
              "#7201a8"
             ],
             [
              0.3333333333333333,
              "#9c179e"
             ],
             [
              0.4444444444444444,
              "#bd3786"
             ],
             [
              0.5555555555555556,
              "#d8576b"
             ],
             [
              0.6666666666666666,
              "#ed7953"
             ],
             [
              0.7777777777777778,
              "#fb9f3a"
             ],
             [
              0.8888888888888888,
              "#fdca26"
             ],
             [
              1,
              "#f0f921"
             ]
            ],
            "type": "contour"
           }
          ],
          "contourcarpet": [
           {
            "colorbar": {
             "outlinewidth": 0,
             "ticks": ""
            },
            "type": "contourcarpet"
           }
          ],
          "heatmap": [
           {
            "colorbar": {
             "outlinewidth": 0,
             "ticks": ""
            },
            "colorscale": [
             [
              0,
              "#0d0887"
             ],
             [
              0.1111111111111111,
              "#46039f"
             ],
             [
              0.2222222222222222,
              "#7201a8"
             ],
             [
              0.3333333333333333,
              "#9c179e"
             ],
             [
              0.4444444444444444,
              "#bd3786"
             ],
             [
              0.5555555555555556,
              "#d8576b"
             ],
             [
              0.6666666666666666,
              "#ed7953"
             ],
             [
              0.7777777777777778,
              "#fb9f3a"
             ],
             [
              0.8888888888888888,
              "#fdca26"
             ],
             [
              1,
              "#f0f921"
             ]
            ],
            "type": "heatmap"
           }
          ],
          "heatmapgl": [
           {
            "colorbar": {
             "outlinewidth": 0,
             "ticks": ""
            },
            "colorscale": [
             [
              0,
              "#0d0887"
             ],
             [
              0.1111111111111111,
              "#46039f"
             ],
             [
              0.2222222222222222,
              "#7201a8"
             ],
             [
              0.3333333333333333,
              "#9c179e"
             ],
             [
              0.4444444444444444,
              "#bd3786"
             ],
             [
              0.5555555555555556,
              "#d8576b"
             ],
             [
              0.6666666666666666,
              "#ed7953"
             ],
             [
              0.7777777777777778,
              "#fb9f3a"
             ],
             [
              0.8888888888888888,
              "#fdca26"
             ],
             [
              1,
              "#f0f921"
             ]
            ],
            "type": "heatmapgl"
           }
          ],
          "histogram": [
           {
            "marker": {
             "pattern": {
              "fillmode": "overlay",
              "size": 10,
              "solidity": 0.2
             }
            },
            "type": "histogram"
           }
          ],
          "histogram2d": [
           {
            "colorbar": {
             "outlinewidth": 0,
             "ticks": ""
            },
            "colorscale": [
             [
              0,
              "#0d0887"
             ],
             [
              0.1111111111111111,
              "#46039f"
             ],
             [
              0.2222222222222222,
              "#7201a8"
             ],
             [
              0.3333333333333333,
              "#9c179e"
             ],
             [
              0.4444444444444444,
              "#bd3786"
             ],
             [
              0.5555555555555556,
              "#d8576b"
             ],
             [
              0.6666666666666666,
              "#ed7953"
             ],
             [
              0.7777777777777778,
              "#fb9f3a"
             ],
             [
              0.8888888888888888,
              "#fdca26"
             ],
             [
              1,
              "#f0f921"
             ]
            ],
            "type": "histogram2d"
           }
          ],
          "histogram2dcontour": [
           {
            "colorbar": {
             "outlinewidth": 0,
             "ticks": ""
            },
            "colorscale": [
             [
              0,
              "#0d0887"
             ],
             [
              0.1111111111111111,
              "#46039f"
             ],
             [
              0.2222222222222222,
              "#7201a8"
             ],
             [
              0.3333333333333333,
              "#9c179e"
             ],
             [
              0.4444444444444444,
              "#bd3786"
             ],
             [
              0.5555555555555556,
              "#d8576b"
             ],
             [
              0.6666666666666666,
              "#ed7953"
             ],
             [
              0.7777777777777778,
              "#fb9f3a"
             ],
             [
              0.8888888888888888,
              "#fdca26"
             ],
             [
              1,
              "#f0f921"
             ]
            ],
            "type": "histogram2dcontour"
           }
          ],
          "mesh3d": [
           {
            "colorbar": {
             "outlinewidth": 0,
             "ticks": ""
            },
            "type": "mesh3d"
           }
          ],
          "parcoords": [
           {
            "line": {
             "colorbar": {
              "outlinewidth": 0,
              "ticks": ""
             }
            },
            "type": "parcoords"
           }
          ],
          "pie": [
           {
            "automargin": true,
            "type": "pie"
           }
          ],
          "scatter": [
           {
            "fillpattern": {
             "fillmode": "overlay",
             "size": 10,
             "solidity": 0.2
            },
            "type": "scatter"
           }
          ],
          "scatter3d": [
           {
            "line": {
             "colorbar": {
              "outlinewidth": 0,
              "ticks": ""
             }
            },
            "marker": {
             "colorbar": {
              "outlinewidth": 0,
              "ticks": ""
             }
            },
            "type": "scatter3d"
           }
          ],
          "scattercarpet": [
           {
            "marker": {
             "colorbar": {
              "outlinewidth": 0,
              "ticks": ""
             }
            },
            "type": "scattercarpet"
           }
          ],
          "scattergeo": [
           {
            "marker": {
             "colorbar": {
              "outlinewidth": 0,
              "ticks": ""
             }
            },
            "type": "scattergeo"
           }
          ],
          "scattergl": [
           {
            "marker": {
             "colorbar": {
              "outlinewidth": 0,
              "ticks": ""
             }
            },
            "type": "scattergl"
           }
          ],
          "scattermapbox": [
           {
            "marker": {
             "colorbar": {
              "outlinewidth": 0,
              "ticks": ""
             }
            },
            "type": "scattermapbox"
           }
          ],
          "scatterpolar": [
           {
            "marker": {
             "colorbar": {
              "outlinewidth": 0,
              "ticks": ""
             }
            },
            "type": "scatterpolar"
           }
          ],
          "scatterpolargl": [
           {
            "marker": {
             "colorbar": {
              "outlinewidth": 0,
              "ticks": ""
             }
            },
            "type": "scatterpolargl"
           }
          ],
          "scatterternary": [
           {
            "marker": {
             "colorbar": {
              "outlinewidth": 0,
              "ticks": ""
             }
            },
            "type": "scatterternary"
           }
          ],
          "surface": [
           {
            "colorbar": {
             "outlinewidth": 0,
             "ticks": ""
            },
            "colorscale": [
             [
              0,
              "#0d0887"
             ],
             [
              0.1111111111111111,
              "#46039f"
             ],
             [
              0.2222222222222222,
              "#7201a8"
             ],
             [
              0.3333333333333333,
              "#9c179e"
             ],
             [
              0.4444444444444444,
              "#bd3786"
             ],
             [
              0.5555555555555556,
              "#d8576b"
             ],
             [
              0.6666666666666666,
              "#ed7953"
             ],
             [
              0.7777777777777778,
              "#fb9f3a"
             ],
             [
              0.8888888888888888,
              "#fdca26"
             ],
             [
              1,
              "#f0f921"
             ]
            ],
            "type": "surface"
           }
          ],
          "table": [
           {
            "cells": {
             "fill": {
              "color": "#EBF0F8"
             },
             "line": {
              "color": "white"
             }
            },
            "header": {
             "fill": {
              "color": "#C8D4E3"
             },
             "line": {
              "color": "white"
             }
            },
            "type": "table"
           }
          ]
         },
         "layout": {
          "annotationdefaults": {
           "arrowcolor": "#2a3f5f",
           "arrowhead": 0,
           "arrowwidth": 1
          },
          "autotypenumbers": "strict",
          "coloraxis": {
           "colorbar": {
            "outlinewidth": 0,
            "ticks": ""
           }
          },
          "colorscale": {
           "diverging": [
            [
             0,
             "#8e0152"
            ],
            [
             0.1,
             "#c51b7d"
            ],
            [
             0.2,
             "#de77ae"
            ],
            [
             0.3,
             "#f1b6da"
            ],
            [
             0.4,
             "#fde0ef"
            ],
            [
             0.5,
             "#f7f7f7"
            ],
            [
             0.6,
             "#e6f5d0"
            ],
            [
             0.7,
             "#b8e186"
            ],
            [
             0.8,
             "#7fbc41"
            ],
            [
             0.9,
             "#4d9221"
            ],
            [
             1,
             "#276419"
            ]
           ],
           "sequential": [
            [
             0,
             "#0d0887"
            ],
            [
             0.1111111111111111,
             "#46039f"
            ],
            [
             0.2222222222222222,
             "#7201a8"
            ],
            [
             0.3333333333333333,
             "#9c179e"
            ],
            [
             0.4444444444444444,
             "#bd3786"
            ],
            [
             0.5555555555555556,
             "#d8576b"
            ],
            [
             0.6666666666666666,
             "#ed7953"
            ],
            [
             0.7777777777777778,
             "#fb9f3a"
            ],
            [
             0.8888888888888888,
             "#fdca26"
            ],
            [
             1,
             "#f0f921"
            ]
           ],
           "sequentialminus": [
            [
             0,
             "#0d0887"
            ],
            [
             0.1111111111111111,
             "#46039f"
            ],
            [
             0.2222222222222222,
             "#7201a8"
            ],
            [
             0.3333333333333333,
             "#9c179e"
            ],
            [
             0.4444444444444444,
             "#bd3786"
            ],
            [
             0.5555555555555556,
             "#d8576b"
            ],
            [
             0.6666666666666666,
             "#ed7953"
            ],
            [
             0.7777777777777778,
             "#fb9f3a"
            ],
            [
             0.8888888888888888,
             "#fdca26"
            ],
            [
             1,
             "#f0f921"
            ]
           ]
          },
          "colorway": [
           "#636efa",
           "#EF553B",
           "#00cc96",
           "#ab63fa",
           "#FFA15A",
           "#19d3f3",
           "#FF6692",
           "#B6E880",
           "#FF97FF",
           "#FECB52"
          ],
          "font": {
           "color": "#2a3f5f"
          },
          "geo": {
           "bgcolor": "white",
           "lakecolor": "white",
           "landcolor": "#E5ECF6",
           "showlakes": true,
           "showland": true,
           "subunitcolor": "white"
          },
          "hoverlabel": {
           "align": "left"
          },
          "hovermode": "closest",
          "mapbox": {
           "style": "light"
          },
          "paper_bgcolor": "white",
          "plot_bgcolor": "#E5ECF6",
          "polar": {
           "angularaxis": {
            "gridcolor": "white",
            "linecolor": "white",
            "ticks": ""
           },
           "bgcolor": "#E5ECF6",
           "radialaxis": {
            "gridcolor": "white",
            "linecolor": "white",
            "ticks": ""
           }
          },
          "scene": {
           "xaxis": {
            "backgroundcolor": "#E5ECF6",
            "gridcolor": "white",
            "gridwidth": 2,
            "linecolor": "white",
            "showbackground": true,
            "ticks": "",
            "zerolinecolor": "white"
           },
           "yaxis": {
            "backgroundcolor": "#E5ECF6",
            "gridcolor": "white",
            "gridwidth": 2,
            "linecolor": "white",
            "showbackground": true,
            "ticks": "",
            "zerolinecolor": "white"
           },
           "zaxis": {
            "backgroundcolor": "#E5ECF6",
            "gridcolor": "white",
            "gridwidth": 2,
            "linecolor": "white",
            "showbackground": true,
            "ticks": "",
            "zerolinecolor": "white"
           }
          },
          "shapedefaults": {
           "line": {
            "color": "#2a3f5f"
           }
          },
          "ternary": {
           "aaxis": {
            "gridcolor": "white",
            "linecolor": "white",
            "ticks": ""
           },
           "baxis": {
            "gridcolor": "white",
            "linecolor": "white",
            "ticks": ""
           },
           "bgcolor": "#E5ECF6",
           "caxis": {
            "gridcolor": "white",
            "linecolor": "white",
            "ticks": ""
           }
          },
          "title": {
           "x": 0.05
          },
          "xaxis": {
           "automargin": true,
           "gridcolor": "white",
           "linecolor": "white",
           "ticks": "",
           "title": {
            "standoff": 15
           },
           "zerolinecolor": "white",
           "zerolinewidth": 2
          },
          "yaxis": {
           "automargin": true,
           "gridcolor": "white",
           "linecolor": "white",
           "ticks": "",
           "title": {
            "standoff": 15
           },
           "zerolinecolor": "white",
           "zerolinewidth": 2
          }
         }
        },
        "xaxis": {
         "anchor": "y",
         "domain": [
          0,
          0.94
         ]
        },
        "xaxis2": {
         "anchor": "y",
         "overlaying": "x",
         "side": "top"
        },
        "yaxis": {
         "anchor": "x",
         "domain": [
          0,
          0.94
         ]
        },
        "yaxis2": {
         "anchor": "x",
         "overlaying": "y",
         "side": "right"
        }
       }
      },
      "text/html": [
       "<div>                            <div id=\"6e21abc1-d2f6-4cb3-ad61-d5df20507d19\" class=\"plotly-graph-div\" style=\"height:525px; width:100%;\"></div>            <script type=\"text/javascript\">                require([\"plotly\"], function(Plotly) {                    window.PLOTLYENV=window.PLOTLYENV || {};                                    if (document.getElementById(\"6e21abc1-d2f6-4cb3-ad61-d5df20507d19\")) {                    Plotly.newPlot(                        \"6e21abc1-d2f6-4cb3-ad61-d5df20507d19\",                        [{\"name\":\"20D Moving Avg.\",\"x\":[\"2021-03-01T00:00:00+00:00\",\"2021-03-02T00:00:00+00:00\",\"2021-03-03T00:00:00+00:00\",\"2021-03-04T00:00:00+00:00\",\"2021-03-05T00:00:00+00:00\",\"2021-03-06T00:00:00+00:00\",\"2021-03-07T00:00:00+00:00\",\"2021-03-08T00:00:00+00:00\",\"2021-03-09T00:00:00+00:00\",\"2021-03-10T00:00:00+00:00\",\"2021-03-11T00:00:00+00:00\",\"2021-03-12T00:00:00+00:00\",\"2021-03-13T00:00:00+00:00\",\"2021-03-14T00:00:00+00:00\",\"2021-03-15T00:00:00+00:00\",\"2021-03-16T00:00:00+00:00\",\"2021-03-17T00:00:00+00:00\",\"2021-03-18T00:00:00+00:00\",\"2021-03-19T00:00:00+00:00\",\"2021-03-20T00:00:00+00:00\",\"2021-03-21T00:00:00+00:00\",\"2021-03-22T00:00:00+00:00\",\"2021-03-23T00:00:00+00:00\",\"2021-03-24T00:00:00+00:00\",\"2021-03-25T00:00:00+00:00\",\"2021-03-26T00:00:00+00:00\",\"2021-03-27T00:00:00+00:00\",\"2021-03-28T00:00:00+00:00\",\"2021-03-29T00:00:00+00:00\",\"2021-03-30T00:00:00+00:00\",\"2021-03-31T00:00:00+00:00\",\"2021-04-01T00:00:00+00:00\",\"2021-04-02T00:00:00+00:00\",\"2021-04-03T00:00:00+00:00\",\"2021-04-04T00:00:00+00:00\",\"2021-04-05T00:00:00+00:00\",\"2021-04-06T00:00:00+00:00\",\"2021-04-07T00:00:00+00:00\",\"2021-04-08T00:00:00+00:00\",\"2021-04-09T00:00:00+00:00\",\"2021-04-10T00:00:00+00:00\",\"2021-04-11T00:00:00+00:00\",\"2021-04-12T00:00:00+00:00\",\"2021-04-13T00:00:00+00:00\",\"2021-04-14T00:00:00+00:00\",\"2021-04-15T00:00:00+00:00\",\"2021-04-16T00:00:00+00:00\",\"2021-04-17T00:00:00+00:00\",\"2021-04-18T00:00:00+00:00\",\"2021-04-19T00:00:00+00:00\",\"2021-04-20T00:00:00+00:00\",\"2021-04-21T00:00:00+00:00\",\"2021-04-22T00:00:00+00:00\",\"2021-04-23T00:00:00+00:00\",\"2021-04-24T00:00:00+00:00\",\"2021-04-25T00:00:00+00:00\",\"2021-04-26T00:00:00+00:00\",\"2021-04-27T00:00:00+00:00\",\"2021-04-28T00:00:00+00:00\",\"2021-04-29T00:00:00+00:00\",\"2021-04-30T00:00:00+00:00\",\"2021-05-01T00:00:00+00:00\",\"2021-05-02T00:00:00+00:00\",\"2021-05-03T00:00:00+00:00\",\"2021-05-04T00:00:00+00:00\",\"2021-05-05T00:00:00+00:00\",\"2021-05-06T00:00:00+00:00\",\"2021-05-07T00:00:00+00:00\",\"2021-05-08T00:00:00+00:00\",\"2021-05-09T00:00:00+00:00\",\"2021-05-10T00:00:00+00:00\",\"2021-05-11T00:00:00+00:00\",\"2021-05-12T00:00:00+00:00\",\"2021-05-13T00:00:00+00:00\",\"2021-05-14T00:00:00+00:00\",\"2021-05-15T00:00:00+00:00\",\"2021-05-16T00:00:00+00:00\",\"2021-05-17T00:00:00+00:00\",\"2021-05-18T00:00:00+00:00\",\"2021-05-19T00:00:00+00:00\",\"2021-05-20T00:00:00+00:00\",\"2021-05-21T00:00:00+00:00\",\"2021-05-22T00:00:00+00:00\",\"2021-05-23T00:00:00+00:00\",\"2021-05-24T00:00:00+00:00\",\"2021-05-25T00:00:00+00:00\",\"2021-05-26T00:00:00+00:00\",\"2021-05-27T00:00:00+00:00\",\"2021-05-28T00:00:00+00:00\",\"2021-05-29T00:00:00+00:00\",\"2021-05-30T00:00:00+00:00\",\"2021-05-31T00:00:00+00:00\",\"2021-06-01T00:00:00+00:00\",\"2021-06-02T00:00:00+00:00\",\"2021-06-03T00:00:00+00:00\",\"2021-06-04T00:00:00+00:00\",\"2021-06-05T00:00:00+00:00\",\"2021-06-06T00:00:00+00:00\",\"2021-06-07T00:00:00+00:00\",\"2021-06-08T00:00:00+00:00\",\"2021-06-09T00:00:00+00:00\",\"2021-06-10T00:00:00+00:00\",\"2021-06-11T00:00:00+00:00\",\"2021-06-12T00:00:00+00:00\",\"2021-06-13T00:00:00+00:00\",\"2021-06-14T00:00:00+00:00\",\"2021-06-15T00:00:00+00:00\",\"2021-06-16T00:00:00+00:00\",\"2021-06-17T00:00:00+00:00\",\"2021-06-18T00:00:00+00:00\",\"2021-06-19T00:00:00+00:00\",\"2021-06-20T00:00:00+00:00\",\"2021-06-21T00:00:00+00:00\",\"2021-06-22T00:00:00+00:00\",\"2021-06-23T00:00:00+00:00\",\"2021-06-24T00:00:00+00:00\",\"2021-06-25T00:00:00+00:00\",\"2021-06-26T00:00:00+00:00\",\"2021-06-27T00:00:00+00:00\",\"2021-06-28T00:00:00+00:00\",\"2021-06-29T00:00:00+00:00\",\"2021-06-30T00:00:00+00:00\",\"2021-07-01T00:00:00+00:00\",\"2021-07-02T00:00:00+00:00\",\"2021-07-03T00:00:00+00:00\",\"2021-07-04T00:00:00+00:00\",\"2021-07-05T00:00:00+00:00\",\"2021-07-06T00:00:00+00:00\",\"2021-07-07T00:00:00+00:00\",\"2021-07-08T00:00:00+00:00\",\"2021-07-09T00:00:00+00:00\",\"2021-07-10T00:00:00+00:00\",\"2021-07-11T00:00:00+00:00\",\"2021-07-12T00:00:00+00:00\",\"2021-07-13T00:00:00+00:00\",\"2021-07-14T00:00:00+00:00\",\"2021-07-15T00:00:00+00:00\",\"2021-07-16T00:00:00+00:00\",\"2021-07-17T00:00:00+00:00\",\"2021-07-18T00:00:00+00:00\",\"2021-07-19T00:00:00+00:00\",\"2021-07-20T00:00:00+00:00\",\"2021-07-21T00:00:00+00:00\",\"2021-07-22T00:00:00+00:00\",\"2021-07-23T00:00:00+00:00\",\"2021-07-24T00:00:00+00:00\",\"2021-07-25T00:00:00+00:00\",\"2021-07-26T00:00:00+00:00\",\"2021-07-27T00:00:00+00:00\",\"2021-07-28T00:00:00+00:00\",\"2021-07-29T00:00:00+00:00\",\"2021-07-30T00:00:00+00:00\",\"2021-07-31T00:00:00+00:00\",\"2021-08-01T00:00:00+00:00\",\"2021-08-02T00:00:00+00:00\",\"2021-08-03T00:00:00+00:00\",\"2021-08-04T00:00:00+00:00\",\"2021-08-05T00:00:00+00:00\",\"2021-08-06T00:00:00+00:00\",\"2021-08-07T00:00:00+00:00\",\"2021-08-08T00:00:00+00:00\",\"2021-08-09T00:00:00+00:00\",\"2021-08-10T00:00:00+00:00\",\"2021-08-11T00:00:00+00:00\",\"2021-08-12T00:00:00+00:00\",\"2021-08-13T00:00:00+00:00\",\"2021-08-14T00:00:00+00:00\",\"2021-08-15T00:00:00+00:00\",\"2021-08-16T00:00:00+00:00\",\"2021-08-17T00:00:00+00:00\",\"2021-08-18T00:00:00+00:00\",\"2021-08-19T00:00:00+00:00\",\"2021-08-20T00:00:00+00:00\",\"2021-08-21T00:00:00+00:00\",\"2021-08-22T00:00:00+00:00\",\"2021-08-23T00:00:00+00:00\",\"2021-08-24T00:00:00+00:00\",\"2021-08-25T00:00:00+00:00\",\"2021-08-26T00:00:00+00:00\",\"2021-08-27T00:00:00+00:00\",\"2021-08-28T00:00:00+00:00\",\"2021-08-29T00:00:00+00:00\",\"2021-08-30T00:00:00+00:00\",\"2021-08-31T00:00:00+00:00\",\"2021-09-01T00:00:00+00:00\",\"2021-09-02T00:00:00+00:00\",\"2021-09-03T00:00:00+00:00\",\"2021-09-04T00:00:00+00:00\",\"2021-09-05T00:00:00+00:00\",\"2021-09-06T00:00:00+00:00\",\"2021-09-07T00:00:00+00:00\",\"2021-09-08T00:00:00+00:00\",\"2021-09-09T00:00:00+00:00\",\"2021-09-10T00:00:00+00:00\",\"2021-09-11T00:00:00+00:00\",\"2021-09-12T00:00:00+00:00\",\"2021-09-13T00:00:00+00:00\",\"2021-09-14T00:00:00+00:00\",\"2021-09-15T00:00:00+00:00\",\"2021-09-16T00:00:00+00:00\",\"2021-09-17T00:00:00+00:00\",\"2021-09-18T00:00:00+00:00\",\"2021-09-19T00:00:00+00:00\",\"2021-09-20T00:00:00+00:00\",\"2021-09-21T00:00:00+00:00\",\"2021-09-22T00:00:00+00:00\",\"2021-09-23T00:00:00+00:00\",\"2021-09-24T00:00:00+00:00\",\"2021-09-25T00:00:00+00:00\",\"2021-09-26T00:00:00+00:00\",\"2021-09-27T00:00:00+00:00\",\"2021-09-28T00:00:00+00:00\",\"2021-09-29T00:00:00+00:00\",\"2021-09-30T00:00:00+00:00\",\"2021-10-01T00:00:00+00:00\",\"2021-10-02T00:00:00+00:00\",\"2021-10-03T00:00:00+00:00\",\"2021-10-04T00:00:00+00:00\",\"2021-10-05T00:00:00+00:00\",\"2021-10-06T00:00:00+00:00\",\"2021-10-07T00:00:00+00:00\",\"2021-10-08T00:00:00+00:00\",\"2021-10-09T00:00:00+00:00\",\"2021-10-10T00:00:00+00:00\",\"2021-10-11T00:00:00+00:00\",\"2021-10-12T00:00:00+00:00\",\"2021-10-13T00:00:00+00:00\",\"2021-10-14T00:00:00+00:00\"],\"y\":[null,null,null,null,null,null,null,null,null,null,null,null,null,null,null,null,null,null,null,1740.0490844726562,1751.2245544433595,1761.1608154296875,1766.3006652832032,1768.8756225585937,1771.979833984375,1774.3848571777344,1774.0518981933594,1766.88330078125,1764.465106201172,1766.8084777832032,1771.4168334960937,1781.675555419922,1792.6025634765624,1801.2954711914062,1816.3664978027343,1831.4122680664063,1846.1587463378905,1855.5698547363281,1869.117333984375,1882.091046142578,1899.4773010253907,1922.7934509277343,1945.8286071777343,1981.1173217773437,2023.1046081542968,2063.918316650391,2099.6909118652343,2132.3678649902345,2153.2404663085936,2169.2482177734373,2189.8406616210937,2209.214404296875,2222.2298828125,2238.988067626953,2244.913214111328,2255.3218322753905,2276.1269714355467,2310.7163696289062,2343.606689453125,2377.8450927734375,2409.7083374023437,2449.1201293945314,2489.7552734375,2546.3501953125,2587.276416015625,2637.459765625,2690.406457519531,2747.398156738281,2830.673693847656,2918.806494140625,2999.91064453125,3090.108117675781,3159.2237915039063,3226.801904296875,3320.173486328125,3386.276611328125,3438.92783203125,3469.9044555664063,3501.5889526367187,3486.7790649414064,3487.3334228515623,3461.5698486328124,3428.7523193359375,3362.677001953125,3332.175085449219,3291.3673706054688,3261.2582885742186,3223.8462646484377,3149.709191894531,3067.2426635742186,2989.1432373046873,2916.4554443359375,2858.8389282226562,2808.3877563476562,2747.1912109375,2699.694860839844,2651.8484008789064,2623.483154296875,2583.992810058594,2586.8307861328126,2578.029431152344,2580.0742919921877,2582.9774536132813,2596.1226806640625,2589.3627075195313,2580.925817871094,2567.0377197265625,2548.596472167969,2546.2012573242187,2543.81220703125,2533.221887207031,2509.7928466796875,2472.539306640625,2430.9805603027344,2387.711053466797,2352.7241149902343,2311.856134033203,2267.5634582519533,2236.9950317382813,2215.1059692382814,2192.7310302734377,2182.8824829101563,2170.87431640625,2159.7521118164063,2145.6382446289062,2134.8298950195312,2114.2121826171874,2112.0629760742186,2109.2209716796874,2103.635632324219,2102.045300292969,2095.297253417969,2107.858117675781,2115.946667480469,2113.4640502929688,2113.7578002929686,2118.6557189941404,2121.2129028320314,2117.2094299316404,2108.0041625976564,2090.8305786132814,2066.4787353515626,2060.347003173828,2054.105126953125,2049.0382446289063,2042.4129760742187,2042.0525390625,2037.4869018554687,2036.6454833984376,2045.471435546875,2057.1846557617187,2074.962548828125,2094.7898071289064,2121.046356201172,2154.5498229980467,2179.9507385253905,2220.62294921875,2267.970245361328,2317.576068115234,2380.660400390625,2440.4822021484374,2509.499475097656,2567.0354919433594,2623.9876098632812,2669.9194946289062,2726.569140625,2780.2726196289063,2834.1294921875,2877.038293457031,2912.9533203125,2944.9099731445312,2980.6970092773436,3018.2332763671875,3051.444873046875,3083.0429809570314,3123.8883666992188,3146.2801879882813,3166.1595092773437,3176.628698730469,3182.2968017578123,3193.8303344726564,3196.7876586914062,3200.9218139648438,3214.39619140625,3253.9668823242187,3277.405798339844,3311.1643676757812,3340.0305786132812,3379.8117797851564,3425.4884521484373,3445.803674316406,3461.534326171875,3468.5545654296875,3467.8256591796876,3469.2337890625,3473.7776489257812,3479.430419921875,3489.6431396484377,3515.391003417969,3530.4257080078123,3538.1324829101563,3548.383264160156,3553.6369506835936,3529.8999877929687,3476.3801391601564,3440.7240356445313,3401.469482421875,3353.6615234375,3302.3331298828125,3259.0274291992187,3234.414660644531,3199.9137329101563,3171.203894042969,3160.712548828125,3162.5744506835936,3161.65244140625,3168.294787597656,3165.8407592773438,3161.002551269531,3161.4659057617187,3170.937707519531,3177.524755859375,3189.8381958007812,3213.1811645507814,3252.2273071289064,3272.9625732421873,3295.496472167969,3338.213720703125],\"type\":\"scatter\",\"xaxis\":\"x\",\"yaxis\":\"y\"},{\"name\":\"RTX 3080 Price (Bi-Weekly)\",\"x\":[\"Mar 20 \\u2013 Mar 30, 2021\",\"Mar 31 \\u2013 Apr 13, 2021\",\"Apr 13\\u201327, 2021\",\"Apr 28\\u2013May 12, 2021\",\"June 1\\u201315, 2021\",\"June 24\\u2013July 8, 2021\",\"July 8\\u2013July 22, 2021\",\"July 26\\u2013August 9, 2021\",\"August 10\\u201324, 2021\",\"August 25\\u2013September 8, 2021\",\"September 9\\u201323, 2021\",\"October 1\\u201315, 2021\"],\"y\":[\"2177\",\"2246\",\"2199\",\"2235\",\"1978\",\"1685\",\"1636\",\"1583\",\"1708\",\"1666\",\"1672\",\"1637\"],\"type\":\"scatter\",\"xaxis\":\"x2\",\"yaxis\":\"y2\"}],                        {\"template\":{\"data\":{\"histogram2dcontour\":[{\"type\":\"histogram2dcontour\",\"colorbar\":{\"outlinewidth\":0,\"ticks\":\"\"},\"colorscale\":[[0.0,\"#0d0887\"],[0.1111111111111111,\"#46039f\"],[0.2222222222222222,\"#7201a8\"],[0.3333333333333333,\"#9c179e\"],[0.4444444444444444,\"#bd3786\"],[0.5555555555555556,\"#d8576b\"],[0.6666666666666666,\"#ed7953\"],[0.7777777777777778,\"#fb9f3a\"],[0.8888888888888888,\"#fdca26\"],[1.0,\"#f0f921\"]]}],\"choropleth\":[{\"type\":\"choropleth\",\"colorbar\":{\"outlinewidth\":0,\"ticks\":\"\"}}],\"histogram2d\":[{\"type\":\"histogram2d\",\"colorbar\":{\"outlinewidth\":0,\"ticks\":\"\"},\"colorscale\":[[0.0,\"#0d0887\"],[0.1111111111111111,\"#46039f\"],[0.2222222222222222,\"#7201a8\"],[0.3333333333333333,\"#9c179e\"],[0.4444444444444444,\"#bd3786\"],[0.5555555555555556,\"#d8576b\"],[0.6666666666666666,\"#ed7953\"],[0.7777777777777778,\"#fb9f3a\"],[0.8888888888888888,\"#fdca26\"],[1.0,\"#f0f921\"]]}],\"heatmap\":[{\"type\":\"heatmap\",\"colorbar\":{\"outlinewidth\":0,\"ticks\":\"\"},\"colorscale\":[[0.0,\"#0d0887\"],[0.1111111111111111,\"#46039f\"],[0.2222222222222222,\"#7201a8\"],[0.3333333333333333,\"#9c179e\"],[0.4444444444444444,\"#bd3786\"],[0.5555555555555556,\"#d8576b\"],[0.6666666666666666,\"#ed7953\"],[0.7777777777777778,\"#fb9f3a\"],[0.8888888888888888,\"#fdca26\"],[1.0,\"#f0f921\"]]}],\"heatmapgl\":[{\"type\":\"heatmapgl\",\"colorbar\":{\"outlinewidth\":0,\"ticks\":\"\"},\"colorscale\":[[0.0,\"#0d0887\"],[0.1111111111111111,\"#46039f\"],[0.2222222222222222,\"#7201a8\"],[0.3333333333333333,\"#9c179e\"],[0.4444444444444444,\"#bd3786\"],[0.5555555555555556,\"#d8576b\"],[0.6666666666666666,\"#ed7953\"],[0.7777777777777778,\"#fb9f3a\"],[0.8888888888888888,\"#fdca26\"],[1.0,\"#f0f921\"]]}],\"contourcarpet\":[{\"type\":\"contourcarpet\",\"colorbar\":{\"outlinewidth\":0,\"ticks\":\"\"}}],\"contour\":[{\"type\":\"contour\",\"colorbar\":{\"outlinewidth\":0,\"ticks\":\"\"},\"colorscale\":[[0.0,\"#0d0887\"],[0.1111111111111111,\"#46039f\"],[0.2222222222222222,\"#7201a8\"],[0.3333333333333333,\"#9c179e\"],[0.4444444444444444,\"#bd3786\"],[0.5555555555555556,\"#d8576b\"],[0.6666666666666666,\"#ed7953\"],[0.7777777777777778,\"#fb9f3a\"],[0.8888888888888888,\"#fdca26\"],[1.0,\"#f0f921\"]]}],\"surface\":[{\"type\":\"surface\",\"colorbar\":{\"outlinewidth\":0,\"ticks\":\"\"},\"colorscale\":[[0.0,\"#0d0887\"],[0.1111111111111111,\"#46039f\"],[0.2222222222222222,\"#7201a8\"],[0.3333333333333333,\"#9c179e\"],[0.4444444444444444,\"#bd3786\"],[0.5555555555555556,\"#d8576b\"],[0.6666666666666666,\"#ed7953\"],[0.7777777777777778,\"#fb9f3a\"],[0.8888888888888888,\"#fdca26\"],[1.0,\"#f0f921\"]]}],\"mesh3d\":[{\"type\":\"mesh3d\",\"colorbar\":{\"outlinewidth\":0,\"ticks\":\"\"}}],\"scatter\":[{\"fillpattern\":{\"fillmode\":\"overlay\",\"size\":10,\"solidity\":0.2},\"type\":\"scatter\"}],\"parcoords\":[{\"type\":\"parcoords\",\"line\":{\"colorbar\":{\"outlinewidth\":0,\"ticks\":\"\"}}}],\"scatterpolargl\":[{\"type\":\"scatterpolargl\",\"marker\":{\"colorbar\":{\"outlinewidth\":0,\"ticks\":\"\"}}}],\"bar\":[{\"error_x\":{\"color\":\"#2a3f5f\"},\"error_y\":{\"color\":\"#2a3f5f\"},\"marker\":{\"line\":{\"color\":\"#E5ECF6\",\"width\":0.5},\"pattern\":{\"fillmode\":\"overlay\",\"size\":10,\"solidity\":0.2}},\"type\":\"bar\"}],\"scattergeo\":[{\"type\":\"scattergeo\",\"marker\":{\"colorbar\":{\"outlinewidth\":0,\"ticks\":\"\"}}}],\"scatterpolar\":[{\"type\":\"scatterpolar\",\"marker\":{\"colorbar\":{\"outlinewidth\":0,\"ticks\":\"\"}}}],\"histogram\":[{\"marker\":{\"pattern\":{\"fillmode\":\"overlay\",\"size\":10,\"solidity\":0.2}},\"type\":\"histogram\"}],\"scattergl\":[{\"type\":\"scattergl\",\"marker\":{\"colorbar\":{\"outlinewidth\":0,\"ticks\":\"\"}}}],\"scatter3d\":[{\"type\":\"scatter3d\",\"line\":{\"colorbar\":{\"outlinewidth\":0,\"ticks\":\"\"}},\"marker\":{\"colorbar\":{\"outlinewidth\":0,\"ticks\":\"\"}}}],\"scattermapbox\":[{\"type\":\"scattermapbox\",\"marker\":{\"colorbar\":{\"outlinewidth\":0,\"ticks\":\"\"}}}],\"scatterternary\":[{\"type\":\"scatterternary\",\"marker\":{\"colorbar\":{\"outlinewidth\":0,\"ticks\":\"\"}}}],\"scattercarpet\":[{\"type\":\"scattercarpet\",\"marker\":{\"colorbar\":{\"outlinewidth\":0,\"ticks\":\"\"}}}],\"carpet\":[{\"aaxis\":{\"endlinecolor\":\"#2a3f5f\",\"gridcolor\":\"white\",\"linecolor\":\"white\",\"minorgridcolor\":\"white\",\"startlinecolor\":\"#2a3f5f\"},\"baxis\":{\"endlinecolor\":\"#2a3f5f\",\"gridcolor\":\"white\",\"linecolor\":\"white\",\"minorgridcolor\":\"white\",\"startlinecolor\":\"#2a3f5f\"},\"type\":\"carpet\"}],\"table\":[{\"cells\":{\"fill\":{\"color\":\"#EBF0F8\"},\"line\":{\"color\":\"white\"}},\"header\":{\"fill\":{\"color\":\"#C8D4E3\"},\"line\":{\"color\":\"white\"}},\"type\":\"table\"}],\"barpolar\":[{\"marker\":{\"line\":{\"color\":\"#E5ECF6\",\"width\":0.5},\"pattern\":{\"fillmode\":\"overlay\",\"size\":10,\"solidity\":0.2}},\"type\":\"barpolar\"}],\"pie\":[{\"automargin\":true,\"type\":\"pie\"}]},\"layout\":{\"autotypenumbers\":\"strict\",\"colorway\":[\"#636efa\",\"#EF553B\",\"#00cc96\",\"#ab63fa\",\"#FFA15A\",\"#19d3f3\",\"#FF6692\",\"#B6E880\",\"#FF97FF\",\"#FECB52\"],\"font\":{\"color\":\"#2a3f5f\"},\"hovermode\":\"closest\",\"hoverlabel\":{\"align\":\"left\"},\"paper_bgcolor\":\"white\",\"plot_bgcolor\":\"#E5ECF6\",\"polar\":{\"bgcolor\":\"#E5ECF6\",\"angularaxis\":{\"gridcolor\":\"white\",\"linecolor\":\"white\",\"ticks\":\"\"},\"radialaxis\":{\"gridcolor\":\"white\",\"linecolor\":\"white\",\"ticks\":\"\"}},\"ternary\":{\"bgcolor\":\"#E5ECF6\",\"aaxis\":{\"gridcolor\":\"white\",\"linecolor\":\"white\",\"ticks\":\"\"},\"baxis\":{\"gridcolor\":\"white\",\"linecolor\":\"white\",\"ticks\":\"\"},\"caxis\":{\"gridcolor\":\"white\",\"linecolor\":\"white\",\"ticks\":\"\"}},\"coloraxis\":{\"colorbar\":{\"outlinewidth\":0,\"ticks\":\"\"}},\"colorscale\":{\"sequential\":[[0.0,\"#0d0887\"],[0.1111111111111111,\"#46039f\"],[0.2222222222222222,\"#7201a8\"],[0.3333333333333333,\"#9c179e\"],[0.4444444444444444,\"#bd3786\"],[0.5555555555555556,\"#d8576b\"],[0.6666666666666666,\"#ed7953\"],[0.7777777777777778,\"#fb9f3a\"],[0.8888888888888888,\"#fdca26\"],[1.0,\"#f0f921\"]],\"sequentialminus\":[[0.0,\"#0d0887\"],[0.1111111111111111,\"#46039f\"],[0.2222222222222222,\"#7201a8\"],[0.3333333333333333,\"#9c179e\"],[0.4444444444444444,\"#bd3786\"],[0.5555555555555556,\"#d8576b\"],[0.6666666666666666,\"#ed7953\"],[0.7777777777777778,\"#fb9f3a\"],[0.8888888888888888,\"#fdca26\"],[1.0,\"#f0f921\"]],\"diverging\":[[0,\"#8e0152\"],[0.1,\"#c51b7d\"],[0.2,\"#de77ae\"],[0.3,\"#f1b6da\"],[0.4,\"#fde0ef\"],[0.5,\"#f7f7f7\"],[0.6,\"#e6f5d0\"],[0.7,\"#b8e186\"],[0.8,\"#7fbc41\"],[0.9,\"#4d9221\"],[1,\"#276419\"]]},\"xaxis\":{\"gridcolor\":\"white\",\"linecolor\":\"white\",\"ticks\":\"\",\"title\":{\"standoff\":15},\"zerolinecolor\":\"white\",\"automargin\":true,\"zerolinewidth\":2},\"yaxis\":{\"gridcolor\":\"white\",\"linecolor\":\"white\",\"ticks\":\"\",\"title\":{\"standoff\":15},\"zerolinecolor\":\"white\",\"automargin\":true,\"zerolinewidth\":2},\"scene\":{\"xaxis\":{\"backgroundcolor\":\"#E5ECF6\",\"gridcolor\":\"white\",\"linecolor\":\"white\",\"showbackground\":true,\"ticks\":\"\",\"zerolinecolor\":\"white\",\"gridwidth\":2},\"yaxis\":{\"backgroundcolor\":\"#E5ECF6\",\"gridcolor\":\"white\",\"linecolor\":\"white\",\"showbackground\":true,\"ticks\":\"\",\"zerolinecolor\":\"white\",\"gridwidth\":2},\"zaxis\":{\"backgroundcolor\":\"#E5ECF6\",\"gridcolor\":\"white\",\"linecolor\":\"white\",\"showbackground\":true,\"ticks\":\"\",\"zerolinecolor\":\"white\",\"gridwidth\":2}},\"shapedefaults\":{\"line\":{\"color\":\"#2a3f5f\"}},\"annotationdefaults\":{\"arrowcolor\":\"#2a3f5f\",\"arrowhead\":0,\"arrowwidth\":1},\"geo\":{\"bgcolor\":\"white\",\"landcolor\":\"#E5ECF6\",\"subunitcolor\":\"white\",\"showland\":true,\"showlakes\":true,\"lakecolor\":\"white\"},\"title\":{\"x\":0.05},\"mapbox\":{\"style\":\"light\"}}},\"xaxis\":{\"anchor\":\"y\",\"domain\":[0.0,0.94]},\"yaxis\":{\"anchor\":\"x\",\"domain\":[0,0.94]},\"yaxis2\":{\"anchor\":\"x\",\"overlaying\":\"y\",\"side\":\"right\"},\"xaxis2\":{\"anchor\":\"y\",\"overlaying\":\"x\",\"side\":\"top\"},\"autotypenumbers\":\"convert types\"},                        {\"responsive\": true}                    ).then(function(){\n",
       "                            \n",
       "var gd = document.getElementById('6e21abc1-d2f6-4cb3-ad61-d5df20507d19');\n",
       "var x = new MutationObserver(function (mutations, observer) {{\n",
       "        var display = window.getComputedStyle(gd).display;\n",
       "        if (!display || display === 'none') {{\n",
       "            console.log([gd, 'removed!']);\n",
       "            Plotly.purge(gd);\n",
       "            observer.disconnect();\n",
       "        }}\n",
       "}});\n",
       "\n",
       "// Listen for the removal of the full notebook cells\n",
       "var notebookContainer = gd.closest('#notebook-container');\n",
       "if (notebookContainer) {{\n",
       "    x.observe(notebookContainer, {childList: true});\n",
       "}}\n",
       "\n",
       "// Listen for the clearing of the current output cell\n",
       "var outputEl = gd.closest('.output');\n",
       "if (outputEl) {{\n",
       "    x.observe(outputEl, {childList: true});\n",
       "}}\n",
       "\n",
       "                        })                };                });            </script>        </div>"
      ]
     },
     "metadata": {},
     "output_type": "display_data"
    }
   ],
   "source": [
    "# fetch pricing history 20 days before to collate the same start day of the pricing index of the RTX 3080\n",
    "hist = ETH.history(start=\"2021-03-01\", end=\"2021-10-15\")\n",
    "\n",
    "# Compare MA of ETH to GPU Pricing\n",
    "comp_chart = make_subplots(specs=[[{\"secondary_y\":True}]])\n",
    "\n",
    "comp_chart.update_layout(xaxis2= {'anchor': 'y', 'overlaying': 'x', 'side': 'top'},\n",
    "                  yaxis_domain=[0, 0.94]);\n",
    "\n",
    "comp_chart.add_trace(\n",
    "    go.Scatter(\n",
    "    x=hist.index,\n",
    "    y = hist['Close'].rolling(20).mean(),\n",
    "    name = \"20D Moving Avg.\"),\n",
    "    secondary_y = False,\n",
    ")\n",
    "\n",
    "# Add subplot of the Bi-weekly price of the RTX 3080\n",
    "comp_chart.add_trace(\n",
    "    go.Scatter(\n",
    "    x = x1_val,\n",
    "    y = y1_val,\n",
    "    name = \"RTX 3080 Price (Bi-Weekly)\"),\n",
    "    secondary_y = True,\n",
    ")\n",
    "\n",
    "\n",
    "comp_chart.update_layout(\n",
    "    autotypenumbers = 'convert types'\n",
    ")\n",
    "\n",
    "\n",
    "comp_chart.data[1].update(xaxis='x2')\n",
    "comp_chart.show()"
   ]
  },
  {
   "cell_type": "markdown",
   "id": "eec4cca6",
   "metadata": {},
   "source": [
    "### Initial observations between ETH and GPU Pricing"
   ]
  },
  {
   "cell_type": "markdown",
   "id": "92b30e7a",
   "metadata": {},
   "source": [
    "As can be seen from the subplots above, we can see that there was some correlation between the price of ETH on the market its effect on the pricing of the RTX 3080. Unfortunately, I was unable to pull earlier GPU pricing to see the full extent of this effect.\n",
    "\n",
    "But, what I can observe, the period between May to July 2021 was when ETH saw a huge drop in its value, this has a domino effect on the price of the RTX 3080, causing it to drop in price as well from __\\\\$2235 USD to \\\\$1685 USD__ during this period.\n",
    "\n",
    "Another observation that can be made was the price of the RTX 3080 was at its lowest during this period during the same time ETH saw a dip in the month of July 2021. Both prices only rebounded during August 2021 and saw the price of the RTX 3080 staying in the __\\\\$1600 - \\\\$1700 USD__ range, still about __$1000 USD above__ its MSRP.\n",
    "\n",
    "Taking a look into the period between Sept 2021 - November 2022,"
   ]
  },
  {
   "cell_type": "code",
   "execution_count": 32,
   "id": "ce29fce5",
   "metadata": {},
   "outputs": [
    {
     "data": {
      "application/vnd.plotly.v1+json": {
       "config": {
        "plotlyServerURL": "https://plot.ly"
       },
       "data": [
        {
         "name": "20D Moving Avg.",
         "type": "scatter",
         "x": [
          "2021-09-01T00:00:00+00:00",
          "2021-09-02T00:00:00+00:00",
          "2021-09-03T00:00:00+00:00",
          "2021-09-04T00:00:00+00:00",
          "2021-09-05T00:00:00+00:00",
          "2021-09-06T00:00:00+00:00",
          "2021-09-07T00:00:00+00:00",
          "2021-09-08T00:00:00+00:00",
          "2021-09-09T00:00:00+00:00",
          "2021-09-10T00:00:00+00:00",
          "2021-09-11T00:00:00+00:00",
          "2021-09-12T00:00:00+00:00",
          "2021-09-13T00:00:00+00:00",
          "2021-09-14T00:00:00+00:00",
          "2021-09-15T00:00:00+00:00",
          "2021-09-16T00:00:00+00:00",
          "2021-09-17T00:00:00+00:00",
          "2021-09-18T00:00:00+00:00",
          "2021-09-19T00:00:00+00:00",
          "2021-09-20T00:00:00+00:00",
          "2021-09-21T00:00:00+00:00",
          "2021-09-22T00:00:00+00:00",
          "2021-09-23T00:00:00+00:00",
          "2021-09-24T00:00:00+00:00",
          "2021-09-25T00:00:00+00:00",
          "2021-09-26T00:00:00+00:00",
          "2021-09-27T00:00:00+00:00",
          "2021-09-28T00:00:00+00:00",
          "2021-09-29T00:00:00+00:00",
          "2021-09-30T00:00:00+00:00",
          "2021-10-01T00:00:00+00:00",
          "2021-10-02T00:00:00+00:00",
          "2021-10-03T00:00:00+00:00",
          "2021-10-04T00:00:00+00:00",
          "2021-10-05T00:00:00+00:00",
          "2021-10-06T00:00:00+00:00",
          "2021-10-07T00:00:00+00:00",
          "2021-10-08T00:00:00+00:00",
          "2021-10-09T00:00:00+00:00",
          "2021-10-10T00:00:00+00:00",
          "2021-10-11T00:00:00+00:00",
          "2021-10-12T00:00:00+00:00",
          "2021-10-13T00:00:00+00:00",
          "2021-10-14T00:00:00+00:00",
          "2021-10-15T00:00:00+00:00",
          "2021-10-16T00:00:00+00:00",
          "2021-10-17T00:00:00+00:00",
          "2021-10-18T00:00:00+00:00",
          "2021-10-19T00:00:00+00:00",
          "2021-10-20T00:00:00+00:00",
          "2021-10-21T00:00:00+00:00",
          "2021-10-22T00:00:00+00:00",
          "2021-10-23T00:00:00+00:00",
          "2021-10-24T00:00:00+00:00",
          "2021-10-25T00:00:00+00:00",
          "2021-10-26T00:00:00+00:00",
          "2021-10-27T00:00:00+00:00",
          "2021-10-28T00:00:00+00:00",
          "2021-10-29T00:00:00+00:00",
          "2021-10-30T00:00:00+00:00",
          "2021-10-31T00:00:00+00:00",
          "2021-11-01T00:00:00+00:00",
          "2021-11-02T00:00:00+00:00",
          "2021-11-03T00:00:00+00:00",
          "2021-11-04T00:00:00+00:00",
          "2021-11-05T00:00:00+00:00",
          "2021-11-06T00:00:00+00:00",
          "2021-11-07T00:00:00+00:00",
          "2021-11-08T00:00:00+00:00",
          "2021-11-09T00:00:00+00:00",
          "2021-11-10T00:00:00+00:00",
          "2021-11-11T00:00:00+00:00",
          "2021-11-12T00:00:00+00:00",
          "2021-11-13T00:00:00+00:00",
          "2021-11-14T00:00:00+00:00",
          "2021-11-15T00:00:00+00:00",
          "2021-11-16T00:00:00+00:00",
          "2021-11-17T00:00:00+00:00",
          "2021-11-18T00:00:00+00:00",
          "2021-11-19T00:00:00+00:00",
          "2021-11-20T00:00:00+00:00",
          "2021-11-21T00:00:00+00:00",
          "2021-11-22T00:00:00+00:00",
          "2021-11-23T00:00:00+00:00",
          "2021-11-24T00:00:00+00:00",
          "2021-11-25T00:00:00+00:00",
          "2021-11-26T00:00:00+00:00",
          "2021-11-27T00:00:00+00:00",
          "2021-11-28T00:00:00+00:00",
          "2021-11-29T00:00:00+00:00",
          "2021-11-30T00:00:00+00:00",
          "2021-12-01T00:00:00+00:00",
          "2021-12-02T00:00:00+00:00",
          "2021-12-03T00:00:00+00:00",
          "2021-12-04T00:00:00+00:00",
          "2021-12-05T00:00:00+00:00",
          "2021-12-06T00:00:00+00:00",
          "2021-12-07T00:00:00+00:00",
          "2021-12-08T00:00:00+00:00",
          "2021-12-09T00:00:00+00:00",
          "2021-12-10T00:00:00+00:00",
          "2021-12-11T00:00:00+00:00",
          "2021-12-12T00:00:00+00:00",
          "2021-12-13T00:00:00+00:00",
          "2021-12-14T00:00:00+00:00",
          "2021-12-15T00:00:00+00:00",
          "2021-12-16T00:00:00+00:00",
          "2021-12-17T00:00:00+00:00",
          "2021-12-18T00:00:00+00:00",
          "2021-12-19T00:00:00+00:00",
          "2021-12-20T00:00:00+00:00",
          "2021-12-21T00:00:00+00:00",
          "2021-12-22T00:00:00+00:00",
          "2021-12-23T00:00:00+00:00",
          "2021-12-24T00:00:00+00:00",
          "2021-12-25T00:00:00+00:00",
          "2021-12-26T00:00:00+00:00",
          "2021-12-27T00:00:00+00:00",
          "2021-12-28T00:00:00+00:00",
          "2021-12-29T00:00:00+00:00",
          "2021-12-30T00:00:00+00:00",
          "2021-12-31T00:00:00+00:00",
          "2022-01-01T00:00:00+00:00",
          "2022-01-02T00:00:00+00:00",
          "2022-01-03T00:00:00+00:00",
          "2022-01-04T00:00:00+00:00",
          "2022-01-05T00:00:00+00:00",
          "2022-01-06T00:00:00+00:00",
          "2022-01-07T00:00:00+00:00",
          "2022-01-08T00:00:00+00:00",
          "2022-01-09T00:00:00+00:00",
          "2022-01-10T00:00:00+00:00",
          "2022-01-11T00:00:00+00:00",
          "2022-01-12T00:00:00+00:00",
          "2022-01-13T00:00:00+00:00",
          "2022-01-14T00:00:00+00:00",
          "2022-01-15T00:00:00+00:00",
          "2022-01-16T00:00:00+00:00",
          "2022-01-17T00:00:00+00:00",
          "2022-01-18T00:00:00+00:00",
          "2022-01-19T00:00:00+00:00",
          "2022-01-20T00:00:00+00:00",
          "2022-01-21T00:00:00+00:00",
          "2022-01-22T00:00:00+00:00",
          "2022-01-23T00:00:00+00:00",
          "2022-01-24T00:00:00+00:00",
          "2022-01-25T00:00:00+00:00",
          "2022-01-26T00:00:00+00:00",
          "2022-01-27T00:00:00+00:00",
          "2022-01-28T00:00:00+00:00",
          "2022-01-29T00:00:00+00:00",
          "2022-01-30T00:00:00+00:00",
          "2022-01-31T00:00:00+00:00",
          "2022-02-01T00:00:00+00:00",
          "2022-02-02T00:00:00+00:00",
          "2022-02-03T00:00:00+00:00",
          "2022-02-04T00:00:00+00:00",
          "2022-02-05T00:00:00+00:00",
          "2022-02-06T00:00:00+00:00",
          "2022-02-07T00:00:00+00:00",
          "2022-02-08T00:00:00+00:00",
          "2022-02-09T00:00:00+00:00",
          "2022-02-10T00:00:00+00:00",
          "2022-02-11T00:00:00+00:00",
          "2022-02-12T00:00:00+00:00",
          "2022-02-13T00:00:00+00:00",
          "2022-02-14T00:00:00+00:00",
          "2022-02-15T00:00:00+00:00",
          "2022-02-16T00:00:00+00:00",
          "2022-02-17T00:00:00+00:00",
          "2022-02-18T00:00:00+00:00",
          "2022-02-19T00:00:00+00:00",
          "2022-02-20T00:00:00+00:00",
          "2022-02-21T00:00:00+00:00",
          "2022-02-22T00:00:00+00:00",
          "2022-02-23T00:00:00+00:00",
          "2022-02-24T00:00:00+00:00",
          "2022-02-25T00:00:00+00:00",
          "2022-02-26T00:00:00+00:00",
          "2022-02-27T00:00:00+00:00",
          "2022-02-28T00:00:00+00:00",
          "2022-03-01T00:00:00+00:00",
          "2022-03-02T00:00:00+00:00",
          "2022-03-03T00:00:00+00:00",
          "2022-03-04T00:00:00+00:00",
          "2022-03-05T00:00:00+00:00",
          "2022-03-06T00:00:00+00:00",
          "2022-03-07T00:00:00+00:00",
          "2022-03-08T00:00:00+00:00",
          "2022-03-09T00:00:00+00:00",
          "2022-03-10T00:00:00+00:00",
          "2022-03-11T00:00:00+00:00",
          "2022-03-12T00:00:00+00:00",
          "2022-03-13T00:00:00+00:00",
          "2022-03-14T00:00:00+00:00",
          "2022-03-15T00:00:00+00:00",
          "2022-03-16T00:00:00+00:00",
          "2022-03-17T00:00:00+00:00",
          "2022-03-18T00:00:00+00:00",
          "2022-03-19T00:00:00+00:00",
          "2022-03-20T00:00:00+00:00",
          "2022-03-21T00:00:00+00:00",
          "2022-03-22T00:00:00+00:00",
          "2022-03-23T00:00:00+00:00",
          "2022-03-24T00:00:00+00:00",
          "2022-03-25T00:00:00+00:00",
          "2022-03-26T00:00:00+00:00",
          "2022-03-27T00:00:00+00:00",
          "2022-03-28T00:00:00+00:00",
          "2022-03-29T00:00:00+00:00",
          "2022-03-30T00:00:00+00:00",
          "2022-03-31T00:00:00+00:00",
          "2022-04-01T00:00:00+00:00",
          "2022-04-02T00:00:00+00:00",
          "2022-04-03T00:00:00+00:00",
          "2022-04-04T00:00:00+00:00",
          "2022-04-05T00:00:00+00:00",
          "2022-04-06T00:00:00+00:00",
          "2022-04-07T00:00:00+00:00",
          "2022-04-08T00:00:00+00:00",
          "2022-04-09T00:00:00+00:00",
          "2022-04-10T00:00:00+00:00",
          "2022-04-11T00:00:00+00:00",
          "2022-04-12T00:00:00+00:00",
          "2022-04-13T00:00:00+00:00",
          "2022-04-14T00:00:00+00:00",
          "2022-04-15T00:00:00+00:00",
          "2022-04-16T00:00:00+00:00",
          "2022-04-17T00:00:00+00:00",
          "2022-04-18T00:00:00+00:00",
          "2022-04-19T00:00:00+00:00",
          "2022-04-20T00:00:00+00:00",
          "2022-04-21T00:00:00+00:00",
          "2022-04-22T00:00:00+00:00",
          "2022-04-23T00:00:00+00:00",
          "2022-04-24T00:00:00+00:00",
          "2022-04-25T00:00:00+00:00",
          "2022-04-26T00:00:00+00:00",
          "2022-04-27T00:00:00+00:00",
          "2022-04-28T00:00:00+00:00",
          "2022-04-29T00:00:00+00:00",
          "2022-04-30T00:00:00+00:00",
          "2022-05-01T00:00:00+00:00",
          "2022-05-02T00:00:00+00:00",
          "2022-05-03T00:00:00+00:00",
          "2022-05-04T00:00:00+00:00",
          "2022-05-05T00:00:00+00:00",
          "2022-05-06T00:00:00+00:00",
          "2022-05-07T00:00:00+00:00",
          "2022-05-08T00:00:00+00:00",
          "2022-05-09T00:00:00+00:00",
          "2022-05-10T00:00:00+00:00",
          "2022-05-11T00:00:00+00:00",
          "2022-05-12T00:00:00+00:00",
          "2022-05-13T00:00:00+00:00",
          "2022-05-14T00:00:00+00:00",
          "2022-05-15T00:00:00+00:00",
          "2022-05-16T00:00:00+00:00",
          "2022-05-17T00:00:00+00:00",
          "2022-05-18T00:00:00+00:00",
          "2022-05-19T00:00:00+00:00",
          "2022-05-20T00:00:00+00:00",
          "2022-05-21T00:00:00+00:00",
          "2022-05-22T00:00:00+00:00",
          "2022-05-23T00:00:00+00:00",
          "2022-05-24T00:00:00+00:00",
          "2022-05-25T00:00:00+00:00",
          "2022-05-26T00:00:00+00:00",
          "2022-05-27T00:00:00+00:00",
          "2022-05-28T00:00:00+00:00",
          "2022-05-29T00:00:00+00:00",
          "2022-05-30T00:00:00+00:00",
          "2022-05-31T00:00:00+00:00",
          "2022-06-01T00:00:00+00:00",
          "2022-06-02T00:00:00+00:00",
          "2022-06-03T00:00:00+00:00",
          "2022-06-04T00:00:00+00:00",
          "2022-06-05T00:00:00+00:00",
          "2022-06-06T00:00:00+00:00",
          "2022-06-07T00:00:00+00:00",
          "2022-06-08T00:00:00+00:00",
          "2022-06-09T00:00:00+00:00",
          "2022-06-10T00:00:00+00:00",
          "2022-06-11T00:00:00+00:00",
          "2022-06-12T00:00:00+00:00",
          "2022-06-13T00:00:00+00:00",
          "2022-06-14T00:00:00+00:00",
          "2022-06-15T00:00:00+00:00",
          "2022-06-16T00:00:00+00:00",
          "2022-06-17T00:00:00+00:00",
          "2022-06-18T00:00:00+00:00",
          "2022-06-19T00:00:00+00:00",
          "2022-06-20T00:00:00+00:00",
          "2022-06-21T00:00:00+00:00",
          "2022-06-22T00:00:00+00:00",
          "2022-06-23T00:00:00+00:00",
          "2022-06-24T00:00:00+00:00",
          "2022-06-25T00:00:00+00:00",
          "2022-06-26T00:00:00+00:00",
          "2022-06-27T00:00:00+00:00",
          "2022-06-28T00:00:00+00:00",
          "2022-06-29T00:00:00+00:00",
          "2022-06-30T00:00:00+00:00",
          "2022-07-01T00:00:00+00:00",
          "2022-07-02T00:00:00+00:00",
          "2022-07-03T00:00:00+00:00",
          "2022-07-04T00:00:00+00:00",
          "2022-07-05T00:00:00+00:00",
          "2022-07-06T00:00:00+00:00",
          "2022-07-07T00:00:00+00:00",
          "2022-07-08T00:00:00+00:00",
          "2022-07-09T00:00:00+00:00",
          "2022-07-10T00:00:00+00:00",
          "2022-07-11T00:00:00+00:00",
          "2022-07-12T00:00:00+00:00",
          "2022-07-13T00:00:00+00:00",
          "2022-07-14T00:00:00+00:00",
          "2022-07-15T00:00:00+00:00",
          "2022-07-16T00:00:00+00:00",
          "2022-07-17T00:00:00+00:00",
          "2022-07-18T00:00:00+00:00",
          "2022-07-19T00:00:00+00:00",
          "2022-07-20T00:00:00+00:00",
          "2022-07-21T00:00:00+00:00",
          "2022-07-22T00:00:00+00:00",
          "2022-07-23T00:00:00+00:00",
          "2022-07-24T00:00:00+00:00",
          "2022-07-25T00:00:00+00:00",
          "2022-07-26T00:00:00+00:00",
          "2022-07-27T00:00:00+00:00",
          "2022-07-28T00:00:00+00:00",
          "2022-07-29T00:00:00+00:00",
          "2022-07-30T00:00:00+00:00",
          "2022-07-31T00:00:00+00:00",
          "2022-08-01T00:00:00+00:00",
          "2022-08-02T00:00:00+00:00",
          "2022-08-03T00:00:00+00:00",
          "2022-08-04T00:00:00+00:00",
          "2022-08-05T00:00:00+00:00",
          "2022-08-06T00:00:00+00:00",
          "2022-08-07T00:00:00+00:00",
          "2022-08-08T00:00:00+00:00",
          "2022-08-09T00:00:00+00:00",
          "2022-08-10T00:00:00+00:00",
          "2022-08-11T00:00:00+00:00",
          "2022-08-12T00:00:00+00:00",
          "2022-08-13T00:00:00+00:00",
          "2022-08-14T00:00:00+00:00",
          "2022-08-15T00:00:00+00:00",
          "2022-08-16T00:00:00+00:00",
          "2022-08-17T00:00:00+00:00",
          "2022-08-18T00:00:00+00:00",
          "2022-08-19T00:00:00+00:00",
          "2022-08-20T00:00:00+00:00",
          "2022-08-21T00:00:00+00:00",
          "2022-08-22T00:00:00+00:00",
          "2022-08-23T00:00:00+00:00",
          "2022-08-24T00:00:00+00:00",
          "2022-08-25T00:00:00+00:00",
          "2022-08-26T00:00:00+00:00",
          "2022-08-27T00:00:00+00:00",
          "2022-08-28T00:00:00+00:00",
          "2022-08-29T00:00:00+00:00",
          "2022-08-30T00:00:00+00:00",
          "2022-08-31T00:00:00+00:00",
          "2022-09-01T00:00:00+00:00",
          "2022-09-02T00:00:00+00:00",
          "2022-09-03T00:00:00+00:00",
          "2022-09-04T00:00:00+00:00",
          "2022-09-05T00:00:00+00:00",
          "2022-09-06T00:00:00+00:00",
          "2022-09-07T00:00:00+00:00",
          "2022-09-08T00:00:00+00:00",
          "2022-09-09T00:00:00+00:00",
          "2022-09-10T00:00:00+00:00",
          "2022-09-11T00:00:00+00:00",
          "2022-09-12T00:00:00+00:00",
          "2022-09-13T00:00:00+00:00",
          "2022-09-14T00:00:00+00:00",
          "2022-09-15T00:00:00+00:00",
          "2022-09-16T00:00:00+00:00",
          "2022-09-17T00:00:00+00:00",
          "2022-09-18T00:00:00+00:00",
          "2022-09-19T00:00:00+00:00",
          "2022-09-20T00:00:00+00:00",
          "2022-09-21T00:00:00+00:00",
          "2022-09-22T00:00:00+00:00",
          "2022-09-23T00:00:00+00:00",
          "2022-09-24T00:00:00+00:00",
          "2022-09-25T00:00:00+00:00",
          "2022-09-26T00:00:00+00:00",
          "2022-09-27T00:00:00+00:00",
          "2022-09-28T00:00:00+00:00",
          "2022-09-29T00:00:00+00:00",
          "2022-09-30T00:00:00+00:00",
          "2022-10-01T00:00:00+00:00",
          "2022-10-02T00:00:00+00:00",
          "2022-10-03T00:00:00+00:00",
          "2022-10-04T00:00:00+00:00",
          "2022-10-05T00:00:00+00:00",
          "2022-10-06T00:00:00+00:00",
          "2022-10-07T00:00:00+00:00",
          "2022-10-08T00:00:00+00:00",
          "2022-10-09T00:00:00+00:00",
          "2022-10-10T00:00:00+00:00",
          "2022-10-11T00:00:00+00:00",
          "2022-10-12T00:00:00+00:00",
          "2022-10-13T00:00:00+00:00",
          "2022-10-14T00:00:00+00:00",
          "2022-10-15T00:00:00+00:00",
          "2022-10-16T00:00:00+00:00",
          "2022-10-17T00:00:00+00:00",
          "2022-10-18T00:00:00+00:00",
          "2022-10-19T00:00:00+00:00",
          "2022-10-20T00:00:00+00:00",
          "2022-10-21T00:00:00+00:00",
          "2022-10-22T00:00:00+00:00",
          "2022-10-23T00:00:00+00:00",
          "2022-10-24T00:00:00+00:00",
          "2022-10-25T00:00:00+00:00",
          "2022-10-26T00:00:00+00:00",
          "2022-10-27T00:00:00+00:00",
          "2022-10-28T00:00:00+00:00",
          "2022-10-29T00:00:00+00:00",
          "2022-10-30T00:00:00+00:00",
          "2022-10-31T00:00:00+00:00",
          "2022-11-01T00:00:00+00:00",
          "2022-11-02T00:00:00+00:00",
          "2022-11-03T00:00:00+00:00",
          "2022-11-04T00:00:00+00:00",
          "2022-11-05T00:00:00+00:00",
          "2022-11-06T00:00:00+00:00",
          "2022-11-07T00:00:00+00:00",
          "2022-11-08T00:00:00+00:00",
          "2022-11-09T00:00:00+00:00",
          "2022-11-10T00:00:00+00:00",
          "2022-11-11T00:00:00+00:00",
          "2022-11-12T00:00:00+00:00",
          "2022-11-13T00:00:00+00:00",
          "2022-11-14T00:00:00+00:00",
          "2022-11-15T00:00:00+00:00",
          "2022-11-16T00:00:00+00:00",
          "2022-11-17T00:00:00+00:00",
          "2022-11-18T00:00:00+00:00",
          "2022-11-19T00:00:00+00:00",
          "2022-11-20T00:00:00+00:00",
          "2022-11-21T00:00:00+00:00",
          "2022-11-22T00:00:00+00:00",
          "2022-11-23T00:00:00+00:00",
          "2022-11-24T00:00:00+00:00",
          "2022-11-25T00:00:00+00:00",
          "2022-11-26T00:00:00+00:00",
          "2022-11-27T00:00:00+00:00",
          "2022-11-28T00:00:00+00:00",
          "2022-11-29T00:00:00+00:00"
         ],
         "xaxis": "x",
         "y": [
          null,
          null,
          null,
          null,
          null,
          null,
          null,
          null,
          null,
          null,
          null,
          null,
          null,
          null,
          null,
          null,
          null,
          null,
          null,
          3529.8999877929687,
          3476.3801391601564,
          3440.7240356445313,
          3401.469482421875,
          3353.6615234375,
          3302.3331298828125,
          3259.0274291992187,
          3234.414660644531,
          3199.9137329101563,
          3171.203894042969,
          3160.712548828125,
          3162.5744506835936,
          3161.65244140625,
          3168.294787597656,
          3165.8407592773438,
          3161.002551269531,
          3161.4659057617187,
          3170.937707519531,
          3177.524755859375,
          3189.8381958007812,
          3213.1811645507814,
          3252.2273071289064,
          3272.9625732421873,
          3295.496472167969,
          3338.213720703125,
          3385.067175292969,
          3423.473010253906,
          3469.1212890625,
          3516.194470214844,
          3567.4198486328123,
          3625.1355102539064,
          3662.4758422851564,
          3691.4002197265627,
          3729.065466308594,
          3764.456164550781,
          3799.4240844726564,
          3826.9510864257813,
          3844.0652099609374,
          3880.2431884765624,
          3922.194677734375,
          3967.1845581054686,
          4004.3205688476564,
          4045.9232543945313,
          4094.8531127929687,
          4135.912097167969,
          4169.646569824219,
          4202.439624023437,
          4236.1634521484375,
          4279.753173828125,
          4326.475,
          4355.4288330078125,
          4384.521411132812,
          4422.531530761718,
          4447.304113769531,
          4475.481982421875,
          4495.906079101563,
          4517.226171875,
          4531.531567382813,
          4531.5453125,
          4510.84052734375,
          4509.47333984375,
          4515.566186523438,
          4512.821484375,
          4488.004431152343,
          4474.682922363281,
          4459.815783691406,
          4449.240783691406,
          4424.707177734375,
          4398.525048828125,
          4372.643359375,
          4358.145166015625,
          4357.910400390625,
          4350.740698242187,
          4342.950048828125,
          4321.412329101562,
          4296.073754882813,
          4278.114697265625,
          4285.23330078125,
          4286.606689453125,
          4308.542041015625,
          4299.617504882813,
          4274.545751953125,
          4265.281726074219,
          4267.581494140625,
          4239.754650878906,
          4215.027600097656,
          4202.209875488281,
          4198.787915039063,
          4187.916638183594,
          4171.236962890625,
          4145.111340332031,
          4110.2296142578125,
          4081.893103027344,
          4055.432971191406,
          4049.798449707031,
          4046.218225097656,
          4040.9661376953127,
          4026.3956787109373,
          4012.519982910156,
          3980.5967407226562,
          3956.0325317382812,
          3946.300329589844,
          3926.2093505859375,
          3907.971545410156,
          3910.2384521484373,
          3911.03544921875,
          3899.81884765625,
          3879.214709472656,
          3856.160791015625,
          3817.7783081054686,
          3776.247314453125,
          3737.442663574219,
          3690.5845581054687,
          3653.38515625,
          3616.5972900390625,
          3576.6125732421874,
          3537.448596191406,
          3500.6087280273437,
          3466.27744140625,
          3436.848034667969,
          3413.622705078125,
          3382.721398925781,
          3348.6457641601564,
          3288.0574951171875,
          3216.8383056640623,
          3155.521240234375,
          3087.8360229492187,
          3033.113427734375,
          2985.59453125,
          2947.0840698242187,
          2919.8400390625,
          2891.8067016601562,
          2867.8251342773438,
          2840.33349609375,
          2811.3264404296874,
          2783.0547119140624,
          2751.5127685546877,
          2734.165576171875,
          2717.3518920898437,
          2709.61044921875,
          2708.5327270507814,
          2709.871862792969,
          2721.788708496094,
          2747.7662353515625,
          2773.876354980469,
          2792.992541503906,
          2815.148095703125,
          2839.02529296875,
          2874.617639160156,
          2909.85908203125,
          2926.578576660156,
          2936.0107177734376,
          2944.0224487304686,
          2941.0409301757813,
          2930.12587890625,
          2927.94814453125,
          2923.5079956054688,
          2904.2320068359377,
          2891.7263793945312,
          2877.908166503906,
          2851.874719238281,
          2841.704345703125,
          2828.355749511719,
          2821.9875610351564,
          2817.341833496094,
          2802.331494140625,
          2791.3998779296876,
          2772.4777954101564,
          2738.3724975585938,
          2710.8183715820314,
          2703.233447265625,
          2694.349499511719,
          2684.1425903320314,
          2681.4478759765625,
          2678.704296875,
          2676.274133300781,
          2677.763635253906,
          2686.4630615234373,
          2688.97900390625,
          2697.190563964844,
          2713.413330078125,
          2710.4762329101563,
          2706.7508056640627,
          2707.9014404296877,
          2717.73134765625,
          2742.276647949219,
          2764.3686645507814,
          2793.775744628906,
          2833.466064453125,
          2871.460412597656,
          2905.0706298828127,
          2943.9260986328127,
          2980.0300903320312,
          3023.7699951171876,
          3070.075732421875,
          3116.6826049804686,
          3161.7371826171875,
          3193.7240234375,
          3211.5658935546876,
          3225.9624755859377,
          3238.2533203125,
          3258.326171875,
          3274.0206909179688,
          3274.416748046875,
          3274.382214355469,
          3274.8963256835937,
          3270.5582275390625,
          3265.445104980469,
          3253.98173828125,
          3236.820178222656,
          3219.601123046875,
          3205.548547363281,
          3195.3536987304688,
          3172.2501220703125,
          3148.2389404296873,
          3119.002966308594,
          3089.0775390625,
          3068.9575927734377,
          3050.7879150390627,
          3033.570666503906,
          3020.814013671875,
          2998.498291015625,
          2974.4142822265626,
          2966.749475097656,
          2958.101171875,
          2941.357775878906,
          2937.3945434570314,
          2922.809375,
          2904.4428466796876,
          2886.5773315429688,
          2859.5699951171873,
          2816.636193847656,
          2779.924450683594,
          2734.1558471679687,
          2683.999139404297,
          2637.814349365234,
          2594.4914123535154,
          2551.3070739746095,
          2512.028454589844,
          2472.102429199219,
          2421.0881896972655,
          2381.2249084472655,
          2342.781353759766,
          2300.119464111328,
          2259.4074523925783,
          2218.8427307128904,
          2170.759631347656,
          2130.5403686523437,
          2085.9870483398436,
          2040.4285400390625,
          2002.4526306152343,
          1980.7826599121095,
          1963.4291748046876,
          1956.9401428222657,
          1950.0335327148437,
          1941.0201477050782,
          1926.960382080078,
          1909.755517578125,
          1898.8794677734375,
          1887.3234924316407,
          1882.1931030273438,
          1870.9549072265625,
          1862.3804260253905,
          1846.9066223144532,
          1821.2312866210937,
          1794.8830200195312,
          1756.163018798828,
          1719.5047668457032,
          1690.9694213867188,
          1658.109814453125,
          1624.5386901855468,
          1583.618978881836,
          1540.179739379883,
          1499.4454620361328,
          1464.5082244873047,
          1425.371792602539,
          1393.7871978759765,
          1365.0489593505858,
          1336.9610565185546,
          1303.9881561279296,
          1272.9697723388672,
          1240.5201202392577,
          1205.976010131836,
          1176.0888397216797,
          1152.5940338134765,
          1133.6588470458985,
          1127.1180572509766,
          1124.0878692626952,
          1119.1545989990234,
          1125.116763305664,
          1132.6704681396484,
          1144.1139404296875,
          1148.580029296875,
          1150.617987060547,
          1149.2385864257812,
          1148.5770751953125,
          1147.0870971679688,
          1145.3211730957032,
          1144.8052856445313,
          1152.4450256347657,
          1159.6927795410156,
          1181.3997131347655,
          1203.6012817382812,
          1226.2463745117188,
          1252.0954833984374,
          1275.6401000976562,
          1299.4166259765625,
          1321.8375061035156,
          1337.3796264648438,
          1350.1212646484375,
          1370.0532287597657,
          1395.2013244628906,
          1420.7227600097656,
          1447.1011535644532,
          1476.3151916503907,
          1506.1653991699218,
          1532.1333129882812,
          1553.5007263183593,
          1572.2545593261718,
          1591.2359680175782,
          1608.8870849609375,
          1614.9187316894531,
          1626.5457763671875,
          1635.686993408203,
          1649.4366516113282,
          1666.6276000976563,
          1687.025048828125,
          1706.1180419921875,
          1730.6889709472657,
          1753.810040283203,
          1765.9053771972656,
          1771.2819519042969,
          1777.2619934082031,
          1773.1128845214844,
          1767.88720703125,
          1767.0933654785156,
          1766.57138671875,
          1768.7661560058593,
          1771.2088256835937,
          1769.4189453125,
          1760.2251831054687,
          1749.827392578125,
          1732.578955078125,
          1725.079571533203,
          1708.6843811035155,
          1692.307421875,
          1673.7539367675781,
          1653.5481323242188,
          1634.5516662597656,
          1618.2223388671875,
          1605.1745300292969,
          1591.6119750976563,
          1580.756903076172,
          1581.8749206542968,
          1588.97900390625,
          1596.8232421875,
          1603.7879516601563,
          1606.3377197265625,
          1602.5241577148438,
          1599.4390563964844,
          1597.634588623047,
          1594.6872253417969,
          1596.6469421386719,
          1585.7615295410155,
          1578.4466552734375,
          1566.9818176269532,
          1550.303369140625,
          1537.8263549804688,
          1526.3956970214845,
          1513.41328125,
          1497.264959716797,
          1485.9435424804688,
          1470.954608154297,
          1456.0577697753906,
          1436.8861145019532,
          1414.4748596191407,
          1391.9670776367188,
          1370.0834899902343,
          1357.2160522460938,
          1343.5846313476563,
          1337.6418151855469,
          1333.6049011230468,
          1326.7436645507812,
          1325.7522338867188,
          1323.0053771972657,
          1321.352850341797,
          1322.7012451171875,
          1321.0625549316405,
          1319.0557739257813,
          1318.0272155761718,
          1317.0599609375,
          1315.6087829589844,
          1315.6880798339844,
          1314.3398864746093,
          1311.844482421875,
          1309.6055969238282,
          1309.0206970214845,
          1310.9309814453125,
          1312.9313720703126,
          1312.074969482422,
          1317.5163818359374,
          1328.2592407226562,
          1337.3521362304687,
          1349.351007080078,
          1364.2057189941406,
          1379.1780029296874,
          1393.834942626953,
          1408.074853515625,
          1419.654248046875,
          1431.3602294921875,
          1449.8713134765626,
          1465.9548828125,
          1477.980938720703,
          1490.8881530761719,
          1493.2427185058593,
          1484.091162109375,
          1484.067071533203,
          1482.7131652832031,
          1477.3042297363281,
          1471.145263671875,
          1460.1422058105468,
          1444.40068359375,
          1429.4620666503906,
          1411.7286010742187,
          1391.35869140625,
          1372.7408630371094,
          1351.2284729003907,
          1327.6608947753907,
          1308.4339782714844,
          1291.0168701171874,
          1268.961358642578,
          1247.5092529296876,
          1229.1924133300781,
          1210.5191955566406,
          1202.3817260742187,
          1208.2182983398438
         ],
         "yaxis": "y"
        },
        {
         "name": "RTX 3080 Price (Bi-Weekly)",
         "type": "scatter",
         "x": [
          "September 2021",
          "October 2021",
          "November 2021",
          "December 2021",
          "January 2022",
          "February 2022",
          "March 2022",
          "April 2022",
          "May 2022",
          "June 2022",
          "July 2022",
          "August 2022",
          "September 2022",
          "October 2022",
          "November 2022"
         ],
         "xaxis": "x2",
         "y": [
          "1677",
          "1666",
          "1720",
          "1783",
          "1613",
          "1440",
          "1283",
          "1114",
          "899",
          "728",
          "696",
          "665",
          "585",
          "562",
          "594"
         ],
         "yaxis": "y2"
        }
       ],
       "layout": {
        "autotypenumbers": "convert types",
        "template": {
         "data": {
          "bar": [
           {
            "error_x": {
             "color": "#2a3f5f"
            },
            "error_y": {
             "color": "#2a3f5f"
            },
            "marker": {
             "line": {
              "color": "#E5ECF6",
              "width": 0.5
             },
             "pattern": {
              "fillmode": "overlay",
              "size": 10,
              "solidity": 0.2
             }
            },
            "type": "bar"
           }
          ],
          "barpolar": [
           {
            "marker": {
             "line": {
              "color": "#E5ECF6",
              "width": 0.5
             },
             "pattern": {
              "fillmode": "overlay",
              "size": 10,
              "solidity": 0.2
             }
            },
            "type": "barpolar"
           }
          ],
          "carpet": [
           {
            "aaxis": {
             "endlinecolor": "#2a3f5f",
             "gridcolor": "white",
             "linecolor": "white",
             "minorgridcolor": "white",
             "startlinecolor": "#2a3f5f"
            },
            "baxis": {
             "endlinecolor": "#2a3f5f",
             "gridcolor": "white",
             "linecolor": "white",
             "minorgridcolor": "white",
             "startlinecolor": "#2a3f5f"
            },
            "type": "carpet"
           }
          ],
          "choropleth": [
           {
            "colorbar": {
             "outlinewidth": 0,
             "ticks": ""
            },
            "type": "choropleth"
           }
          ],
          "contour": [
           {
            "colorbar": {
             "outlinewidth": 0,
             "ticks": ""
            },
            "colorscale": [
             [
              0,
              "#0d0887"
             ],
             [
              0.1111111111111111,
              "#46039f"
             ],
             [
              0.2222222222222222,
              "#7201a8"
             ],
             [
              0.3333333333333333,
              "#9c179e"
             ],
             [
              0.4444444444444444,
              "#bd3786"
             ],
             [
              0.5555555555555556,
              "#d8576b"
             ],
             [
              0.6666666666666666,
              "#ed7953"
             ],
             [
              0.7777777777777778,
              "#fb9f3a"
             ],
             [
              0.8888888888888888,
              "#fdca26"
             ],
             [
              1,
              "#f0f921"
             ]
            ],
            "type": "contour"
           }
          ],
          "contourcarpet": [
           {
            "colorbar": {
             "outlinewidth": 0,
             "ticks": ""
            },
            "type": "contourcarpet"
           }
          ],
          "heatmap": [
           {
            "colorbar": {
             "outlinewidth": 0,
             "ticks": ""
            },
            "colorscale": [
             [
              0,
              "#0d0887"
             ],
             [
              0.1111111111111111,
              "#46039f"
             ],
             [
              0.2222222222222222,
              "#7201a8"
             ],
             [
              0.3333333333333333,
              "#9c179e"
             ],
             [
              0.4444444444444444,
              "#bd3786"
             ],
             [
              0.5555555555555556,
              "#d8576b"
             ],
             [
              0.6666666666666666,
              "#ed7953"
             ],
             [
              0.7777777777777778,
              "#fb9f3a"
             ],
             [
              0.8888888888888888,
              "#fdca26"
             ],
             [
              1,
              "#f0f921"
             ]
            ],
            "type": "heatmap"
           }
          ],
          "heatmapgl": [
           {
            "colorbar": {
             "outlinewidth": 0,
             "ticks": ""
            },
            "colorscale": [
             [
              0,
              "#0d0887"
             ],
             [
              0.1111111111111111,
              "#46039f"
             ],
             [
              0.2222222222222222,
              "#7201a8"
             ],
             [
              0.3333333333333333,
              "#9c179e"
             ],
             [
              0.4444444444444444,
              "#bd3786"
             ],
             [
              0.5555555555555556,
              "#d8576b"
             ],
             [
              0.6666666666666666,
              "#ed7953"
             ],
             [
              0.7777777777777778,
              "#fb9f3a"
             ],
             [
              0.8888888888888888,
              "#fdca26"
             ],
             [
              1,
              "#f0f921"
             ]
            ],
            "type": "heatmapgl"
           }
          ],
          "histogram": [
           {
            "marker": {
             "pattern": {
              "fillmode": "overlay",
              "size": 10,
              "solidity": 0.2
             }
            },
            "type": "histogram"
           }
          ],
          "histogram2d": [
           {
            "colorbar": {
             "outlinewidth": 0,
             "ticks": ""
            },
            "colorscale": [
             [
              0,
              "#0d0887"
             ],
             [
              0.1111111111111111,
              "#46039f"
             ],
             [
              0.2222222222222222,
              "#7201a8"
             ],
             [
              0.3333333333333333,
              "#9c179e"
             ],
             [
              0.4444444444444444,
              "#bd3786"
             ],
             [
              0.5555555555555556,
              "#d8576b"
             ],
             [
              0.6666666666666666,
              "#ed7953"
             ],
             [
              0.7777777777777778,
              "#fb9f3a"
             ],
             [
              0.8888888888888888,
              "#fdca26"
             ],
             [
              1,
              "#f0f921"
             ]
            ],
            "type": "histogram2d"
           }
          ],
          "histogram2dcontour": [
           {
            "colorbar": {
             "outlinewidth": 0,
             "ticks": ""
            },
            "colorscale": [
             [
              0,
              "#0d0887"
             ],
             [
              0.1111111111111111,
              "#46039f"
             ],
             [
              0.2222222222222222,
              "#7201a8"
             ],
             [
              0.3333333333333333,
              "#9c179e"
             ],
             [
              0.4444444444444444,
              "#bd3786"
             ],
             [
              0.5555555555555556,
              "#d8576b"
             ],
             [
              0.6666666666666666,
              "#ed7953"
             ],
             [
              0.7777777777777778,
              "#fb9f3a"
             ],
             [
              0.8888888888888888,
              "#fdca26"
             ],
             [
              1,
              "#f0f921"
             ]
            ],
            "type": "histogram2dcontour"
           }
          ],
          "mesh3d": [
           {
            "colorbar": {
             "outlinewidth": 0,
             "ticks": ""
            },
            "type": "mesh3d"
           }
          ],
          "parcoords": [
           {
            "line": {
             "colorbar": {
              "outlinewidth": 0,
              "ticks": ""
             }
            },
            "type": "parcoords"
           }
          ],
          "pie": [
           {
            "automargin": true,
            "type": "pie"
           }
          ],
          "scatter": [
           {
            "fillpattern": {
             "fillmode": "overlay",
             "size": 10,
             "solidity": 0.2
            },
            "type": "scatter"
           }
          ],
          "scatter3d": [
           {
            "line": {
             "colorbar": {
              "outlinewidth": 0,
              "ticks": ""
             }
            },
            "marker": {
             "colorbar": {
              "outlinewidth": 0,
              "ticks": ""
             }
            },
            "type": "scatter3d"
           }
          ],
          "scattercarpet": [
           {
            "marker": {
             "colorbar": {
              "outlinewidth": 0,
              "ticks": ""
             }
            },
            "type": "scattercarpet"
           }
          ],
          "scattergeo": [
           {
            "marker": {
             "colorbar": {
              "outlinewidth": 0,
              "ticks": ""
             }
            },
            "type": "scattergeo"
           }
          ],
          "scattergl": [
           {
            "marker": {
             "colorbar": {
              "outlinewidth": 0,
              "ticks": ""
             }
            },
            "type": "scattergl"
           }
          ],
          "scattermapbox": [
           {
            "marker": {
             "colorbar": {
              "outlinewidth": 0,
              "ticks": ""
             }
            },
            "type": "scattermapbox"
           }
          ],
          "scatterpolar": [
           {
            "marker": {
             "colorbar": {
              "outlinewidth": 0,
              "ticks": ""
             }
            },
            "type": "scatterpolar"
           }
          ],
          "scatterpolargl": [
           {
            "marker": {
             "colorbar": {
              "outlinewidth": 0,
              "ticks": ""
             }
            },
            "type": "scatterpolargl"
           }
          ],
          "scatterternary": [
           {
            "marker": {
             "colorbar": {
              "outlinewidth": 0,
              "ticks": ""
             }
            },
            "type": "scatterternary"
           }
          ],
          "surface": [
           {
            "colorbar": {
             "outlinewidth": 0,
             "ticks": ""
            },
            "colorscale": [
             [
              0,
              "#0d0887"
             ],
             [
              0.1111111111111111,
              "#46039f"
             ],
             [
              0.2222222222222222,
              "#7201a8"
             ],
             [
              0.3333333333333333,
              "#9c179e"
             ],
             [
              0.4444444444444444,
              "#bd3786"
             ],
             [
              0.5555555555555556,
              "#d8576b"
             ],
             [
              0.6666666666666666,
              "#ed7953"
             ],
             [
              0.7777777777777778,
              "#fb9f3a"
             ],
             [
              0.8888888888888888,
              "#fdca26"
             ],
             [
              1,
              "#f0f921"
             ]
            ],
            "type": "surface"
           }
          ],
          "table": [
           {
            "cells": {
             "fill": {
              "color": "#EBF0F8"
             },
             "line": {
              "color": "white"
             }
            },
            "header": {
             "fill": {
              "color": "#C8D4E3"
             },
             "line": {
              "color": "white"
             }
            },
            "type": "table"
           }
          ]
         },
         "layout": {
          "annotationdefaults": {
           "arrowcolor": "#2a3f5f",
           "arrowhead": 0,
           "arrowwidth": 1
          },
          "autotypenumbers": "strict",
          "coloraxis": {
           "colorbar": {
            "outlinewidth": 0,
            "ticks": ""
           }
          },
          "colorscale": {
           "diverging": [
            [
             0,
             "#8e0152"
            ],
            [
             0.1,
             "#c51b7d"
            ],
            [
             0.2,
             "#de77ae"
            ],
            [
             0.3,
             "#f1b6da"
            ],
            [
             0.4,
             "#fde0ef"
            ],
            [
             0.5,
             "#f7f7f7"
            ],
            [
             0.6,
             "#e6f5d0"
            ],
            [
             0.7,
             "#b8e186"
            ],
            [
             0.8,
             "#7fbc41"
            ],
            [
             0.9,
             "#4d9221"
            ],
            [
             1,
             "#276419"
            ]
           ],
           "sequential": [
            [
             0,
             "#0d0887"
            ],
            [
             0.1111111111111111,
             "#46039f"
            ],
            [
             0.2222222222222222,
             "#7201a8"
            ],
            [
             0.3333333333333333,
             "#9c179e"
            ],
            [
             0.4444444444444444,
             "#bd3786"
            ],
            [
             0.5555555555555556,
             "#d8576b"
            ],
            [
             0.6666666666666666,
             "#ed7953"
            ],
            [
             0.7777777777777778,
             "#fb9f3a"
            ],
            [
             0.8888888888888888,
             "#fdca26"
            ],
            [
             1,
             "#f0f921"
            ]
           ],
           "sequentialminus": [
            [
             0,
             "#0d0887"
            ],
            [
             0.1111111111111111,
             "#46039f"
            ],
            [
             0.2222222222222222,
             "#7201a8"
            ],
            [
             0.3333333333333333,
             "#9c179e"
            ],
            [
             0.4444444444444444,
             "#bd3786"
            ],
            [
             0.5555555555555556,
             "#d8576b"
            ],
            [
             0.6666666666666666,
             "#ed7953"
            ],
            [
             0.7777777777777778,
             "#fb9f3a"
            ],
            [
             0.8888888888888888,
             "#fdca26"
            ],
            [
             1,
             "#f0f921"
            ]
           ]
          },
          "colorway": [
           "#636efa",
           "#EF553B",
           "#00cc96",
           "#ab63fa",
           "#FFA15A",
           "#19d3f3",
           "#FF6692",
           "#B6E880",
           "#FF97FF",
           "#FECB52"
          ],
          "font": {
           "color": "#2a3f5f"
          },
          "geo": {
           "bgcolor": "white",
           "lakecolor": "white",
           "landcolor": "#E5ECF6",
           "showlakes": true,
           "showland": true,
           "subunitcolor": "white"
          },
          "hoverlabel": {
           "align": "left"
          },
          "hovermode": "closest",
          "mapbox": {
           "style": "light"
          },
          "paper_bgcolor": "white",
          "plot_bgcolor": "#E5ECF6",
          "polar": {
           "angularaxis": {
            "gridcolor": "white",
            "linecolor": "white",
            "ticks": ""
           },
           "bgcolor": "#E5ECF6",
           "radialaxis": {
            "gridcolor": "white",
            "linecolor": "white",
            "ticks": ""
           }
          },
          "scene": {
           "xaxis": {
            "backgroundcolor": "#E5ECF6",
            "gridcolor": "white",
            "gridwidth": 2,
            "linecolor": "white",
            "showbackground": true,
            "ticks": "",
            "zerolinecolor": "white"
           },
           "yaxis": {
            "backgroundcolor": "#E5ECF6",
            "gridcolor": "white",
            "gridwidth": 2,
            "linecolor": "white",
            "showbackground": true,
            "ticks": "",
            "zerolinecolor": "white"
           },
           "zaxis": {
            "backgroundcolor": "#E5ECF6",
            "gridcolor": "white",
            "gridwidth": 2,
            "linecolor": "white",
            "showbackground": true,
            "ticks": "",
            "zerolinecolor": "white"
           }
          },
          "shapedefaults": {
           "line": {
            "color": "#2a3f5f"
           }
          },
          "ternary": {
           "aaxis": {
            "gridcolor": "white",
            "linecolor": "white",
            "ticks": ""
           },
           "baxis": {
            "gridcolor": "white",
            "linecolor": "white",
            "ticks": ""
           },
           "bgcolor": "#E5ECF6",
           "caxis": {
            "gridcolor": "white",
            "linecolor": "white",
            "ticks": ""
           }
          },
          "title": {
           "x": 0.05
          },
          "xaxis": {
           "automargin": true,
           "gridcolor": "white",
           "linecolor": "white",
           "ticks": "",
           "title": {
            "standoff": 15
           },
           "zerolinecolor": "white",
           "zerolinewidth": 2
          },
          "yaxis": {
           "automargin": true,
           "gridcolor": "white",
           "linecolor": "white",
           "ticks": "",
           "title": {
            "standoff": 15
           },
           "zerolinecolor": "white",
           "zerolinewidth": 2
          }
         }
        },
        "xaxis": {
         "anchor": "y",
         "domain": [
          0,
          0.94
         ]
        },
        "xaxis2": {
         "anchor": "y",
         "overlaying": "x",
         "side": "top"
        },
        "yaxis": {
         "anchor": "x",
         "domain": [
          0,
          0.94
         ]
        },
        "yaxis2": {
         "anchor": "x",
         "overlaying": "y",
         "side": "right"
        }
       }
      },
      "text/html": [
       "<div>                            <div id=\"8fc922fd-778f-4e25-95bc-9ee4e675a770\" class=\"plotly-graph-div\" style=\"height:525px; width:100%;\"></div>            <script type=\"text/javascript\">                require([\"plotly\"], function(Plotly) {                    window.PLOTLYENV=window.PLOTLYENV || {};                                    if (document.getElementById(\"8fc922fd-778f-4e25-95bc-9ee4e675a770\")) {                    Plotly.newPlot(                        \"8fc922fd-778f-4e25-95bc-9ee4e675a770\",                        [{\"name\":\"20D Moving Avg.\",\"x\":[\"2021-09-01T00:00:00+00:00\",\"2021-09-02T00:00:00+00:00\",\"2021-09-03T00:00:00+00:00\",\"2021-09-04T00:00:00+00:00\",\"2021-09-05T00:00:00+00:00\",\"2021-09-06T00:00:00+00:00\",\"2021-09-07T00:00:00+00:00\",\"2021-09-08T00:00:00+00:00\",\"2021-09-09T00:00:00+00:00\",\"2021-09-10T00:00:00+00:00\",\"2021-09-11T00:00:00+00:00\",\"2021-09-12T00:00:00+00:00\",\"2021-09-13T00:00:00+00:00\",\"2021-09-14T00:00:00+00:00\",\"2021-09-15T00:00:00+00:00\",\"2021-09-16T00:00:00+00:00\",\"2021-09-17T00:00:00+00:00\",\"2021-09-18T00:00:00+00:00\",\"2021-09-19T00:00:00+00:00\",\"2021-09-20T00:00:00+00:00\",\"2021-09-21T00:00:00+00:00\",\"2021-09-22T00:00:00+00:00\",\"2021-09-23T00:00:00+00:00\",\"2021-09-24T00:00:00+00:00\",\"2021-09-25T00:00:00+00:00\",\"2021-09-26T00:00:00+00:00\",\"2021-09-27T00:00:00+00:00\",\"2021-09-28T00:00:00+00:00\",\"2021-09-29T00:00:00+00:00\",\"2021-09-30T00:00:00+00:00\",\"2021-10-01T00:00:00+00:00\",\"2021-10-02T00:00:00+00:00\",\"2021-10-03T00:00:00+00:00\",\"2021-10-04T00:00:00+00:00\",\"2021-10-05T00:00:00+00:00\",\"2021-10-06T00:00:00+00:00\",\"2021-10-07T00:00:00+00:00\",\"2021-10-08T00:00:00+00:00\",\"2021-10-09T00:00:00+00:00\",\"2021-10-10T00:00:00+00:00\",\"2021-10-11T00:00:00+00:00\",\"2021-10-12T00:00:00+00:00\",\"2021-10-13T00:00:00+00:00\",\"2021-10-14T00:00:00+00:00\",\"2021-10-15T00:00:00+00:00\",\"2021-10-16T00:00:00+00:00\",\"2021-10-17T00:00:00+00:00\",\"2021-10-18T00:00:00+00:00\",\"2021-10-19T00:00:00+00:00\",\"2021-10-20T00:00:00+00:00\",\"2021-10-21T00:00:00+00:00\",\"2021-10-22T00:00:00+00:00\",\"2021-10-23T00:00:00+00:00\",\"2021-10-24T00:00:00+00:00\",\"2021-10-25T00:00:00+00:00\",\"2021-10-26T00:00:00+00:00\",\"2021-10-27T00:00:00+00:00\",\"2021-10-28T00:00:00+00:00\",\"2021-10-29T00:00:00+00:00\",\"2021-10-30T00:00:00+00:00\",\"2021-10-31T00:00:00+00:00\",\"2021-11-01T00:00:00+00:00\",\"2021-11-02T00:00:00+00:00\",\"2021-11-03T00:00:00+00:00\",\"2021-11-04T00:00:00+00:00\",\"2021-11-05T00:00:00+00:00\",\"2021-11-06T00:00:00+00:00\",\"2021-11-07T00:00:00+00:00\",\"2021-11-08T00:00:00+00:00\",\"2021-11-09T00:00:00+00:00\",\"2021-11-10T00:00:00+00:00\",\"2021-11-11T00:00:00+00:00\",\"2021-11-12T00:00:00+00:00\",\"2021-11-13T00:00:00+00:00\",\"2021-11-14T00:00:00+00:00\",\"2021-11-15T00:00:00+00:00\",\"2021-11-16T00:00:00+00:00\",\"2021-11-17T00:00:00+00:00\",\"2021-11-18T00:00:00+00:00\",\"2021-11-19T00:00:00+00:00\",\"2021-11-20T00:00:00+00:00\",\"2021-11-21T00:00:00+00:00\",\"2021-11-22T00:00:00+00:00\",\"2021-11-23T00:00:00+00:00\",\"2021-11-24T00:00:00+00:00\",\"2021-11-25T00:00:00+00:00\",\"2021-11-26T00:00:00+00:00\",\"2021-11-27T00:00:00+00:00\",\"2021-11-28T00:00:00+00:00\",\"2021-11-29T00:00:00+00:00\",\"2021-11-30T00:00:00+00:00\",\"2021-12-01T00:00:00+00:00\",\"2021-12-02T00:00:00+00:00\",\"2021-12-03T00:00:00+00:00\",\"2021-12-04T00:00:00+00:00\",\"2021-12-05T00:00:00+00:00\",\"2021-12-06T00:00:00+00:00\",\"2021-12-07T00:00:00+00:00\",\"2021-12-08T00:00:00+00:00\",\"2021-12-09T00:00:00+00:00\",\"2021-12-10T00:00:00+00:00\",\"2021-12-11T00:00:00+00:00\",\"2021-12-12T00:00:00+00:00\",\"2021-12-13T00:00:00+00:00\",\"2021-12-14T00:00:00+00:00\",\"2021-12-15T00:00:00+00:00\",\"2021-12-16T00:00:00+00:00\",\"2021-12-17T00:00:00+00:00\",\"2021-12-18T00:00:00+00:00\",\"2021-12-19T00:00:00+00:00\",\"2021-12-20T00:00:00+00:00\",\"2021-12-21T00:00:00+00:00\",\"2021-12-22T00:00:00+00:00\",\"2021-12-23T00:00:00+00:00\",\"2021-12-24T00:00:00+00:00\",\"2021-12-25T00:00:00+00:00\",\"2021-12-26T00:00:00+00:00\",\"2021-12-27T00:00:00+00:00\",\"2021-12-28T00:00:00+00:00\",\"2021-12-29T00:00:00+00:00\",\"2021-12-30T00:00:00+00:00\",\"2021-12-31T00:00:00+00:00\",\"2022-01-01T00:00:00+00:00\",\"2022-01-02T00:00:00+00:00\",\"2022-01-03T00:00:00+00:00\",\"2022-01-04T00:00:00+00:00\",\"2022-01-05T00:00:00+00:00\",\"2022-01-06T00:00:00+00:00\",\"2022-01-07T00:00:00+00:00\",\"2022-01-08T00:00:00+00:00\",\"2022-01-09T00:00:00+00:00\",\"2022-01-10T00:00:00+00:00\",\"2022-01-11T00:00:00+00:00\",\"2022-01-12T00:00:00+00:00\",\"2022-01-13T00:00:00+00:00\",\"2022-01-14T00:00:00+00:00\",\"2022-01-15T00:00:00+00:00\",\"2022-01-16T00:00:00+00:00\",\"2022-01-17T00:00:00+00:00\",\"2022-01-18T00:00:00+00:00\",\"2022-01-19T00:00:00+00:00\",\"2022-01-20T00:00:00+00:00\",\"2022-01-21T00:00:00+00:00\",\"2022-01-22T00:00:00+00:00\",\"2022-01-23T00:00:00+00:00\",\"2022-01-24T00:00:00+00:00\",\"2022-01-25T00:00:00+00:00\",\"2022-01-26T00:00:00+00:00\",\"2022-01-27T00:00:00+00:00\",\"2022-01-28T00:00:00+00:00\",\"2022-01-29T00:00:00+00:00\",\"2022-01-30T00:00:00+00:00\",\"2022-01-31T00:00:00+00:00\",\"2022-02-01T00:00:00+00:00\",\"2022-02-02T00:00:00+00:00\",\"2022-02-03T00:00:00+00:00\",\"2022-02-04T00:00:00+00:00\",\"2022-02-05T00:00:00+00:00\",\"2022-02-06T00:00:00+00:00\",\"2022-02-07T00:00:00+00:00\",\"2022-02-08T00:00:00+00:00\",\"2022-02-09T00:00:00+00:00\",\"2022-02-10T00:00:00+00:00\",\"2022-02-11T00:00:00+00:00\",\"2022-02-12T00:00:00+00:00\",\"2022-02-13T00:00:00+00:00\",\"2022-02-14T00:00:00+00:00\",\"2022-02-15T00:00:00+00:00\",\"2022-02-16T00:00:00+00:00\",\"2022-02-17T00:00:00+00:00\",\"2022-02-18T00:00:00+00:00\",\"2022-02-19T00:00:00+00:00\",\"2022-02-20T00:00:00+00:00\",\"2022-02-21T00:00:00+00:00\",\"2022-02-22T00:00:00+00:00\",\"2022-02-23T00:00:00+00:00\",\"2022-02-24T00:00:00+00:00\",\"2022-02-25T00:00:00+00:00\",\"2022-02-26T00:00:00+00:00\",\"2022-02-27T00:00:00+00:00\",\"2022-02-28T00:00:00+00:00\",\"2022-03-01T00:00:00+00:00\",\"2022-03-02T00:00:00+00:00\",\"2022-03-03T00:00:00+00:00\",\"2022-03-04T00:00:00+00:00\",\"2022-03-05T00:00:00+00:00\",\"2022-03-06T00:00:00+00:00\",\"2022-03-07T00:00:00+00:00\",\"2022-03-08T00:00:00+00:00\",\"2022-03-09T00:00:00+00:00\",\"2022-03-10T00:00:00+00:00\",\"2022-03-11T00:00:00+00:00\",\"2022-03-12T00:00:00+00:00\",\"2022-03-13T00:00:00+00:00\",\"2022-03-14T00:00:00+00:00\",\"2022-03-15T00:00:00+00:00\",\"2022-03-16T00:00:00+00:00\",\"2022-03-17T00:00:00+00:00\",\"2022-03-18T00:00:00+00:00\",\"2022-03-19T00:00:00+00:00\",\"2022-03-20T00:00:00+00:00\",\"2022-03-21T00:00:00+00:00\",\"2022-03-22T00:00:00+00:00\",\"2022-03-23T00:00:00+00:00\",\"2022-03-24T00:00:00+00:00\",\"2022-03-25T00:00:00+00:00\",\"2022-03-26T00:00:00+00:00\",\"2022-03-27T00:00:00+00:00\",\"2022-03-28T00:00:00+00:00\",\"2022-03-29T00:00:00+00:00\",\"2022-03-30T00:00:00+00:00\",\"2022-03-31T00:00:00+00:00\",\"2022-04-01T00:00:00+00:00\",\"2022-04-02T00:00:00+00:00\",\"2022-04-03T00:00:00+00:00\",\"2022-04-04T00:00:00+00:00\",\"2022-04-05T00:00:00+00:00\",\"2022-04-06T00:00:00+00:00\",\"2022-04-07T00:00:00+00:00\",\"2022-04-08T00:00:00+00:00\",\"2022-04-09T00:00:00+00:00\",\"2022-04-10T00:00:00+00:00\",\"2022-04-11T00:00:00+00:00\",\"2022-04-12T00:00:00+00:00\",\"2022-04-13T00:00:00+00:00\",\"2022-04-14T00:00:00+00:00\",\"2022-04-15T00:00:00+00:00\",\"2022-04-16T00:00:00+00:00\",\"2022-04-17T00:00:00+00:00\",\"2022-04-18T00:00:00+00:00\",\"2022-04-19T00:00:00+00:00\",\"2022-04-20T00:00:00+00:00\",\"2022-04-21T00:00:00+00:00\",\"2022-04-22T00:00:00+00:00\",\"2022-04-23T00:00:00+00:00\",\"2022-04-24T00:00:00+00:00\",\"2022-04-25T00:00:00+00:00\",\"2022-04-26T00:00:00+00:00\",\"2022-04-27T00:00:00+00:00\",\"2022-04-28T00:00:00+00:00\",\"2022-04-29T00:00:00+00:00\",\"2022-04-30T00:00:00+00:00\",\"2022-05-01T00:00:00+00:00\",\"2022-05-02T00:00:00+00:00\",\"2022-05-03T00:00:00+00:00\",\"2022-05-04T00:00:00+00:00\",\"2022-05-05T00:00:00+00:00\",\"2022-05-06T00:00:00+00:00\",\"2022-05-07T00:00:00+00:00\",\"2022-05-08T00:00:00+00:00\",\"2022-05-09T00:00:00+00:00\",\"2022-05-10T00:00:00+00:00\",\"2022-05-11T00:00:00+00:00\",\"2022-05-12T00:00:00+00:00\",\"2022-05-13T00:00:00+00:00\",\"2022-05-14T00:00:00+00:00\",\"2022-05-15T00:00:00+00:00\",\"2022-05-16T00:00:00+00:00\",\"2022-05-17T00:00:00+00:00\",\"2022-05-18T00:00:00+00:00\",\"2022-05-19T00:00:00+00:00\",\"2022-05-20T00:00:00+00:00\",\"2022-05-21T00:00:00+00:00\",\"2022-05-22T00:00:00+00:00\",\"2022-05-23T00:00:00+00:00\",\"2022-05-24T00:00:00+00:00\",\"2022-05-25T00:00:00+00:00\",\"2022-05-26T00:00:00+00:00\",\"2022-05-27T00:00:00+00:00\",\"2022-05-28T00:00:00+00:00\",\"2022-05-29T00:00:00+00:00\",\"2022-05-30T00:00:00+00:00\",\"2022-05-31T00:00:00+00:00\",\"2022-06-01T00:00:00+00:00\",\"2022-06-02T00:00:00+00:00\",\"2022-06-03T00:00:00+00:00\",\"2022-06-04T00:00:00+00:00\",\"2022-06-05T00:00:00+00:00\",\"2022-06-06T00:00:00+00:00\",\"2022-06-07T00:00:00+00:00\",\"2022-06-08T00:00:00+00:00\",\"2022-06-09T00:00:00+00:00\",\"2022-06-10T00:00:00+00:00\",\"2022-06-11T00:00:00+00:00\",\"2022-06-12T00:00:00+00:00\",\"2022-06-13T00:00:00+00:00\",\"2022-06-14T00:00:00+00:00\",\"2022-06-15T00:00:00+00:00\",\"2022-06-16T00:00:00+00:00\",\"2022-06-17T00:00:00+00:00\",\"2022-06-18T00:00:00+00:00\",\"2022-06-19T00:00:00+00:00\",\"2022-06-20T00:00:00+00:00\",\"2022-06-21T00:00:00+00:00\",\"2022-06-22T00:00:00+00:00\",\"2022-06-23T00:00:00+00:00\",\"2022-06-24T00:00:00+00:00\",\"2022-06-25T00:00:00+00:00\",\"2022-06-26T00:00:00+00:00\",\"2022-06-27T00:00:00+00:00\",\"2022-06-28T00:00:00+00:00\",\"2022-06-29T00:00:00+00:00\",\"2022-06-30T00:00:00+00:00\",\"2022-07-01T00:00:00+00:00\",\"2022-07-02T00:00:00+00:00\",\"2022-07-03T00:00:00+00:00\",\"2022-07-04T00:00:00+00:00\",\"2022-07-05T00:00:00+00:00\",\"2022-07-06T00:00:00+00:00\",\"2022-07-07T00:00:00+00:00\",\"2022-07-08T00:00:00+00:00\",\"2022-07-09T00:00:00+00:00\",\"2022-07-10T00:00:00+00:00\",\"2022-07-11T00:00:00+00:00\",\"2022-07-12T00:00:00+00:00\",\"2022-07-13T00:00:00+00:00\",\"2022-07-14T00:00:00+00:00\",\"2022-07-15T00:00:00+00:00\",\"2022-07-16T00:00:00+00:00\",\"2022-07-17T00:00:00+00:00\",\"2022-07-18T00:00:00+00:00\",\"2022-07-19T00:00:00+00:00\",\"2022-07-20T00:00:00+00:00\",\"2022-07-21T00:00:00+00:00\",\"2022-07-22T00:00:00+00:00\",\"2022-07-23T00:00:00+00:00\",\"2022-07-24T00:00:00+00:00\",\"2022-07-25T00:00:00+00:00\",\"2022-07-26T00:00:00+00:00\",\"2022-07-27T00:00:00+00:00\",\"2022-07-28T00:00:00+00:00\",\"2022-07-29T00:00:00+00:00\",\"2022-07-30T00:00:00+00:00\",\"2022-07-31T00:00:00+00:00\",\"2022-08-01T00:00:00+00:00\",\"2022-08-02T00:00:00+00:00\",\"2022-08-03T00:00:00+00:00\",\"2022-08-04T00:00:00+00:00\",\"2022-08-05T00:00:00+00:00\",\"2022-08-06T00:00:00+00:00\",\"2022-08-07T00:00:00+00:00\",\"2022-08-08T00:00:00+00:00\",\"2022-08-09T00:00:00+00:00\",\"2022-08-10T00:00:00+00:00\",\"2022-08-11T00:00:00+00:00\",\"2022-08-12T00:00:00+00:00\",\"2022-08-13T00:00:00+00:00\",\"2022-08-14T00:00:00+00:00\",\"2022-08-15T00:00:00+00:00\",\"2022-08-16T00:00:00+00:00\",\"2022-08-17T00:00:00+00:00\",\"2022-08-18T00:00:00+00:00\",\"2022-08-19T00:00:00+00:00\",\"2022-08-20T00:00:00+00:00\",\"2022-08-21T00:00:00+00:00\",\"2022-08-22T00:00:00+00:00\",\"2022-08-23T00:00:00+00:00\",\"2022-08-24T00:00:00+00:00\",\"2022-08-25T00:00:00+00:00\",\"2022-08-26T00:00:00+00:00\",\"2022-08-27T00:00:00+00:00\",\"2022-08-28T00:00:00+00:00\",\"2022-08-29T00:00:00+00:00\",\"2022-08-30T00:00:00+00:00\",\"2022-08-31T00:00:00+00:00\",\"2022-09-01T00:00:00+00:00\",\"2022-09-02T00:00:00+00:00\",\"2022-09-03T00:00:00+00:00\",\"2022-09-04T00:00:00+00:00\",\"2022-09-05T00:00:00+00:00\",\"2022-09-06T00:00:00+00:00\",\"2022-09-07T00:00:00+00:00\",\"2022-09-08T00:00:00+00:00\",\"2022-09-09T00:00:00+00:00\",\"2022-09-10T00:00:00+00:00\",\"2022-09-11T00:00:00+00:00\",\"2022-09-12T00:00:00+00:00\",\"2022-09-13T00:00:00+00:00\",\"2022-09-14T00:00:00+00:00\",\"2022-09-15T00:00:00+00:00\",\"2022-09-16T00:00:00+00:00\",\"2022-09-17T00:00:00+00:00\",\"2022-09-18T00:00:00+00:00\",\"2022-09-19T00:00:00+00:00\",\"2022-09-20T00:00:00+00:00\",\"2022-09-21T00:00:00+00:00\",\"2022-09-22T00:00:00+00:00\",\"2022-09-23T00:00:00+00:00\",\"2022-09-24T00:00:00+00:00\",\"2022-09-25T00:00:00+00:00\",\"2022-09-26T00:00:00+00:00\",\"2022-09-27T00:00:00+00:00\",\"2022-09-28T00:00:00+00:00\",\"2022-09-29T00:00:00+00:00\",\"2022-09-30T00:00:00+00:00\",\"2022-10-01T00:00:00+00:00\",\"2022-10-02T00:00:00+00:00\",\"2022-10-03T00:00:00+00:00\",\"2022-10-04T00:00:00+00:00\",\"2022-10-05T00:00:00+00:00\",\"2022-10-06T00:00:00+00:00\",\"2022-10-07T00:00:00+00:00\",\"2022-10-08T00:00:00+00:00\",\"2022-10-09T00:00:00+00:00\",\"2022-10-10T00:00:00+00:00\",\"2022-10-11T00:00:00+00:00\",\"2022-10-12T00:00:00+00:00\",\"2022-10-13T00:00:00+00:00\",\"2022-10-14T00:00:00+00:00\",\"2022-10-15T00:00:00+00:00\",\"2022-10-16T00:00:00+00:00\",\"2022-10-17T00:00:00+00:00\",\"2022-10-18T00:00:00+00:00\",\"2022-10-19T00:00:00+00:00\",\"2022-10-20T00:00:00+00:00\",\"2022-10-21T00:00:00+00:00\",\"2022-10-22T00:00:00+00:00\",\"2022-10-23T00:00:00+00:00\",\"2022-10-24T00:00:00+00:00\",\"2022-10-25T00:00:00+00:00\",\"2022-10-26T00:00:00+00:00\",\"2022-10-27T00:00:00+00:00\",\"2022-10-28T00:00:00+00:00\",\"2022-10-29T00:00:00+00:00\",\"2022-10-30T00:00:00+00:00\",\"2022-10-31T00:00:00+00:00\",\"2022-11-01T00:00:00+00:00\",\"2022-11-02T00:00:00+00:00\",\"2022-11-03T00:00:00+00:00\",\"2022-11-04T00:00:00+00:00\",\"2022-11-05T00:00:00+00:00\",\"2022-11-06T00:00:00+00:00\",\"2022-11-07T00:00:00+00:00\",\"2022-11-08T00:00:00+00:00\",\"2022-11-09T00:00:00+00:00\",\"2022-11-10T00:00:00+00:00\",\"2022-11-11T00:00:00+00:00\",\"2022-11-12T00:00:00+00:00\",\"2022-11-13T00:00:00+00:00\",\"2022-11-14T00:00:00+00:00\",\"2022-11-15T00:00:00+00:00\",\"2022-11-16T00:00:00+00:00\",\"2022-11-17T00:00:00+00:00\",\"2022-11-18T00:00:00+00:00\",\"2022-11-19T00:00:00+00:00\",\"2022-11-20T00:00:00+00:00\",\"2022-11-21T00:00:00+00:00\",\"2022-11-22T00:00:00+00:00\",\"2022-11-23T00:00:00+00:00\",\"2022-11-24T00:00:00+00:00\",\"2022-11-25T00:00:00+00:00\",\"2022-11-26T00:00:00+00:00\",\"2022-11-27T00:00:00+00:00\",\"2022-11-28T00:00:00+00:00\",\"2022-11-29T00:00:00+00:00\"],\"y\":[null,null,null,null,null,null,null,null,null,null,null,null,null,null,null,null,null,null,null,3529.8999877929687,3476.3801391601564,3440.7240356445313,3401.469482421875,3353.6615234375,3302.3331298828125,3259.0274291992187,3234.414660644531,3199.9137329101563,3171.203894042969,3160.712548828125,3162.5744506835936,3161.65244140625,3168.294787597656,3165.8407592773438,3161.002551269531,3161.4659057617187,3170.937707519531,3177.524755859375,3189.8381958007812,3213.1811645507814,3252.2273071289064,3272.9625732421873,3295.496472167969,3338.213720703125,3385.067175292969,3423.473010253906,3469.1212890625,3516.194470214844,3567.4198486328123,3625.1355102539064,3662.4758422851564,3691.4002197265627,3729.065466308594,3764.456164550781,3799.4240844726564,3826.9510864257813,3844.0652099609374,3880.2431884765624,3922.194677734375,3967.1845581054686,4004.3205688476564,4045.9232543945313,4094.8531127929687,4135.912097167969,4169.646569824219,4202.439624023437,4236.1634521484375,4279.753173828125,4326.475,4355.4288330078125,4384.521411132812,4422.531530761718,4447.304113769531,4475.481982421875,4495.906079101563,4517.226171875,4531.531567382813,4531.5453125,4510.84052734375,4509.47333984375,4515.566186523438,4512.821484375,4488.004431152343,4474.682922363281,4459.815783691406,4449.240783691406,4424.707177734375,4398.525048828125,4372.643359375,4358.145166015625,4357.910400390625,4350.740698242187,4342.950048828125,4321.412329101562,4296.073754882813,4278.114697265625,4285.23330078125,4286.606689453125,4308.542041015625,4299.617504882813,4274.545751953125,4265.281726074219,4267.581494140625,4239.754650878906,4215.027600097656,4202.209875488281,4198.787915039063,4187.916638183594,4171.236962890625,4145.111340332031,4110.2296142578125,4081.893103027344,4055.432971191406,4049.798449707031,4046.218225097656,4040.9661376953127,4026.3956787109373,4012.519982910156,3980.5967407226562,3956.0325317382812,3946.300329589844,3926.2093505859375,3907.971545410156,3910.2384521484373,3911.03544921875,3899.81884765625,3879.214709472656,3856.160791015625,3817.7783081054686,3776.247314453125,3737.442663574219,3690.5845581054687,3653.38515625,3616.5972900390625,3576.6125732421874,3537.448596191406,3500.6087280273437,3466.27744140625,3436.848034667969,3413.622705078125,3382.721398925781,3348.6457641601564,3288.0574951171875,3216.8383056640623,3155.521240234375,3087.8360229492187,3033.113427734375,2985.59453125,2947.0840698242187,2919.8400390625,2891.8067016601562,2867.8251342773438,2840.33349609375,2811.3264404296874,2783.0547119140624,2751.5127685546877,2734.165576171875,2717.3518920898437,2709.61044921875,2708.5327270507814,2709.871862792969,2721.788708496094,2747.7662353515625,2773.876354980469,2792.992541503906,2815.148095703125,2839.02529296875,2874.617639160156,2909.85908203125,2926.578576660156,2936.0107177734376,2944.0224487304686,2941.0409301757813,2930.12587890625,2927.94814453125,2923.5079956054688,2904.2320068359377,2891.7263793945312,2877.908166503906,2851.874719238281,2841.704345703125,2828.355749511719,2821.9875610351564,2817.341833496094,2802.331494140625,2791.3998779296876,2772.4777954101564,2738.3724975585938,2710.8183715820314,2703.233447265625,2694.349499511719,2684.1425903320314,2681.4478759765625,2678.704296875,2676.274133300781,2677.763635253906,2686.4630615234373,2688.97900390625,2697.190563964844,2713.413330078125,2710.4762329101563,2706.7508056640627,2707.9014404296877,2717.73134765625,2742.276647949219,2764.3686645507814,2793.775744628906,2833.466064453125,2871.460412597656,2905.0706298828127,2943.9260986328127,2980.0300903320312,3023.7699951171876,3070.075732421875,3116.6826049804686,3161.7371826171875,3193.7240234375,3211.5658935546876,3225.9624755859377,3238.2533203125,3258.326171875,3274.0206909179688,3274.416748046875,3274.382214355469,3274.8963256835937,3270.5582275390625,3265.445104980469,3253.98173828125,3236.820178222656,3219.601123046875,3205.548547363281,3195.3536987304688,3172.2501220703125,3148.2389404296873,3119.002966308594,3089.0775390625,3068.9575927734377,3050.7879150390627,3033.570666503906,3020.814013671875,2998.498291015625,2974.4142822265626,2966.749475097656,2958.101171875,2941.357775878906,2937.3945434570314,2922.809375,2904.4428466796876,2886.5773315429688,2859.5699951171873,2816.636193847656,2779.924450683594,2734.1558471679687,2683.999139404297,2637.814349365234,2594.4914123535154,2551.3070739746095,2512.028454589844,2472.102429199219,2421.0881896972655,2381.2249084472655,2342.781353759766,2300.119464111328,2259.4074523925783,2218.8427307128904,2170.759631347656,2130.5403686523437,2085.9870483398436,2040.4285400390625,2002.4526306152343,1980.7826599121095,1963.4291748046876,1956.9401428222657,1950.0335327148437,1941.0201477050782,1926.960382080078,1909.755517578125,1898.8794677734375,1887.3234924316407,1882.1931030273438,1870.9549072265625,1862.3804260253905,1846.9066223144532,1821.2312866210937,1794.8830200195312,1756.163018798828,1719.5047668457032,1690.9694213867188,1658.109814453125,1624.5386901855468,1583.618978881836,1540.179739379883,1499.4454620361328,1464.5082244873047,1425.371792602539,1393.7871978759765,1365.0489593505858,1336.9610565185546,1303.9881561279296,1272.9697723388672,1240.5201202392577,1205.976010131836,1176.0888397216797,1152.5940338134765,1133.6588470458985,1127.1180572509766,1124.0878692626952,1119.1545989990234,1125.116763305664,1132.6704681396484,1144.1139404296875,1148.580029296875,1150.617987060547,1149.2385864257812,1148.5770751953125,1147.0870971679688,1145.3211730957032,1144.8052856445313,1152.4450256347657,1159.6927795410156,1181.3997131347655,1203.6012817382812,1226.2463745117188,1252.0954833984374,1275.6401000976562,1299.4166259765625,1321.8375061035156,1337.3796264648438,1350.1212646484375,1370.0532287597657,1395.2013244628906,1420.7227600097656,1447.1011535644532,1476.3151916503907,1506.1653991699218,1532.1333129882812,1553.5007263183593,1572.2545593261718,1591.2359680175782,1608.8870849609375,1614.9187316894531,1626.5457763671875,1635.686993408203,1649.4366516113282,1666.6276000976563,1687.025048828125,1706.1180419921875,1730.6889709472657,1753.810040283203,1765.9053771972656,1771.2819519042969,1777.2619934082031,1773.1128845214844,1767.88720703125,1767.0933654785156,1766.57138671875,1768.7661560058593,1771.2088256835937,1769.4189453125,1760.2251831054687,1749.827392578125,1732.578955078125,1725.079571533203,1708.6843811035155,1692.307421875,1673.7539367675781,1653.5481323242188,1634.5516662597656,1618.2223388671875,1605.1745300292969,1591.6119750976563,1580.756903076172,1581.8749206542968,1588.97900390625,1596.8232421875,1603.7879516601563,1606.3377197265625,1602.5241577148438,1599.4390563964844,1597.634588623047,1594.6872253417969,1596.6469421386719,1585.7615295410155,1578.4466552734375,1566.9818176269532,1550.303369140625,1537.8263549804688,1526.3956970214845,1513.41328125,1497.264959716797,1485.9435424804688,1470.954608154297,1456.0577697753906,1436.8861145019532,1414.4748596191407,1391.9670776367188,1370.0834899902343,1357.2160522460938,1343.5846313476563,1337.6418151855469,1333.6049011230468,1326.7436645507812,1325.7522338867188,1323.0053771972657,1321.352850341797,1322.7012451171875,1321.0625549316405,1319.0557739257813,1318.0272155761718,1317.0599609375,1315.6087829589844,1315.6880798339844,1314.3398864746093,1311.844482421875,1309.6055969238282,1309.0206970214845,1310.9309814453125,1312.9313720703126,1312.074969482422,1317.5163818359374,1328.2592407226562,1337.3521362304687,1349.351007080078,1364.2057189941406,1379.1780029296874,1393.834942626953,1408.074853515625,1419.654248046875,1431.3602294921875,1449.8713134765626,1465.9548828125,1477.980938720703,1490.8881530761719,1493.2427185058593,1484.091162109375,1484.067071533203,1482.7131652832031,1477.3042297363281,1471.145263671875,1460.1422058105468,1444.40068359375,1429.4620666503906,1411.7286010742187,1391.35869140625,1372.7408630371094,1351.2284729003907,1327.6608947753907,1308.4339782714844,1291.0168701171874,1268.961358642578,1247.5092529296876,1229.1924133300781,1210.5191955566406,1202.3817260742187,1208.2182983398438],\"type\":\"scatter\",\"xaxis\":\"x\",\"yaxis\":\"y\"},{\"name\":\"RTX 3080 Price (Bi-Weekly)\",\"x\":[\"September 2021\",\"October 2021\",\"November 2021\",\"December 2021\",\"January 2022\",\"February 2022\",\"March 2022\",\"April 2022\",\"May 2022\",\"June 2022\",\"July 2022\",\"August 2022\",\"September 2022\",\"October 2022\",\"November 2022\"],\"y\":[\"1677\",\"1666\",\"1720\",\"1783\",\"1613\",\"1440\",\"1283\",\"1114\",\"899\",\"728\",\"696\",\"665\",\"585\",\"562\",\"594\"],\"type\":\"scatter\",\"xaxis\":\"x2\",\"yaxis\":\"y2\"}],                        {\"template\":{\"data\":{\"histogram2dcontour\":[{\"type\":\"histogram2dcontour\",\"colorbar\":{\"outlinewidth\":0,\"ticks\":\"\"},\"colorscale\":[[0.0,\"#0d0887\"],[0.1111111111111111,\"#46039f\"],[0.2222222222222222,\"#7201a8\"],[0.3333333333333333,\"#9c179e\"],[0.4444444444444444,\"#bd3786\"],[0.5555555555555556,\"#d8576b\"],[0.6666666666666666,\"#ed7953\"],[0.7777777777777778,\"#fb9f3a\"],[0.8888888888888888,\"#fdca26\"],[1.0,\"#f0f921\"]]}],\"choropleth\":[{\"type\":\"choropleth\",\"colorbar\":{\"outlinewidth\":0,\"ticks\":\"\"}}],\"histogram2d\":[{\"type\":\"histogram2d\",\"colorbar\":{\"outlinewidth\":0,\"ticks\":\"\"},\"colorscale\":[[0.0,\"#0d0887\"],[0.1111111111111111,\"#46039f\"],[0.2222222222222222,\"#7201a8\"],[0.3333333333333333,\"#9c179e\"],[0.4444444444444444,\"#bd3786\"],[0.5555555555555556,\"#d8576b\"],[0.6666666666666666,\"#ed7953\"],[0.7777777777777778,\"#fb9f3a\"],[0.8888888888888888,\"#fdca26\"],[1.0,\"#f0f921\"]]}],\"heatmap\":[{\"type\":\"heatmap\",\"colorbar\":{\"outlinewidth\":0,\"ticks\":\"\"},\"colorscale\":[[0.0,\"#0d0887\"],[0.1111111111111111,\"#46039f\"],[0.2222222222222222,\"#7201a8\"],[0.3333333333333333,\"#9c179e\"],[0.4444444444444444,\"#bd3786\"],[0.5555555555555556,\"#d8576b\"],[0.6666666666666666,\"#ed7953\"],[0.7777777777777778,\"#fb9f3a\"],[0.8888888888888888,\"#fdca26\"],[1.0,\"#f0f921\"]]}],\"heatmapgl\":[{\"type\":\"heatmapgl\",\"colorbar\":{\"outlinewidth\":0,\"ticks\":\"\"},\"colorscale\":[[0.0,\"#0d0887\"],[0.1111111111111111,\"#46039f\"],[0.2222222222222222,\"#7201a8\"],[0.3333333333333333,\"#9c179e\"],[0.4444444444444444,\"#bd3786\"],[0.5555555555555556,\"#d8576b\"],[0.6666666666666666,\"#ed7953\"],[0.7777777777777778,\"#fb9f3a\"],[0.8888888888888888,\"#fdca26\"],[1.0,\"#f0f921\"]]}],\"contourcarpet\":[{\"type\":\"contourcarpet\",\"colorbar\":{\"outlinewidth\":0,\"ticks\":\"\"}}],\"contour\":[{\"type\":\"contour\",\"colorbar\":{\"outlinewidth\":0,\"ticks\":\"\"},\"colorscale\":[[0.0,\"#0d0887\"],[0.1111111111111111,\"#46039f\"],[0.2222222222222222,\"#7201a8\"],[0.3333333333333333,\"#9c179e\"],[0.4444444444444444,\"#bd3786\"],[0.5555555555555556,\"#d8576b\"],[0.6666666666666666,\"#ed7953\"],[0.7777777777777778,\"#fb9f3a\"],[0.8888888888888888,\"#fdca26\"],[1.0,\"#f0f921\"]]}],\"surface\":[{\"type\":\"surface\",\"colorbar\":{\"outlinewidth\":0,\"ticks\":\"\"},\"colorscale\":[[0.0,\"#0d0887\"],[0.1111111111111111,\"#46039f\"],[0.2222222222222222,\"#7201a8\"],[0.3333333333333333,\"#9c179e\"],[0.4444444444444444,\"#bd3786\"],[0.5555555555555556,\"#d8576b\"],[0.6666666666666666,\"#ed7953\"],[0.7777777777777778,\"#fb9f3a\"],[0.8888888888888888,\"#fdca26\"],[1.0,\"#f0f921\"]]}],\"mesh3d\":[{\"type\":\"mesh3d\",\"colorbar\":{\"outlinewidth\":0,\"ticks\":\"\"}}],\"scatter\":[{\"fillpattern\":{\"fillmode\":\"overlay\",\"size\":10,\"solidity\":0.2},\"type\":\"scatter\"}],\"parcoords\":[{\"type\":\"parcoords\",\"line\":{\"colorbar\":{\"outlinewidth\":0,\"ticks\":\"\"}}}],\"scatterpolargl\":[{\"type\":\"scatterpolargl\",\"marker\":{\"colorbar\":{\"outlinewidth\":0,\"ticks\":\"\"}}}],\"bar\":[{\"error_x\":{\"color\":\"#2a3f5f\"},\"error_y\":{\"color\":\"#2a3f5f\"},\"marker\":{\"line\":{\"color\":\"#E5ECF6\",\"width\":0.5},\"pattern\":{\"fillmode\":\"overlay\",\"size\":10,\"solidity\":0.2}},\"type\":\"bar\"}],\"scattergeo\":[{\"type\":\"scattergeo\",\"marker\":{\"colorbar\":{\"outlinewidth\":0,\"ticks\":\"\"}}}],\"scatterpolar\":[{\"type\":\"scatterpolar\",\"marker\":{\"colorbar\":{\"outlinewidth\":0,\"ticks\":\"\"}}}],\"histogram\":[{\"marker\":{\"pattern\":{\"fillmode\":\"overlay\",\"size\":10,\"solidity\":0.2}},\"type\":\"histogram\"}],\"scattergl\":[{\"type\":\"scattergl\",\"marker\":{\"colorbar\":{\"outlinewidth\":0,\"ticks\":\"\"}}}],\"scatter3d\":[{\"type\":\"scatter3d\",\"line\":{\"colorbar\":{\"outlinewidth\":0,\"ticks\":\"\"}},\"marker\":{\"colorbar\":{\"outlinewidth\":0,\"ticks\":\"\"}}}],\"scattermapbox\":[{\"type\":\"scattermapbox\",\"marker\":{\"colorbar\":{\"outlinewidth\":0,\"ticks\":\"\"}}}],\"scatterternary\":[{\"type\":\"scatterternary\",\"marker\":{\"colorbar\":{\"outlinewidth\":0,\"ticks\":\"\"}}}],\"scattercarpet\":[{\"type\":\"scattercarpet\",\"marker\":{\"colorbar\":{\"outlinewidth\":0,\"ticks\":\"\"}}}],\"carpet\":[{\"aaxis\":{\"endlinecolor\":\"#2a3f5f\",\"gridcolor\":\"white\",\"linecolor\":\"white\",\"minorgridcolor\":\"white\",\"startlinecolor\":\"#2a3f5f\"},\"baxis\":{\"endlinecolor\":\"#2a3f5f\",\"gridcolor\":\"white\",\"linecolor\":\"white\",\"minorgridcolor\":\"white\",\"startlinecolor\":\"#2a3f5f\"},\"type\":\"carpet\"}],\"table\":[{\"cells\":{\"fill\":{\"color\":\"#EBF0F8\"},\"line\":{\"color\":\"white\"}},\"header\":{\"fill\":{\"color\":\"#C8D4E3\"},\"line\":{\"color\":\"white\"}},\"type\":\"table\"}],\"barpolar\":[{\"marker\":{\"line\":{\"color\":\"#E5ECF6\",\"width\":0.5},\"pattern\":{\"fillmode\":\"overlay\",\"size\":10,\"solidity\":0.2}},\"type\":\"barpolar\"}],\"pie\":[{\"automargin\":true,\"type\":\"pie\"}]},\"layout\":{\"autotypenumbers\":\"strict\",\"colorway\":[\"#636efa\",\"#EF553B\",\"#00cc96\",\"#ab63fa\",\"#FFA15A\",\"#19d3f3\",\"#FF6692\",\"#B6E880\",\"#FF97FF\",\"#FECB52\"],\"font\":{\"color\":\"#2a3f5f\"},\"hovermode\":\"closest\",\"hoverlabel\":{\"align\":\"left\"},\"paper_bgcolor\":\"white\",\"plot_bgcolor\":\"#E5ECF6\",\"polar\":{\"bgcolor\":\"#E5ECF6\",\"angularaxis\":{\"gridcolor\":\"white\",\"linecolor\":\"white\",\"ticks\":\"\"},\"radialaxis\":{\"gridcolor\":\"white\",\"linecolor\":\"white\",\"ticks\":\"\"}},\"ternary\":{\"bgcolor\":\"#E5ECF6\",\"aaxis\":{\"gridcolor\":\"white\",\"linecolor\":\"white\",\"ticks\":\"\"},\"baxis\":{\"gridcolor\":\"white\",\"linecolor\":\"white\",\"ticks\":\"\"},\"caxis\":{\"gridcolor\":\"white\",\"linecolor\":\"white\",\"ticks\":\"\"}},\"coloraxis\":{\"colorbar\":{\"outlinewidth\":0,\"ticks\":\"\"}},\"colorscale\":{\"sequential\":[[0.0,\"#0d0887\"],[0.1111111111111111,\"#46039f\"],[0.2222222222222222,\"#7201a8\"],[0.3333333333333333,\"#9c179e\"],[0.4444444444444444,\"#bd3786\"],[0.5555555555555556,\"#d8576b\"],[0.6666666666666666,\"#ed7953\"],[0.7777777777777778,\"#fb9f3a\"],[0.8888888888888888,\"#fdca26\"],[1.0,\"#f0f921\"]],\"sequentialminus\":[[0.0,\"#0d0887\"],[0.1111111111111111,\"#46039f\"],[0.2222222222222222,\"#7201a8\"],[0.3333333333333333,\"#9c179e\"],[0.4444444444444444,\"#bd3786\"],[0.5555555555555556,\"#d8576b\"],[0.6666666666666666,\"#ed7953\"],[0.7777777777777778,\"#fb9f3a\"],[0.8888888888888888,\"#fdca26\"],[1.0,\"#f0f921\"]],\"diverging\":[[0,\"#8e0152\"],[0.1,\"#c51b7d\"],[0.2,\"#de77ae\"],[0.3,\"#f1b6da\"],[0.4,\"#fde0ef\"],[0.5,\"#f7f7f7\"],[0.6,\"#e6f5d0\"],[0.7,\"#b8e186\"],[0.8,\"#7fbc41\"],[0.9,\"#4d9221\"],[1,\"#276419\"]]},\"xaxis\":{\"gridcolor\":\"white\",\"linecolor\":\"white\",\"ticks\":\"\",\"title\":{\"standoff\":15},\"zerolinecolor\":\"white\",\"automargin\":true,\"zerolinewidth\":2},\"yaxis\":{\"gridcolor\":\"white\",\"linecolor\":\"white\",\"ticks\":\"\",\"title\":{\"standoff\":15},\"zerolinecolor\":\"white\",\"automargin\":true,\"zerolinewidth\":2},\"scene\":{\"xaxis\":{\"backgroundcolor\":\"#E5ECF6\",\"gridcolor\":\"white\",\"linecolor\":\"white\",\"showbackground\":true,\"ticks\":\"\",\"zerolinecolor\":\"white\",\"gridwidth\":2},\"yaxis\":{\"backgroundcolor\":\"#E5ECF6\",\"gridcolor\":\"white\",\"linecolor\":\"white\",\"showbackground\":true,\"ticks\":\"\",\"zerolinecolor\":\"white\",\"gridwidth\":2},\"zaxis\":{\"backgroundcolor\":\"#E5ECF6\",\"gridcolor\":\"white\",\"linecolor\":\"white\",\"showbackground\":true,\"ticks\":\"\",\"zerolinecolor\":\"white\",\"gridwidth\":2}},\"shapedefaults\":{\"line\":{\"color\":\"#2a3f5f\"}},\"annotationdefaults\":{\"arrowcolor\":\"#2a3f5f\",\"arrowhead\":0,\"arrowwidth\":1},\"geo\":{\"bgcolor\":\"white\",\"landcolor\":\"#E5ECF6\",\"subunitcolor\":\"white\",\"showland\":true,\"showlakes\":true,\"lakecolor\":\"white\"},\"title\":{\"x\":0.05},\"mapbox\":{\"style\":\"light\"}}},\"xaxis\":{\"anchor\":\"y\",\"domain\":[0.0,0.94]},\"yaxis\":{\"anchor\":\"x\",\"domain\":[0,0.94]},\"yaxis2\":{\"anchor\":\"x\",\"overlaying\":\"y\",\"side\":\"right\"},\"xaxis2\":{\"anchor\":\"y\",\"overlaying\":\"x\",\"side\":\"top\"},\"autotypenumbers\":\"convert types\"},                        {\"responsive\": true}                    ).then(function(){\n",
       "                            \n",
       "var gd = document.getElementById('8fc922fd-778f-4e25-95bc-9ee4e675a770');\n",
       "var x = new MutationObserver(function (mutations, observer) {{\n",
       "        var display = window.getComputedStyle(gd).display;\n",
       "        if (!display || display === 'none') {{\n",
       "            console.log([gd, 'removed!']);\n",
       "            Plotly.purge(gd);\n",
       "            observer.disconnect();\n",
       "        }}\n",
       "}});\n",
       "\n",
       "// Listen for the removal of the full notebook cells\n",
       "var notebookContainer = gd.closest('#notebook-container');\n",
       "if (notebookContainer) {{\n",
       "    x.observe(notebookContainer, {childList: true});\n",
       "}}\n",
       "\n",
       "// Listen for the clearing of the current output cell\n",
       "var outputEl = gd.closest('.output');\n",
       "if (outputEl) {{\n",
       "    x.observe(outputEl, {childList: true});\n",
       "}}\n",
       "\n",
       "                        })                };                });            </script>        </div>"
      ]
     },
     "metadata": {},
     "output_type": "display_data"
    }
   ],
   "source": [
    "# fetch pricing history 20 days before to collate the same start day of the pricing index of the RTX 3080\n",
    "hist = ETH.history(start=\"2021-09-01\", end=\"2022-11-30\")\n",
    "\n",
    "# Compare MA of ETH to GPU Pricing\n",
    "comp_chart = make_subplots(specs=[[{\"secondary_y\":True}]])\n",
    "\n",
    "comp_chart.update_layout(xaxis2= {'anchor': 'y', 'overlaying': 'x', 'side': 'top'},\n",
    "                  yaxis_domain=[0, 0.94]);\n",
    "\n",
    "comp_chart.add_trace(\n",
    "    go.Scatter(\n",
    "    x=hist.index,\n",
    "    y = hist['Close'].rolling(20).mean(),\n",
    "    name = \"20D Moving Avg.\"),\n",
    "    secondary_y = False,\n",
    ")\n",
    "\n",
    "# Add subplot of the monthly price of the RTX 3080\n",
    "comp_chart.add_trace(\n",
    "    go.Scatter(\n",
    "    x = x2_val,\n",
    "    y = y2_val,\n",
    "    name = \"RTX 3080 Price (Bi-Weekly)\"),\n",
    "    secondary_y = True,\n",
    ")\n",
    "\n",
    "comp_chart.update_layout(\n",
    "    autotypenumbers = 'convert types'\n",
    ")\n",
    "\n",
    "\n",
    "comp_chart.data[1].update(xaxis='x2')\n",
    "comp_chart.show()"
   ]
  },
  {
   "cell_type": "markdown",
   "id": "4ef471fd",
   "metadata": {},
   "source": [
    "In our price analysis of Sept 2021 - Nov 2022, there are further correlations showing the impact the pricing of ETH had on the price of the RTX 3080. The major one being that when ETH took a nosedive in its value in 2022, an immediate effect on the price of the RTX 3080 can be seen as starting from Jan 2022, the price of the graphics card fell at what looks to be a constant rate, until settling at \\\\$594 USD in November 2022."
   ]
  },
  {
   "cell_type": "markdown",
   "id": "429b9637",
   "metadata": {},
   "source": [
    "### Final observations between ETH and GPU Pricing"
   ]
  },
  {
   "cell_type": "markdown",
   "id": "2c36502e",
   "metadata": {},
   "source": [
    "Although I was not expecting ETH to have such a direct impact on the price of the RTX 3080, I was surprised to see that when I analysed the two side-by-side, there were actually some similarities in the trend of the both their value.\n",
    "\n",
    "This leads me to make an assumption that the pricing of ETH during the seconds Crypto-Currency boom was a major contributing factor to customers being unable to secure a GPU for themselves over nearly a __2-year period.__\n",
    "\n",
    "Only when prices started to normalize in 2022 due to the crash were they able to buy a GPU without having to pay an exorbitant price."
   ]
  },
  {
   "cell_type": "markdown",
   "id": "3361c6f5",
   "metadata": {},
   "source": [
    "## (8) Conclusion"
   ]
  },
  {
   "cell_type": "markdown",
   "id": "2f2859fe",
   "metadata": {},
   "source": [
    "Through my research into the launch of Nvidia's Ampere family, I have answered my own questions and curiosities regarding the whole Graphics Card fiasco that occured. Even though I had some prior knowledge regarding how these factors had affected the market, I was not aware of the extent and scale of the problem until now.\n",
    "\n",
    "Although this analysis is interesting to myself, I understand that it is a very niche topic that caters to the interest of a particular audience, this may not be very useful/interesting to the general audience who have no knowledge regarding this.\n",
    "\n",
    "To increase the accuracy of my data and how i have conducted this analysis, I could also add the pricing of other graphics cards in the Ampere family to further prove that the RTX 3080 was not an outlier in its price inflation and also turn this piece into an analysis of the GPU market as a whole.\n",
    "\n",
    "My dataset can be used to give some insight into what could be factors affecting the launch and market price of future line-ups of Graphics Card families and help customers be aware of factors "
   ]
  }
 ],
 "metadata": {
  "kernelspec": {
   "display_name": "Python 3",
   "language": "python",
   "name": "python3"
  },
  "language_info": {
   "codemirror_mode": {
    "name": "ipython",
    "version": 3
   },
   "file_extension": ".py",
   "mimetype": "text/x-python",
   "name": "python",
   "nbconvert_exporter": "python",
   "pygments_lexer": "ipython3",
   "version": "3.8.8"
  }
 },
 "nbformat": 4,
 "nbformat_minor": 5
}
